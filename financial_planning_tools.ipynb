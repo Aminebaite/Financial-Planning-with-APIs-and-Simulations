{
 "cells": [
  {
   "cell_type": "markdown",
   "metadata": {},
   "source": [
    "# Financial Planning with APIs and Simulations\n",
    "\n",
    "In this Challenge, you’ll create two financial analysis tools by using a single Jupyter notebook:\n",
    "\n",
    "Part 1: A financial planner for emergencies. The members will be able to use this tool to visualize their current savings. The members can then determine if they have enough reserves for an emergency fund.\n",
    "\n",
    "Part 2: A financial planner for retirement. This tool will forecast the performance of their retirement portfolio in 30 years. To do this, the tool will make an Alpaca API call via the Alpaca SDK to get historical price data for use in Monte Carlo simulations.\n",
    "\n",
    "You’ll use the information from the Monte Carlo simulation to answer questions about the portfolio in your Jupyter notebook.\n",
    "\n"
   ]
  },
  {
   "cell_type": "code",
   "execution_count": 1,
   "metadata": {},
   "outputs": [],
   "source": [
    "# Import the required libraries and dependencies\n",
    "import os\n",
    "import requests\n",
    "import json\n",
    "import pandas as pd\n",
    "from dotenv import load_dotenv\n",
    "import alpaca_trade_api as tradeapi\n",
    "from MCForecastTools import MCSimulation\n",
    "\n",
    "%matplotlib inline"
   ]
  },
  {
   "cell_type": "code",
   "execution_count": 2,
   "metadata": {},
   "outputs": [
    {
     "data": {
      "text/plain": [
       "True"
      ]
     },
     "execution_count": 2,
     "metadata": {},
     "output_type": "execute_result"
    }
   ],
   "source": [
    "# Load the environment variables from the .env file\n",
    "#by calling the load_dotenv function\n",
    "load_dotenv()"
   ]
  },
  {
   "cell_type": "markdown",
   "metadata": {},
   "source": [
    "## Part 1: Create a Financial Planner for Emergencies"
   ]
  },
  {
   "cell_type": "markdown",
   "metadata": {},
   "source": [
    "### Evaluate the Cryptocurrency Wallet by Using the Requests Library\n",
    "\n",
    "In this section, you’ll determine the current value of a member’s cryptocurrency wallet. You’ll collect the current prices for the Bitcoin and Ethereum cryptocurrencies by using the Python Requests library. For the prototype, you’ll assume that the member holds the 1.2 Bitcoins (BTC) and 5.3 Ethereum coins (ETH). To do all this, complete the following steps:\n",
    "\n",
    "1. Create a variable named `monthly_income`, and set its value to `12000`.\n",
    "\n",
    "2. Use the Requests library to get the current price (in US dollars) of Bitcoin (BTC) and Ethereum (ETH) by using the API endpoints that the starter code supplies.\n",
    "\n",
    "3. Navigate the JSON response object to access the current price of each coin, and store each in a variable.\n",
    "\n",
    "    > **Hint** Note the specific identifier for each cryptocurrency in the API JSON response. The Bitcoin identifier is `1`, and the Ethereum identifier is `1027`.\n",
    "\n",
    "4. Calculate the value, in US dollars, of the current amount of each cryptocurrency and of the entire cryptocurrency wallet.\n",
    "\n"
   ]
  },
  {
   "cell_type": "code",
   "execution_count": 3,
   "metadata": {},
   "outputs": [],
   "source": [
    "# The current number of coins for each cryptocurrency asset held in the portfolio.\n",
    "btc_coins = 1.2\n",
    "eth_coins = 5.3"
   ]
  },
  {
   "cell_type": "markdown",
   "metadata": {},
   "source": [
    "#### Step 1: Create a variable named `monthly_income`, and set its value to `12000`."
   ]
  },
  {
   "cell_type": "code",
   "execution_count": 4,
   "metadata": {},
   "outputs": [],
   "source": [
    "# The monthly amount for the member's household income\n",
    "monthly_income = 12000\n",
    "\n"
   ]
  },
  {
   "cell_type": "markdown",
   "metadata": {},
   "source": [
    "#### Review the endpoint URLs for the API calls to Free Crypto API in order to get the current pricing information for both BTC and ETH."
   ]
  },
  {
   "cell_type": "code",
   "execution_count": 5,
   "metadata": {},
   "outputs": [],
   "source": [
    "# The Free Crypto API Call endpoint URLs for the held cryptocurrency assets\n",
    "btc_url = \"https://api.alternative.me/v2/ticker/Bitcoin/?convert=USD\"\n",
    "eth_url = \"https://api.alternative.me/v2/ticker/Ethereum/?convert=USD\""
   ]
  },
  {
   "cell_type": "markdown",
   "metadata": {},
   "source": [
    "#### Step 2. Use the Requests library to get the current price (in US dollars) of Bitcoin (BTC) and Ethereum (ETH) by using the API endpoints that the starter code supplied."
   ]
  },
  {
   "cell_type": "code",
   "execution_count": 6,
   "metadata": {},
   "outputs": [
    {
     "name": "stdout",
     "output_type": "stream",
     "text": [
      "{\n",
      "  \"data\": {\n",
      "    \"1\": {\n",
      "      \"circulating_supply\": 18951037,\n",
      "      \"id\": 1,\n",
      "      \"last_updated\": 1644217976,\n",
      "      \"max_supply\": 21000000,\n",
      "      \"name\": \"Bitcoin\",\n",
      "      \"quotes\": {\n",
      "        \"USD\": {\n",
      "          \"market_cap\": 811215971534,\n",
      "          \"percent_change_1h\": -0.243646078820449,\n",
      "          \"percent_change_24h\": 2.92346109545701,\n",
      "          \"percent_change_7d\": 12.5793068344622,\n",
      "          \"percentage_change_1h\": -0.243646078820449,\n",
      "          \"percentage_change_24h\": 2.92346109545701,\n",
      "          \"percentage_change_7d\": 12.5793068344622,\n",
      "          \"price\": 42761.0,\n",
      "          \"volume_24h\": 16895707509\n",
      "        }\n",
      "      },\n",
      "      \"rank\": 1,\n",
      "      \"symbol\": \"BTC\",\n",
      "      \"total_supply\": 18951037,\n",
      "      \"website_slug\": \"bitcoin\"\n",
      "    }\n",
      "  },\n",
      "  \"metadata\": {\n",
      "    \"error\": null,\n",
      "    \"num_cryptocurrencies\": 3105,\n",
      "    \"timestamp\": 1644217976\n",
      "  }\n",
      "}\n"
     ]
    }
   ],
   "source": [
    "# Using the Python requests library, make an API call to access the current price of BTC\n",
    "btc_response = requests.get(btc_url).json()\n",
    "\n",
    "# Use the json.dumps function to review the response data from the API call\n",
    "# Use the indent and sort_keys parameters to make the response object readable\n",
    "print(json.dumps(btc_response,indent=2,sort_keys=True))\n"
   ]
  },
  {
   "cell_type": "code",
   "execution_count": 7,
   "metadata": {},
   "outputs": [
    {
     "name": "stdout",
     "output_type": "stream",
     "text": [
      "{\n",
      "  \"data\": {\n",
      "    \"1027\": {\n",
      "      \"circulating_supply\": 119478787,\n",
      "      \"id\": 1027,\n",
      "      \"last_updated\": 1644217966,\n",
      "      \"max_supply\": 0,\n",
      "      \"name\": \"Ethereum\",\n",
      "      \"quotes\": {\n",
      "        \"USD\": {\n",
      "          \"market_cap\": 369854004727,\n",
      "          \"percent_change_1h\": -0.192874138649432,\n",
      "          \"percent_change_24h\": 2.74981474936972,\n",
      "          \"percent_change_7d\": 18.4778097128446,\n",
      "          \"percentage_change_1h\": -0.192874138649432,\n",
      "          \"percentage_change_24h\": 2.74981474936972,\n",
      "          \"percentage_change_7d\": 18.4778097128446,\n",
      "          \"price\": 3092.49,\n",
      "          \"volume_24h\": 10667280386\n",
      "        }\n",
      "      },\n",
      "      \"rank\": 2,\n",
      "      \"symbol\": \"ETH\",\n",
      "      \"total_supply\": 119478787,\n",
      "      \"website_slug\": \"ethereum\"\n",
      "    }\n",
      "  },\n",
      "  \"metadata\": {\n",
      "    \"error\": null,\n",
      "    \"num_cryptocurrencies\": 3105,\n",
      "    \"timestamp\": 1644217966\n",
      "  }\n",
      "}\n"
     ]
    }
   ],
   "source": [
    "# Using the Python requests library, make an API call to access the current price ETH\n",
    "eth_response = requests.get(eth_url).json()\n",
    "\n",
    "# Use the json.dumps function to review the response data from the API call\n",
    "# Use the indent and sort_keys parameters to make the response object readable\n",
    "print(json.dumps(eth_response,indent=2,sort_keys=True))\n"
   ]
  },
  {
   "cell_type": "markdown",
   "metadata": {},
   "source": [
    "#### Step 3: Navigate the JSON response object to access the current price of each coin, and store each in a variable."
   ]
  },
  {
   "cell_type": "code",
   "execution_count": 8,
   "metadata": {},
   "outputs": [
    {
     "name": "stdout",
     "output_type": "stream",
     "text": [
      "The current price of BTC is $ 42761.0\n"
     ]
    }
   ],
   "source": [
    "# Navigate the BTC response object to access the current price of BTC\n",
    "btc_price = btc_response[\"data\"][\"1\"][\"quotes\"][\"USD\"][\"price\"]\n",
    "\n",
    "# Print the current price of BTC\n",
    "print(f\"The current price of BTC is $ {btc_price}\")\n"
   ]
  },
  {
   "cell_type": "code",
   "execution_count": 9,
   "metadata": {},
   "outputs": [
    {
     "name": "stdout",
     "output_type": "stream",
     "text": [
      "The current price of ETH is $ 3092.49\n"
     ]
    }
   ],
   "source": [
    "# Navigate the BTC response object to access the current price of ETH\n",
    "eth_price = eth_response[\"data\"][\"1027\"][\"quotes\"][\"USD\"][\"price\"]\n",
    "\n",
    "# Print the current price of ETH\n",
    "print(f\"The current price of ETH is $ {eth_price}\")\n"
   ]
  },
  {
   "cell_type": "markdown",
   "metadata": {},
   "source": [
    "### Step 4: Calculate the value, in US dollars, of the current amount of each cryptocurrency and of the entire cryptocurrency wallet."
   ]
  },
  {
   "cell_type": "code",
   "execution_count": 10,
   "metadata": {},
   "outputs": [
    {
     "name": "stdout",
     "output_type": "stream",
     "text": [
      "The current value of the btc shares is $51313.2\n"
     ]
    }
   ],
   "source": [
    "# Compute the current value of the BTC holding \n",
    "btc_value = btc_price * btc_coins\n",
    "\n",
    "# Print current value of your holding in BTC\n",
    "print(f\"The current value of the btc shares is ${btc_value}\")\n"
   ]
  },
  {
   "cell_type": "code",
   "execution_count": 11,
   "metadata": {},
   "outputs": [
    {
     "name": "stdout",
     "output_type": "stream",
     "text": [
      "The current value of the ETH shares is 16390.196999999996\n"
     ]
    }
   ],
   "source": [
    "# Compute the current value of the ETH holding \n",
    "eth_value = eth_price * eth_coins\n",
    "\n",
    "# Print current value of your holding in ETH\n",
    "print(f\"The current value of the ETH shares is {eth_value}\")\n"
   ]
  },
  {
   "cell_type": "code",
   "execution_count": 12,
   "metadata": {},
   "outputs": [
    {
     "name": "stdout",
     "output_type": "stream",
     "text": [
      "The current value of the cryptocurrency wallet balance is $67703.397\n"
     ]
    }
   ],
   "source": [
    "# Compute the total value of the cryptocurrency wallet\n",
    "# Add the value of the BTC holding to the value of the ETH holding\n",
    "total_crypto_wallet = btc_value + eth_value\n",
    "\n",
    "# Print current cryptocurrency wallet balance\n",
    "print(f\"The current value of the cryptocurrency wallet balance is ${total_crypto_wallet}\")\n"
   ]
  },
  {
   "cell_type": "markdown",
   "metadata": {},
   "source": [
    "### Evaluate the Stock and Bond Holdings by Using the Alpaca SDK\n",
    "\n",
    "In this section, you’ll determine the current value of a member’s stock and bond holdings. You’ll make an API call to Alpaca via the Alpaca SDK to get the current closing prices of the SPDR S&P 500 ETF Trust (ticker: SPY) and of the iShares Core US Aggregate Bond ETF (ticker: AGG). For the prototype, assume that the member holds 110 shares of SPY, which represents the stock portion of their portfolio, and 200 shares of AGG, which represents the bond portion. To do all this, complete the following steps:\n",
    "\n",
    "1. In the `Starter_Code` folder, create an environment file (`.env`) to store the values of your Alpaca API key and Alpaca secret key.\n",
    "\n",
    "2. Set the variables for the Alpaca API and secret keys. Using the Alpaca SDK, create the Alpaca `tradeapi.REST` object. In this object, include the parameters for the Alpaca API key, the secret key, and the version number.\n",
    "\n",
    "3. Set the following parameters for the Alpaca API call:\n",
    "\n",
    "    - `tickers`: Use the tickers for the member’s stock and bond holdings.\n",
    "\n",
    "    - `timeframe`: Use a time frame of one day.\n",
    "\n",
    "    - `start_date` and `end_date`: Use the same date for these parameters, and format them with the date of the previous weekday (or `2020-08-07`). This is because you want the one closing price for the most-recent trading day.\n",
    "\n",
    "4. Get the current closing prices for `SPY` and `AGG` by using the Alpaca `get_barset` function. Format the response as a Pandas DataFrame by including the `df` property at the end of the `get_barset` function.\n",
    "\n",
    "5. Navigating the Alpaca response DataFrame, select the `SPY` and `AGG` closing prices, and store them as variables.\n",
    "\n",
    "6. Calculate the value, in US dollars, of the current amount of shares in each of the stock and bond portions of the portfolio, and print the results.\n"
   ]
  },
  {
   "cell_type": "markdown",
   "metadata": {},
   "source": [
    "#### Review the total number of shares held in both (SPY) and (AGG)."
   ]
  },
  {
   "cell_type": "code",
   "execution_count": 13,
   "metadata": {},
   "outputs": [],
   "source": [
    "# Current amount of shares held in both the stock (SPY) and bond (AGG) portion of the portfolio.\n",
    "spy_shares = 110\n",
    "agg_shares = 200\n"
   ]
  },
  {
   "cell_type": "markdown",
   "metadata": {},
   "source": [
    "#### Step 1: In the `Starter_Code` folder, create an environment file (`.env`) to store the values of your Alpaca API key and Alpaca secret key."
   ]
  },
  {
   "cell_type": "markdown",
   "metadata": {},
   "source": [
    "#### Step 2: Set the variables for the Alpaca API and secret keys. Using the Alpaca SDK, create the Alpaca `tradeapi.REST` object. In this object, include the parameters for the Alpaca API key, the secret key, and the version number."
   ]
  },
  {
   "cell_type": "code",
   "execution_count": 14,
   "metadata": {},
   "outputs": [],
   "source": [
    "# Set the variables for the Alpaca API and secret keys\n",
    "load_dotenv()\n",
    "alpaca_api_key = os.getenv(\"ALPACA_API_KEY\")\n",
    "alpaca_secret_key = os.getenv(\"ALPACA_SECRET_KEY\")\n",
    "# Create the Alpaca tradeapi.REST object\n",
    "alpaca= tradeapi.REST(\n",
    "    alpaca_api_key,\n",
    "    alpaca_secret_key,\n",
    "    api_version=\"v2\")\n"
   ]
  },
  {
   "cell_type": "markdown",
   "metadata": {},
   "source": [
    "#### Step 3: Set the following parameters for the Alpaca API call:\n",
    "\n",
    "- `tickers`: Use the tickers for the member’s stock and bond holdings.\n",
    "\n",
    "- `timeframe`: Use a time frame of one day.\n",
    "\n",
    "- `start_date` and `end_date`: Use the same date for these parameters, and format them with the date of the previous weekday (or `2020-08-07`). This is because you want the one closing price for the most-recent trading day.\n"
   ]
  },
  {
   "cell_type": "code",
   "execution_count": 15,
   "metadata": {},
   "outputs": [],
   "source": [
    "# Set the tickers for both the bond and stock portion of the portfolio\n",
    "tickers = [\"SPY\", \"AGG\"]\n",
    "\n",
    "# Set timeframe to 1D \n",
    "timeframe = \"1D\"\n",
    "\n",
    "# Format current date as ISO format\n",
    "# Set both the start and end date at the date of your prior weekday \n",
    "# This will give you the closing price of the previous trading day\n",
    "# Alternatively you can use a start and end date of 2020-08-07\n",
    "start_date = pd.Timestamp(\"2020-08-07\").isoformat()\n",
    "end_date = pd.Timestamp(\"2020-08-07\").isoformat()"
   ]
  },
  {
   "cell_type": "markdown",
   "metadata": {},
   "source": [
    "#### Step 4: Get the current closing prices for `SPY` and `AGG` by using the Alpaca `get_barset` function. Format the response as a Pandas DataFrame by including the `df` property at the end of the `get_barset` function."
   ]
  },
  {
   "cell_type": "code",
   "execution_count": 16,
   "metadata": {},
   "outputs": [
    {
     "data": {
      "text/html": [
       "<div>\n",
       "<style scoped>\n",
       "    .dataframe tbody tr th:only-of-type {\n",
       "        vertical-align: middle;\n",
       "    }\n",
       "\n",
       "    .dataframe tbody tr th {\n",
       "        vertical-align: top;\n",
       "    }\n",
       "\n",
       "    .dataframe thead tr th {\n",
       "        text-align: left;\n",
       "    }\n",
       "\n",
       "    .dataframe thead tr:last-of-type th {\n",
       "        text-align: right;\n",
       "    }\n",
       "</style>\n",
       "<table border=\"1\" class=\"dataframe\">\n",
       "  <thead>\n",
       "    <tr>\n",
       "      <th></th>\n",
       "      <th colspan=\"5\" halign=\"left\">AGG</th>\n",
       "      <th colspan=\"5\" halign=\"left\">SPY</th>\n",
       "    </tr>\n",
       "    <tr>\n",
       "      <th></th>\n",
       "      <th>open</th>\n",
       "      <th>high</th>\n",
       "      <th>low</th>\n",
       "      <th>close</th>\n",
       "      <th>volume</th>\n",
       "      <th>open</th>\n",
       "      <th>high</th>\n",
       "      <th>low</th>\n",
       "      <th>close</th>\n",
       "      <th>volume</th>\n",
       "    </tr>\n",
       "    <tr>\n",
       "      <th>time</th>\n",
       "      <th></th>\n",
       "      <th></th>\n",
       "      <th></th>\n",
       "      <th></th>\n",
       "      <th></th>\n",
       "      <th></th>\n",
       "      <th></th>\n",
       "      <th></th>\n",
       "      <th></th>\n",
       "      <th></th>\n",
       "    </tr>\n",
       "  </thead>\n",
       "  <tbody>\n",
       "    <tr>\n",
       "      <th>2018-02-16 00:00:00-05:00</th>\n",
       "      <td>106.85</td>\n",
       "      <td>106.8750</td>\n",
       "      <td>106.7100</td>\n",
       "      <td>106.81</td>\n",
       "      <td>3391074</td>\n",
       "      <td>272.31</td>\n",
       "      <td>275.32</td>\n",
       "      <td>272.27</td>\n",
       "      <td>273.09</td>\n",
       "      <td>76314679</td>\n",
       "    </tr>\n",
       "    <tr>\n",
       "      <th>2018-02-20 00:00:00-05:00</th>\n",
       "      <td>106.69</td>\n",
       "      <td>106.7099</td>\n",
       "      <td>106.5501</td>\n",
       "      <td>106.68</td>\n",
       "      <td>2372055</td>\n",
       "      <td>272.03</td>\n",
       "      <td>273.67</td>\n",
       "      <td>264.84</td>\n",
       "      <td>271.43</td>\n",
       "      <td>54829423</td>\n",
       "    </tr>\n",
       "    <tr>\n",
       "      <th>2018-02-21 00:00:00-05:00</th>\n",
       "      <td>106.77</td>\n",
       "      <td>106.8000</td>\n",
       "      <td>106.2601</td>\n",
       "      <td>106.30</td>\n",
       "      <td>3017853</td>\n",
       "      <td>271.90</td>\n",
       "      <td>274.72</td>\n",
       "      <td>269.98</td>\n",
       "      <td>270.00</td>\n",
       "      <td>67813909</td>\n",
       "    </tr>\n",
       "    <tr>\n",
       "      <th>2018-02-22 00:00:00-05:00</th>\n",
       "      <td>106.49</td>\n",
       "      <td>106.5600</td>\n",
       "      <td>106.3600</td>\n",
       "      <td>106.36</td>\n",
       "      <td>2150355</td>\n",
       "      <td>271.09</td>\n",
       "      <td>273.05</td>\n",
       "      <td>269.64</td>\n",
       "      <td>270.32</td>\n",
       "      <td>65771832</td>\n",
       "    </tr>\n",
       "    <tr>\n",
       "      <th>2018-02-23 00:00:00-05:00</th>\n",
       "      <td>106.61</td>\n",
       "      <td>106.7600</td>\n",
       "      <td>106.5650</td>\n",
       "      <td>106.69</td>\n",
       "      <td>2113324</td>\n",
       "      <td>271.81</td>\n",
       "      <td>274.70</td>\n",
       "      <td>271.25</td>\n",
       "      <td>274.69</td>\n",
       "      <td>54742759</td>\n",
       "    </tr>\n",
       "  </tbody>\n",
       "</table>\n",
       "</div>"
      ],
      "text/plain": [
       "                              AGG                                       \\\n",
       "                             open      high       low   close   volume   \n",
       "time                                                                     \n",
       "2018-02-16 00:00:00-05:00  106.85  106.8750  106.7100  106.81  3391074   \n",
       "2018-02-20 00:00:00-05:00  106.69  106.7099  106.5501  106.68  2372055   \n",
       "2018-02-21 00:00:00-05:00  106.77  106.8000  106.2601  106.30  3017853   \n",
       "2018-02-22 00:00:00-05:00  106.49  106.5600  106.3600  106.36  2150355   \n",
       "2018-02-23 00:00:00-05:00  106.61  106.7600  106.5650  106.69  2113324   \n",
       "\n",
       "                              SPY                                    \n",
       "                             open    high     low   close    volume  \n",
       "time                                                                 \n",
       "2018-02-16 00:00:00-05:00  272.31  275.32  272.27  273.09  76314679  \n",
       "2018-02-20 00:00:00-05:00  272.03  273.67  264.84  271.43  54829423  \n",
       "2018-02-21 00:00:00-05:00  271.90  274.72  269.98  270.00  67813909  \n",
       "2018-02-22 00:00:00-05:00  271.09  273.05  269.64  270.32  65771832  \n",
       "2018-02-23 00:00:00-05:00  271.81  274.70  271.25  274.69  54742759  "
      ]
     },
     "execution_count": 16,
     "metadata": {},
     "output_type": "execute_result"
    }
   ],
   "source": [
    "# Use the Alpaca get_barset function to get current closing prices the portfolio\n",
    "# Be sure to set the `df` property after the function to format the response object as a DataFrame\n",
    "portfolio_prices_df = alpaca.get_barset(\n",
    "    tickers,\n",
    "    timeframe,\n",
    "    start = start_date,\n",
    "    end = end_date,\n",
    "    limit=1000\n",
    ").df\n",
    "\n",
    "# Review the first 5 rows of the Alpaca DataFrame\n",
    "portfolio_prices_df.head()\n"
   ]
  },
  {
   "cell_type": "markdown",
   "metadata": {},
   "source": [
    "#### Step 5: Navigating the Alpaca response DataFrame, select the `SPY` and `AGG` closing prices, and store them as variables."
   ]
  },
  {
   "cell_type": "code",
   "execution_count": 17,
   "metadata": {},
   "outputs": [
    {
     "name": "stdout",
     "output_type": "stream",
     "text": [
      "The AGG Closing price is $106.81\n"
     ]
    }
   ],
   "source": [
    "# Access the closing price for AGG from the Alpaca DataFrame\n",
    "# Converting the value to a floating point number\n",
    "agg_close_price = float(portfolio_prices_df[\"AGG\"][\"close\"][0])\n",
    "\n",
    "# Print the AGG closing price\n",
    "print(f\"The AGG Closing price is ${agg_close_price}\")\n"
   ]
  },
  {
   "cell_type": "code",
   "execution_count": 18,
   "metadata": {},
   "outputs": [
    {
     "name": "stdout",
     "output_type": "stream",
     "text": [
      "The SPY Closing price is $273.09\n"
     ]
    }
   ],
   "source": [
    "# Access the closing price for SPY from the Alpaca DataFrame\n",
    "# Converting the value to a floating point number\n",
    "spy_close_price = float(portfolio_prices_df[\"SPY\"][\"close\"][0])\n",
    "\n",
    "# Print the SPY closing price\n",
    "print(f\"The SPY Closing price is ${spy_close_price}\")\n"
   ]
  },
  {
   "cell_type": "markdown",
   "metadata": {},
   "source": [
    "#### Step 6: Calculate the value, in US dollars, of the current amount of shares in each of the stock and bond portions of the portfolio, and print the results."
   ]
  },
  {
   "cell_type": "code",
   "execution_count": 19,
   "metadata": {},
   "outputs": [
    {
     "name": "stdout",
     "output_type": "stream",
     "text": [
      "The current value of the bond portfolio is $21362.0\n"
     ]
    }
   ],
   "source": [
    "# Calculate the current value of the bond portion of the portfolio\n",
    "agg_value = agg_close_price * agg_shares\n",
    "\n",
    "# Print the current value of the bond portfolio\n",
    "print(f\"The current value of the bond portfolio is ${agg_value}\")\n"
   ]
  },
  {
   "cell_type": "code",
   "execution_count": 20,
   "metadata": {},
   "outputs": [
    {
     "name": "stdout",
     "output_type": "stream",
     "text": [
      "The current value of the stock portolio is $ 30039.899999999998\n"
     ]
    }
   ],
   "source": [
    "# Calculate the current value of the stock portion of the portfolio\n",
    "spy_value = spy_close_price * spy_shares\n",
    "\n",
    "# Print the current value of the stock portfolio\n",
    "print(f\"The current value of the stock portolio is $ {spy_value}\")\n"
   ]
  },
  {
   "cell_type": "code",
   "execution_count": 21,
   "metadata": {},
   "outputs": [
    {
     "name": "stdout",
     "output_type": "stream",
     "text": [
      "The current balance of the stock and bond portion of the portfolio is $51401.899999999994\n"
     ]
    }
   ],
   "source": [
    "# Calculate the total value of the stock and bond portion of the portfolio\n",
    "total_stocks_bonds = agg_value + spy_value\n",
    "\n",
    "# Print the current balance of the stock and bond portion of the portfolio\n",
    "print(f\"The current balance of the stock and bond portion of the portfolio is ${total_stocks_bonds}\")\n"
   ]
  },
  {
   "cell_type": "code",
   "execution_count": 22,
   "metadata": {},
   "outputs": [
    {
     "name": "stdout",
     "output_type": "stream",
     "text": [
      "The current cryptocurrency wallet balance is $119105.29699999999\n"
     ]
    }
   ],
   "source": [
    "# Calculate the total value of the member's entire savings portfolio\n",
    "# Add the value of the cryptocurrency walled to the value of the total stocks and bonds\n",
    "total_portfolio = total_stocks_bonds + total_crypto_wallet\n",
    "\n",
    "# Print current cryptocurrency wallet balance\n",
    "print(f\"The current cryptocurrency wallet balance is ${total_portfolio}\")\n"
   ]
  },
  {
   "cell_type": "markdown",
   "metadata": {},
   "source": [
    "### Evaluate the Emergency Fund\n",
    "\n",
    "In this section, you’ll use the valuations for the cryptocurrency wallet and for the stock and bond portions of the portfolio to determine if the credit union member has enough savings to build an emergency fund into their financial plan. To do this, complete the following steps:\n",
    "\n",
    "1. Create a Python list named `savings_data` that has two elements. The first element contains the total value of the cryptocurrency wallet. The second element contains the total value of the stock and bond portions of the portfolio.\n",
    "\n",
    "2. Use the `savings_data` list to create a Pandas DataFrame named `savings_df`, and then display this DataFrame. The function to create the DataFrame should take the following three parameters:\n",
    "\n",
    "    - `savings_data`: Use the list that you just created.\n",
    "\n",
    "    - `columns`: Set this parameter equal to a Python list with a single value called `amount`.\n",
    "\n",
    "    - `index`: Set this parameter equal to a Python list with the values of `crypto` and `stock/bond`.\n",
    "\n",
    "3. Use the `savings_df` DataFrame to plot a pie chart that visualizes the composition of the member’s portfolio. The y-axis of the pie chart uses `amount`. Be sure to add a title.\n",
    "\n",
    "4. Using Python, determine if the current portfolio has enough to create an emergency fund as part of the member’s financial plan. Ideally, an emergency fund should equal to three times the member’s monthly income. To do this, implement the following steps:\n",
    "\n",
    "    1. Create a variable named `emergency_fund_value`, and set it equal to three times the value of the member’s `monthly_income` of $12000. (You set this earlier in Part 1).\n",
    "\n",
    "    2. Create a series of three if statements to determine if the member’s total portfolio is large enough to fund the emergency portfolio:\n",
    "\n",
    "        1. If the total portfolio value is greater than the emergency fund value, display a message congratulating the member for having enough money in this fund.\n",
    "\n",
    "        2. Else if the total portfolio value is equal to the emergency fund value, display a message congratulating the member on reaching this important financial goal.\n",
    "\n",
    "        3. Else the total portfolio is less than the emergency fund value, so display a message showing how many dollars away the member is from reaching the goal. (Subtract the total portfolio value from the emergency fund value.)\n"
   ]
  },
  {
   "cell_type": "markdown",
   "metadata": {},
   "source": [
    "#### Step 1: Create a Python list named `savings_data` that has two elements. The first element contains the total value of the cryptocurrency wallet. The second element contains the total value of the stock and bond portions of the portfolio."
   ]
  },
  {
   "cell_type": "code",
   "execution_count": 23,
   "metadata": {},
   "outputs": [
    {
     "data": {
      "text/plain": [
       "[67703.397, 51401.899999999994]"
      ]
     },
     "execution_count": 23,
     "metadata": {},
     "output_type": "execute_result"
    }
   ],
   "source": [
    "# Consolidate financial assets data into a Python list\n",
    "savings_data = [total_crypto_wallet, total_stocks_bonds]\n",
    "\n",
    "# Review the Python list savings_data\n",
    "savings_data\n",
    "    "
   ]
  },
  {
   "cell_type": "markdown",
   "metadata": {},
   "source": [
    "#### Step 2: Use the `savings_data` list to create a Pandas DataFrame named `savings_df`, and then display this DataFrame. The function to create the DataFrame should take the following three parameters:\n",
    "\n",
    "- `savings_data`: Use the list that you just created.\n",
    "\n",
    "- `columns`: Set this parameter equal to a Python list with a single value called `amount`.\n",
    "\n",
    "- `index`: Set this parameter equal to a Python list with the values of `crypto` and `stock/bond`.\n"
   ]
  },
  {
   "cell_type": "code",
   "execution_count": 24,
   "metadata": {},
   "outputs": [
    {
     "data": {
      "text/html": [
       "<div>\n",
       "<style scoped>\n",
       "    .dataframe tbody tr th:only-of-type {\n",
       "        vertical-align: middle;\n",
       "    }\n",
       "\n",
       "    .dataframe tbody tr th {\n",
       "        vertical-align: top;\n",
       "    }\n",
       "\n",
       "    .dataframe thead th {\n",
       "        text-align: right;\n",
       "    }\n",
       "</style>\n",
       "<table border=\"1\" class=\"dataframe\">\n",
       "  <thead>\n",
       "    <tr style=\"text-align: right;\">\n",
       "      <th></th>\n",
       "      <th>amount</th>\n",
       "    </tr>\n",
       "  </thead>\n",
       "  <tbody>\n",
       "    <tr>\n",
       "      <th>Crypto</th>\n",
       "      <td>67703.397</td>\n",
       "    </tr>\n",
       "    <tr>\n",
       "      <th>Stock/Bond</th>\n",
       "      <td>51401.900</td>\n",
       "    </tr>\n",
       "  </tbody>\n",
       "</table>\n",
       "</div>"
      ],
      "text/plain": [
       "               amount\n",
       "Crypto      67703.397\n",
       "Stock/Bond  51401.900"
      ]
     },
     "execution_count": 24,
     "metadata": {},
     "output_type": "execute_result"
    }
   ],
   "source": [
    "# Create a Pandas DataFrame called savings_df \n",
    "savings_data = pd.DataFrame(data = savings_data, columns=[\"amount\"], index=[\"Crypto\",\"Stock/Bond\"])\n",
    "\n",
    "# Display the savings_df DataFrame\n",
    "savings_data\n"
   ]
  },
  {
   "cell_type": "markdown",
   "metadata": {},
   "source": [
    "#### Step 3: Use the `savings_df` DataFrame to plot a pie chart that visualizes the composition of the member’s portfolio. The y-axis of the pie chart uses `amount`. Be sure to add a title."
   ]
  },
  {
   "cell_type": "code",
   "execution_count": 25,
   "metadata": {},
   "outputs": [
    {
     "data": {
      "text/plain": [
       "<AxesSubplot:title={'center':\"Total value of the member's Portfolio\"}, ylabel='amount'>"
      ]
     },
     "execution_count": 25,
     "metadata": {},
     "output_type": "execute_result"
    },
    {
     "data": {
      "image/png": "[encoded data removed]",
      "text/plain": [
       "<Figure size 360x360 with 1 Axes>"
      ]
     },
     "metadata": {},
     "output_type": "display_data"
    }
   ],
   "source": [
    "# Plot the total value of the member's portfolio (crypto and stock/bond) in a pie chart\n",
    "savings_data.plot.pie(figsize=(5, 5), y=\"amount\", title=\"Total value of the member's Portfolio\")\n"
   ]
  },
  {
   "cell_type": "markdown",
   "metadata": {},
   "source": [
    "#### Step 4: Using Python, determine if the current portfolio has enough to create an emergency fund as part of the member’s financial plan. Ideally, an emergency fund should equal to three times the member’s monthly income. To do this, implement the following steps:\n",
    "\n",
    "Step 1. Create a variable named `emergency_fund_value`, and set it equal to three times the value of the member’s `monthly_income` of 12000. (You set this earlier in Part 1).\n",
    "\n",
    "Step 2. Create a series of three if statements to determine if the member’s total portfolio is large enough to fund the emergency portfolio:\n",
    "\n",
    "* If the total portfolio value is greater than the emergency fund value, display a message congratulating the member for having enough money in this fund.\n",
    "\n",
    "* Else if the total portfolio value is equal to the emergency fund value, display a message congratulating the member on reaching this important financial goal.\n",
    "\n",
    "* Else the total portfolio is less than the emergency fund value, so display a message showing how many dollars away the member is from reaching the goal. (Subtract the total portfolio value from the emergency fund value.)\n"
   ]
  },
  {
   "cell_type": "markdown",
   "metadata": {},
   "source": [
    "##### Step 4-1: Create a variable named `emergency_fund_value`, and set it equal to three times the value of the member’s `monthly_income` of 12000. (You set this earlier in Part 1)."
   ]
  },
  {
   "cell_type": "code",
   "execution_count": 26,
   "metadata": {},
   "outputs": [],
   "source": [
    "# Create a variable named emergency_fund_value\n",
    "emergency_fund_value = 3 * monthly_income\n"
   ]
  },
  {
   "cell_type": "markdown",
   "metadata": {},
   "source": [
    "##### Step 4-2: Create a series of three if statements to determine if the member’s total portfolio is large enough to fund the emergency portfolio:\n",
    "\n",
    "* If the total portfolio value is greater than the emergency fund value, display a message congratulating the member for having enough money in this fund.\n",
    "\n",
    "* Else if the total portfolio value is equal to the emergency fund value, display a message congratulating the member on reaching this important financial goal.\n",
    "\n",
    "* Else the total portfolio is less than the emergency fund value, so display a message showing how many dollars away the member is from reaching the goal. (Subtract the total portfolio value from the emergency fund value.)"
   ]
  },
  {
   "cell_type": "code",
   "execution_count": 27,
   "metadata": {},
   "outputs": [
    {
     "name": "stdout",
     "output_type": "stream",
     "text": [
      "Congratulations ! You have enough money in this fund.\n"
     ]
    }
   ],
   "source": [
    "# Evaluate the possibility of creating an emergency fund with 3 conditions:\n",
    "if (total_portfolio > emergency_fund_value):\n",
    "    print(\"Congratulations ! You have enough money in this fund.\")\n",
    "elif (total_portfolio_value == emergency_fund_value):\n",
    "    print(\"Congratulations ! You have reached an important financial goal.\")\n",
    "else:\n",
    "    print(f\"You are ${emergency_fund_value - total_portfolio} away from reaching your goal.\")\n"
   ]
  },
  {
   "cell_type": "markdown",
   "metadata": {},
   "source": [
    "## Part 2: Create a Financial Planner for Retirement"
   ]
  },
  {
   "cell_type": "markdown",
   "metadata": {},
   "source": [
    "### Create the Monte Carlo Simulation\n",
    "\n",
    "In this section, you’ll use the MCForecastTools library to create a Monte Carlo simulation for the member’s savings portfolio. To do this, complete the following steps:\n",
    "\n",
    "1. Make an API call via the Alpaca SDK to get 3 years of historical closing prices for a traditional 60/40 portfolio split: 60% stocks (SPY) and 40% bonds (AGG).\n",
    "\n",
    "2. Run a Monte Carlo simulation of 500 samples and 30 years for the 60/40 portfolio, and then plot the results.The following image shows the overlay line plot resulting from a simulation with these characteristics. However, because a random number generator is used to run each live Monte Carlo simulation, your image will differ slightly from this exact image:\n",
    "\n",
    "![A screenshot depicts the resulting plot.](Images/5-4-monte-carlo-line-plot.png)\n",
    "\n",
    "3. Plot the probability distribution of the Monte Carlo simulation. Plot the probability distribution of the Monte Carlo simulation. The following image shows the histogram plot resulting from a simulation with these characteristics. However, because a random number generator is used to run each live Monte Carlo simulation, your image will differ slightly from this exact image:\n",
    "\n",
    "![A screenshot depicts the histogram plot.](Images/5-4-monte-carlo-histogram.png)\n",
    "\n",
    "4. Generate the summary statistics for the Monte Carlo simulation.\n",
    "\n"
   ]
  },
  {
   "cell_type": "markdown",
   "metadata": {},
   "source": [
    "#### Step 1: Make an API call via the Alpaca SDK to get 3 years of historical closing prices for a traditional 60/40 portfolio split: 60% stocks (SPY) and 40% bonds (AGG)."
   ]
  },
  {
   "cell_type": "code",
   "execution_count": 28,
   "metadata": {},
   "outputs": [],
   "source": [
    "# Set start and end dates of 3 years back from your current date\n",
    "# Alternatively, you can use an end date of 2020-08-07 and work 3 years back from that date \n",
    "\n",
    "start_date = pd.Timestamp(\"2017-08-07\").isoformat()\n",
    "end_date = pd.Timestamp(\"2020-08-07\").isoformat()                          \n",
    "\n",
    "\n",
    "# Set number of rows to 1000 to retrieve the maximum amount of rows\n",
    "limit_rows = 1000"
   ]
  },
  {
   "cell_type": "code",
   "execution_count": 29,
   "metadata": {},
   "outputs": [
    {
     "data": {
      "text/html": [
       "<div>\n",
       "<style scoped>\n",
       "    .dataframe tbody tr th:only-of-type {\n",
       "        vertical-align: middle;\n",
       "    }\n",
       "\n",
       "    .dataframe tbody tr th {\n",
       "        vertical-align: top;\n",
       "    }\n",
       "\n",
       "    .dataframe thead tr th {\n",
       "        text-align: left;\n",
       "    }\n",
       "\n",
       "    .dataframe thead tr:last-of-type th {\n",
       "        text-align: right;\n",
       "    }\n",
       "</style>\n",
       "<table border=\"1\" class=\"dataframe\">\n",
       "  <thead>\n",
       "    <tr>\n",
       "      <th></th>\n",
       "      <th colspan=\"5\" halign=\"left\">AGG</th>\n",
       "      <th colspan=\"5\" halign=\"left\">SPY</th>\n",
       "    </tr>\n",
       "    <tr>\n",
       "      <th></th>\n",
       "      <th>open</th>\n",
       "      <th>high</th>\n",
       "      <th>low</th>\n",
       "      <th>close</th>\n",
       "      <th>volume</th>\n",
       "      <th>open</th>\n",
       "      <th>high</th>\n",
       "      <th>low</th>\n",
       "      <th>close</th>\n",
       "      <th>volume</th>\n",
       "    </tr>\n",
       "    <tr>\n",
       "      <th>time</th>\n",
       "      <th></th>\n",
       "      <th></th>\n",
       "      <th></th>\n",
       "      <th></th>\n",
       "      <th></th>\n",
       "      <th></th>\n",
       "      <th></th>\n",
       "      <th></th>\n",
       "      <th></th>\n",
       "      <th></th>\n",
       "    </tr>\n",
       "  </thead>\n",
       "  <tbody>\n",
       "    <tr>\n",
       "      <th>2022-01-31 00:00:00-05:00</th>\n",
       "      <td>111.64</td>\n",
       "      <td>111.8900</td>\n",
       "      <td>111.6000</td>\n",
       "      <td>111.78</td>\n",
       "      <td>11437834.0</td>\n",
       "      <td>441.24</td>\n",
       "      <td>450.28</td>\n",
       "      <td>439.8100</td>\n",
       "      <td>449.815</td>\n",
       "      <td>128202383.0</td>\n",
       "    </tr>\n",
       "    <tr>\n",
       "      <th>2022-02-01 00:00:00-05:00</th>\n",
       "      <td>111.66</td>\n",
       "      <td>111.6764</td>\n",
       "      <td>111.3800</td>\n",
       "      <td>111.59</td>\n",
       "      <td>9477222.0</td>\n",
       "      <td>450.72</td>\n",
       "      <td>453.63</td>\n",
       "      <td>446.9384</td>\n",
       "      <td>452.960</td>\n",
       "      <td>106515279.0</td>\n",
       "    </tr>\n",
       "    <tr>\n",
       "      <th>2022-02-02 00:00:00-05:00</th>\n",
       "      <td>111.70</td>\n",
       "      <td>111.9700</td>\n",
       "      <td>111.6744</td>\n",
       "      <td>111.72</td>\n",
       "      <td>7424696.0</td>\n",
       "      <td>455.50</td>\n",
       "      <td>458.12</td>\n",
       "      <td>453.0500</td>\n",
       "      <td>457.300</td>\n",
       "      <td>97807976.0</td>\n",
       "    </tr>\n",
       "    <tr>\n",
       "      <th>2022-02-03 00:00:00-05:00</th>\n",
       "      <td>111.26</td>\n",
       "      <td>111.3700</td>\n",
       "      <td>111.1300</td>\n",
       "      <td>111.27</td>\n",
       "      <td>9480330.0</td>\n",
       "      <td>450.95</td>\n",
       "      <td>452.97</td>\n",
       "      <td>445.7100</td>\n",
       "      <td>446.640</td>\n",
       "      <td>99110054.0</td>\n",
       "    </tr>\n",
       "    <tr>\n",
       "      <th>2022-02-04 00:00:00-05:00</th>\n",
       "      <td>110.75</td>\n",
       "      <td>110.7500</td>\n",
       "      <td>110.4707</td>\n",
       "      <td>110.56</td>\n",
       "      <td>6762828.0</td>\n",
       "      <td>446.35</td>\n",
       "      <td>452.78</td>\n",
       "      <td>443.8300</td>\n",
       "      <td>448.730</td>\n",
       "      <td>98775229.0</td>\n",
       "    </tr>\n",
       "  </tbody>\n",
       "</table>\n",
       "</div>"
      ],
      "text/plain": [
       "                              AGG                                          \\\n",
       "                             open      high       low   close      volume   \n",
       "time                                                                        \n",
       "2022-01-31 00:00:00-05:00  111.64  111.8900  111.6000  111.78  11437834.0   \n",
       "2022-02-01 00:00:00-05:00  111.66  111.6764  111.3800  111.59   9477222.0   \n",
       "2022-02-02 00:00:00-05:00  111.70  111.9700  111.6744  111.72   7424696.0   \n",
       "2022-02-03 00:00:00-05:00  111.26  111.3700  111.1300  111.27   9480330.0   \n",
       "2022-02-04 00:00:00-05:00  110.75  110.7500  110.4707  110.56   6762828.0   \n",
       "\n",
       "                              SPY                                          \n",
       "                             open    high       low    close       volume  \n",
       "time                                                                       \n",
       "2022-01-31 00:00:00-05:00  441.24  450.28  439.8100  449.815  128202383.0  \n",
       "2022-02-01 00:00:00-05:00  450.72  453.63  446.9384  452.960  106515279.0  \n",
       "2022-02-02 00:00:00-05:00  455.50  458.12  453.0500  457.300   97807976.0  \n",
       "2022-02-03 00:00:00-05:00  450.95  452.97  445.7100  446.640   99110054.0  \n",
       "2022-02-04 00:00:00-05:00  446.35  452.78  443.8300  448.730   98775229.0  "
      ]
     },
     "execution_count": 29,
     "metadata": {},
     "output_type": "execute_result"
    }
   ],
   "source": [
    "# Use the Alpaca get_barset function to make the API call to get the 3 years worth of pricing data\n",
    "# The tickers and timeframe parameters should have been set in Part 1 of this activity \n",
    "# The start and end dates should be updated with the information set above\n",
    "# Remember to add the df property to the end of the call so the response is returned as a DataFrame\n",
    "prices_df = alpaca.get_barset(\n",
    "    tickers,\n",
    "    timeframe,\n",
    "    start= start_date,\n",
    "    end= end_date,\n",
    "    limit= limit_rows\n",
    ").df\n",
    "\n",
    "\n",
    "# Display both the first and last five rows of the DataFrame\n",
    "prices_df.head()\n",
    "prices_df.tail()\n",
    "\n"
   ]
  },
  {
   "cell_type": "markdown",
   "metadata": {},
   "source": [
    "#### Step 2: Run a Monte Carlo simulation of 500 samples and 30 years for the 60/40 portfolio, and then plot the results."
   ]
  },
  {
   "cell_type": "code",
   "execution_count": 30,
   "metadata": {},
   "outputs": [
    {
     "data": {
      "text/html": [
       "<div>\n",
       "<style scoped>\n",
       "    .dataframe tbody tr th:only-of-type {\n",
       "        vertical-align: middle;\n",
       "    }\n",
       "\n",
       "    .dataframe tbody tr th {\n",
       "        vertical-align: top;\n",
       "    }\n",
       "\n",
       "    .dataframe thead tr th {\n",
       "        text-align: left;\n",
       "    }\n",
       "\n",
       "    .dataframe thead tr:last-of-type th {\n",
       "        text-align: right;\n",
       "    }\n",
       "</style>\n",
       "<table border=\"1\" class=\"dataframe\">\n",
       "  <thead>\n",
       "    <tr>\n",
       "      <th></th>\n",
       "      <th colspan=\"6\" halign=\"left\">AGG</th>\n",
       "      <th colspan=\"6\" halign=\"left\">SPY</th>\n",
       "    </tr>\n",
       "    <tr>\n",
       "      <th></th>\n",
       "      <th>open</th>\n",
       "      <th>high</th>\n",
       "      <th>low</th>\n",
       "      <th>close</th>\n",
       "      <th>volume</th>\n",
       "      <th>daily_return</th>\n",
       "      <th>open</th>\n",
       "      <th>high</th>\n",
       "      <th>low</th>\n",
       "      <th>close</th>\n",
       "      <th>volume</th>\n",
       "      <th>daily_return</th>\n",
       "    </tr>\n",
       "    <tr>\n",
       "      <th>time</th>\n",
       "      <th></th>\n",
       "      <th></th>\n",
       "      <th></th>\n",
       "      <th></th>\n",
       "      <th></th>\n",
       "      <th></th>\n",
       "      <th></th>\n",
       "      <th></th>\n",
       "      <th></th>\n",
       "      <th></th>\n",
       "      <th></th>\n",
       "      <th></th>\n",
       "    </tr>\n",
       "  </thead>\n",
       "  <tbody>\n",
       "    <tr>\n",
       "      <th>2018-02-15 00:00:00-05:00</th>\n",
       "      <td>106.55</td>\n",
       "      <td>106.7272</td>\n",
       "      <td>106.5300</td>\n",
       "      <td>106.59</td>\n",
       "      <td>2398428.0</td>\n",
       "      <td>NaN</td>\n",
       "      <td>NaN</td>\n",
       "      <td>NaN</td>\n",
       "      <td>NaN</td>\n",
       "      <td>NaN</td>\n",
       "      <td>NaN</td>\n",
       "      <td>NaN</td>\n",
       "    </tr>\n",
       "    <tr>\n",
       "      <th>2018-02-16 00:00:00-05:00</th>\n",
       "      <td>106.85</td>\n",
       "      <td>106.8750</td>\n",
       "      <td>106.7100</td>\n",
       "      <td>106.81</td>\n",
       "      <td>3391074.0</td>\n",
       "      <td>0.002064</td>\n",
       "      <td>272.31</td>\n",
       "      <td>275.32</td>\n",
       "      <td>272.2700</td>\n",
       "      <td>273.090</td>\n",
       "      <td>76314679.0</td>\n",
       "      <td>NaN</td>\n",
       "    </tr>\n",
       "    <tr>\n",
       "      <th>2018-02-20 00:00:00-05:00</th>\n",
       "      <td>106.69</td>\n",
       "      <td>106.7099</td>\n",
       "      <td>106.5501</td>\n",
       "      <td>106.68</td>\n",
       "      <td>2372055.0</td>\n",
       "      <td>-0.001217</td>\n",
       "      <td>272.03</td>\n",
       "      <td>273.67</td>\n",
       "      <td>264.8400</td>\n",
       "      <td>271.430</td>\n",
       "      <td>54829423.0</td>\n",
       "      <td>-0.006079</td>\n",
       "    </tr>\n",
       "    <tr>\n",
       "      <th>2018-02-21 00:00:00-05:00</th>\n",
       "      <td>106.77</td>\n",
       "      <td>106.8000</td>\n",
       "      <td>106.2601</td>\n",
       "      <td>106.30</td>\n",
       "      <td>3017853.0</td>\n",
       "      <td>-0.003562</td>\n",
       "      <td>271.90</td>\n",
       "      <td>274.72</td>\n",
       "      <td>269.9800</td>\n",
       "      <td>270.000</td>\n",
       "      <td>67813909.0</td>\n",
       "      <td>-0.005268</td>\n",
       "    </tr>\n",
       "    <tr>\n",
       "      <th>2018-02-22 00:00:00-05:00</th>\n",
       "      <td>106.49</td>\n",
       "      <td>106.5600</td>\n",
       "      <td>106.3600</td>\n",
       "      <td>106.36</td>\n",
       "      <td>2150355.0</td>\n",
       "      <td>0.000564</td>\n",
       "      <td>271.09</td>\n",
       "      <td>273.05</td>\n",
       "      <td>269.6400</td>\n",
       "      <td>270.320</td>\n",
       "      <td>65771832.0</td>\n",
       "      <td>0.001185</td>\n",
       "    </tr>\n",
       "    <tr>\n",
       "      <th>...</th>\n",
       "      <td>...</td>\n",
       "      <td>...</td>\n",
       "      <td>...</td>\n",
       "      <td>...</td>\n",
       "      <td>...</td>\n",
       "      <td>...</td>\n",
       "      <td>...</td>\n",
       "      <td>...</td>\n",
       "      <td>...</td>\n",
       "      <td>...</td>\n",
       "      <td>...</td>\n",
       "      <td>...</td>\n",
       "    </tr>\n",
       "    <tr>\n",
       "      <th>2022-01-31 00:00:00-05:00</th>\n",
       "      <td>111.64</td>\n",
       "      <td>111.8900</td>\n",
       "      <td>111.6000</td>\n",
       "      <td>111.78</td>\n",
       "      <td>11437834.0</td>\n",
       "      <td>-0.000268</td>\n",
       "      <td>441.24</td>\n",
       "      <td>450.28</td>\n",
       "      <td>439.8100</td>\n",
       "      <td>449.815</td>\n",
       "      <td>128202383.0</td>\n",
       "      <td>0.017865</td>\n",
       "    </tr>\n",
       "    <tr>\n",
       "      <th>2022-02-01 00:00:00-05:00</th>\n",
       "      <td>111.66</td>\n",
       "      <td>111.6764</td>\n",
       "      <td>111.3800</td>\n",
       "      <td>111.59</td>\n",
       "      <td>9477222.0</td>\n",
       "      <td>-0.001700</td>\n",
       "      <td>450.72</td>\n",
       "      <td>453.63</td>\n",
       "      <td>446.9384</td>\n",
       "      <td>452.960</td>\n",
       "      <td>106515279.0</td>\n",
       "      <td>0.006992</td>\n",
       "    </tr>\n",
       "    <tr>\n",
       "      <th>2022-02-02 00:00:00-05:00</th>\n",
       "      <td>111.70</td>\n",
       "      <td>111.9700</td>\n",
       "      <td>111.6744</td>\n",
       "      <td>111.72</td>\n",
       "      <td>7424696.0</td>\n",
       "      <td>0.001165</td>\n",
       "      <td>455.50</td>\n",
       "      <td>458.12</td>\n",
       "      <td>453.0500</td>\n",
       "      <td>457.300</td>\n",
       "      <td>97807976.0</td>\n",
       "      <td>0.009581</td>\n",
       "    </tr>\n",
       "    <tr>\n",
       "      <th>2022-02-03 00:00:00-05:00</th>\n",
       "      <td>111.26</td>\n",
       "      <td>111.3700</td>\n",
       "      <td>111.1300</td>\n",
       "      <td>111.27</td>\n",
       "      <td>9480330.0</td>\n",
       "      <td>-0.004028</td>\n",
       "      <td>450.95</td>\n",
       "      <td>452.97</td>\n",
       "      <td>445.7100</td>\n",
       "      <td>446.640</td>\n",
       "      <td>99110054.0</td>\n",
       "      <td>-0.023311</td>\n",
       "    </tr>\n",
       "    <tr>\n",
       "      <th>2022-02-04 00:00:00-05:00</th>\n",
       "      <td>110.75</td>\n",
       "      <td>110.7500</td>\n",
       "      <td>110.4707</td>\n",
       "      <td>110.56</td>\n",
       "      <td>6762828.0</td>\n",
       "      <td>-0.006381</td>\n",
       "      <td>446.35</td>\n",
       "      <td>452.78</td>\n",
       "      <td>443.8300</td>\n",
       "      <td>448.730</td>\n",
       "      <td>98775229.0</td>\n",
       "      <td>0.004679</td>\n",
       "    </tr>\n",
       "  </tbody>\n",
       "</table>\n",
       "<p>1001 rows × 12 columns</p>\n",
       "</div>"
      ],
      "text/plain": [
       "                              AGG                                          \\\n",
       "                             open      high       low   close      volume   \n",
       "time                                                                        \n",
       "2018-02-15 00:00:00-05:00  106.55  106.7272  106.5300  106.59   2398428.0   \n",
       "2018-02-16 00:00:00-05:00  106.85  106.8750  106.7100  106.81   3391074.0   \n",
       "2018-02-20 00:00:00-05:00  106.69  106.7099  106.5501  106.68   2372055.0   \n",
       "2018-02-21 00:00:00-05:00  106.77  106.8000  106.2601  106.30   3017853.0   \n",
       "2018-02-22 00:00:00-05:00  106.49  106.5600  106.3600  106.36   2150355.0   \n",
       "...                           ...       ...       ...     ...         ...   \n",
       "2022-01-31 00:00:00-05:00  111.64  111.8900  111.6000  111.78  11437834.0   \n",
       "2022-02-01 00:00:00-05:00  111.66  111.6764  111.3800  111.59   9477222.0   \n",
       "2022-02-02 00:00:00-05:00  111.70  111.9700  111.6744  111.72   7424696.0   \n",
       "2022-02-03 00:00:00-05:00  111.26  111.3700  111.1300  111.27   9480330.0   \n",
       "2022-02-04 00:00:00-05:00  110.75  110.7500  110.4707  110.56   6762828.0   \n",
       "\n",
       "                                           SPY                             \\\n",
       "                          daily_return    open    high       low    close   \n",
       "time                                                                        \n",
       "2018-02-15 00:00:00-05:00          NaN     NaN     NaN       NaN      NaN   \n",
       "2018-02-16 00:00:00-05:00     0.002064  272.31  275.32  272.2700  273.090   \n",
       "2018-02-20 00:00:00-05:00    -0.001217  272.03  273.67  264.8400  271.430   \n",
       "2018-02-21 00:00:00-05:00    -0.003562  271.90  274.72  269.9800  270.000   \n",
       "2018-02-22 00:00:00-05:00     0.000564  271.09  273.05  269.6400  270.320   \n",
       "...                                ...     ...     ...       ...      ...   \n",
       "2022-01-31 00:00:00-05:00    -0.000268  441.24  450.28  439.8100  449.815   \n",
       "2022-02-01 00:00:00-05:00    -0.001700  450.72  453.63  446.9384  452.960   \n",
       "2022-02-02 00:00:00-05:00     0.001165  455.50  458.12  453.0500  457.300   \n",
       "2022-02-03 00:00:00-05:00    -0.004028  450.95  452.97  445.7100  446.640   \n",
       "2022-02-04 00:00:00-05:00    -0.006381  446.35  452.78  443.8300  448.730   \n",
       "\n",
       "                                                     \n",
       "                                volume daily_return  \n",
       "time                                                 \n",
       "2018-02-15 00:00:00-05:00          NaN          NaN  \n",
       "2018-02-16 00:00:00-05:00   76314679.0          NaN  \n",
       "2018-02-20 00:00:00-05:00   54829423.0    -0.006079  \n",
       "2018-02-21 00:00:00-05:00   67813909.0    -0.005268  \n",
       "2018-02-22 00:00:00-05:00   65771832.0     0.001185  \n",
       "...                                ...          ...  \n",
       "2022-01-31 00:00:00-05:00  128202383.0     0.017865  \n",
       "2022-02-01 00:00:00-05:00  106515279.0     0.006992  \n",
       "2022-02-02 00:00:00-05:00   97807976.0     0.009581  \n",
       "2022-02-03 00:00:00-05:00   99110054.0    -0.023311  \n",
       "2022-02-04 00:00:00-05:00   98775229.0     0.004679  \n",
       "\n",
       "[1001 rows x 12 columns]"
      ]
     },
     "execution_count": 30,
     "metadata": {},
     "output_type": "execute_result"
    }
   ],
   "source": [
    "# Configure the Monte Carlo simulation to forecast 30 years cumulative returns\n",
    "# The weights should be split 40% to AGG and 60% to SPY.\n",
    "# Run 500 samples.\n",
    "MC_simulation = MCSimulation(\n",
    "    portfolio_data = prices_df,\n",
    "    weights = [.4,.6],\n",
    "    num_simulation = 500,\n",
    "    num_trading_days = 252*30\n",
    ")\n",
    "\n",
    "# Review the simulation input data\n",
    "MC_simulation.portfolio_data\n"
   ]
  },
  {
   "cell_type": "code",
   "execution_count": 31,
   "metadata": {},
   "outputs": [
    {
     "name": "stdout",
     "output_type": "stream",
     "text": [
      "Running Monte Carlo simulation number 0.\n",
      "Running Monte Carlo simulation number 10.\n",
      "Running Monte Carlo simulation number 20.\n",
      "Running Monte Carlo simulation number 30.\n",
      "Running Monte Carlo simulation number 40.\n",
      "Running Monte Carlo simulation number 50.\n",
      "Running Monte Carlo simulation number 60.\n",
      "Running Monte Carlo simulation number 70.\n",
      "Running Monte Carlo simulation number 80.\n",
      "Running Monte Carlo simulation number 90.\n",
      "Running Monte Carlo simulation number 100.\n"
     ]
    },
    {
     "name": "stderr",
     "output_type": "stream",
     "text": [
      "/Users/baite/Desktop/chal/MCForecastTools.py:117: PerformanceWarning: DataFrame is highly fragmented.  This is usually the result of calling `frame.insert` many times, which has poor performance.  Consider joining all columns at once using pd.concat(axis=1) instead.  To get a de-fragmented frame, use `newframe = frame.copy()`\n",
      "  portfolio_cumulative_returns[n] = (1 + sim_df.fillna(0)).cumprod()\n"
     ]
    },
    {
     "name": "stdout",
     "output_type": "stream",
     "text": [
      "Running Monte Carlo simulation number 110.\n",
      "Running Monte Carlo simulation number 120.\n",
      "Running Monte Carlo simulation number 130.\n",
      "Running Monte Carlo simulation number 140.\n",
      "Running Monte Carlo simulation number 150.\n",
      "Running Monte Carlo simulation number 160.\n",
      "Running Monte Carlo simulation number 170.\n",
      "Running Monte Carlo simulation number 180.\n",
      "Running Monte Carlo simulation number 190.\n",
      "Running Monte Carlo simulation number 200.\n",
      "Running Monte Carlo simulation number 210.\n",
      "Running Monte Carlo simulation number 220.\n",
      "Running Monte Carlo simulation number 230.\n",
      "Running Monte Carlo simulation number 240.\n",
      "Running Monte Carlo simulation number 250.\n",
      "Running Monte Carlo simulation number 260.\n",
      "Running Monte Carlo simulation number 270.\n",
      "Running Monte Carlo simulation number 280.\n",
      "Running Monte Carlo simulation number 290.\n",
      "Running Monte Carlo simulation number 300.\n",
      "Running Monte Carlo simulation number 310.\n",
      "Running Monte Carlo simulation number 320.\n",
      "Running Monte Carlo simulation number 330.\n",
      "Running Monte Carlo simulation number 340.\n",
      "Running Monte Carlo simulation number 350.\n",
      "Running Monte Carlo simulation number 360.\n",
      "Running Monte Carlo simulation number 370.\n",
      "Running Monte Carlo simulation number 380.\n",
      "Running Monte Carlo simulation number 390.\n",
      "Running Monte Carlo simulation number 400.\n",
      "Running Monte Carlo simulation number 410.\n",
      "Running Monte Carlo simulation number 420.\n",
      "Running Monte Carlo simulation number 430.\n",
      "Running Monte Carlo simulation number 440.\n",
      "Running Monte Carlo simulation number 450.\n",
      "Running Monte Carlo simulation number 460.\n",
      "Running Monte Carlo simulation number 470.\n",
      "Running Monte Carlo simulation number 480.\n",
      "Running Monte Carlo simulation number 490.\n"
     ]
    },
    {
     "data": {
      "text/html": [
       "<div>\n",
       "<style scoped>\n",
       "    .dataframe tbody tr th:only-of-type {\n",
       "        vertical-align: middle;\n",
       "    }\n",
       "\n",
       "    .dataframe tbody tr th {\n",
       "        vertical-align: top;\n",
       "    }\n",
       "\n",
       "    .dataframe thead th {\n",
       "        text-align: right;\n",
       "    }\n",
       "</style>\n",
       "<table border=\"1\" class=\"dataframe\">\n",
       "  <thead>\n",
       "    <tr style=\"text-align: right;\">\n",
       "      <th></th>\n",
       "      <th>0</th>\n",
       "      <th>1</th>\n",
       "      <th>2</th>\n",
       "      <th>3</th>\n",
       "      <th>4</th>\n",
       "      <th>5</th>\n",
       "      <th>6</th>\n",
       "      <th>7</th>\n",
       "      <th>8</th>\n",
       "      <th>9</th>\n",
       "      <th>...</th>\n",
       "      <th>490</th>\n",
       "      <th>491</th>\n",
       "      <th>492</th>\n",
       "      <th>493</th>\n",
       "      <th>494</th>\n",
       "      <th>495</th>\n",
       "      <th>496</th>\n",
       "      <th>497</th>\n",
       "      <th>498</th>\n",
       "      <th>499</th>\n",
       "    </tr>\n",
       "  </thead>\n",
       "  <tbody>\n",
       "    <tr>\n",
       "      <th>0</th>\n",
       "      <td>1.000000</td>\n",
       "      <td>1.000000</td>\n",
       "      <td>1.000000</td>\n",
       "      <td>1.000000</td>\n",
       "      <td>1.000000</td>\n",
       "      <td>1.000000</td>\n",
       "      <td>1.000000</td>\n",
       "      <td>1.000000</td>\n",
       "      <td>1.000000</td>\n",
       "      <td>1.000000</td>\n",
       "      <td>...</td>\n",
       "      <td>1.000000</td>\n",
       "      <td>1.000000</td>\n",
       "      <td>1.000000</td>\n",
       "      <td>1.000000</td>\n",
       "      <td>1.000000</td>\n",
       "      <td>1.000000</td>\n",
       "      <td>1.000000</td>\n",
       "      <td>1.000000</td>\n",
       "      <td>1.000000</td>\n",
       "      <td>1.000000</td>\n",
       "    </tr>\n",
       "    <tr>\n",
       "      <th>1</th>\n",
       "      <td>1.002324</td>\n",
       "      <td>1.003535</td>\n",
       "      <td>1.012202</td>\n",
       "      <td>0.991308</td>\n",
       "      <td>0.996219</td>\n",
       "      <td>0.999729</td>\n",
       "      <td>0.997244</td>\n",
       "      <td>1.001515</td>\n",
       "      <td>0.998257</td>\n",
       "      <td>1.023464</td>\n",
       "      <td>...</td>\n",
       "      <td>0.989025</td>\n",
       "      <td>0.993913</td>\n",
       "      <td>1.002860</td>\n",
       "      <td>1.003140</td>\n",
       "      <td>1.014253</td>\n",
       "      <td>0.995567</td>\n",
       "      <td>1.001987</td>\n",
       "      <td>1.008312</td>\n",
       "      <td>0.997468</td>\n",
       "      <td>0.990493</td>\n",
       "    </tr>\n",
       "    <tr>\n",
       "      <th>2</th>\n",
       "      <td>1.007902</td>\n",
       "      <td>0.998340</td>\n",
       "      <td>1.005249</td>\n",
       "      <td>1.000833</td>\n",
       "      <td>0.992002</td>\n",
       "      <td>0.997361</td>\n",
       "      <td>1.002635</td>\n",
       "      <td>0.996945</td>\n",
       "      <td>0.997536</td>\n",
       "      <td>1.038282</td>\n",
       "      <td>...</td>\n",
       "      <td>0.981275</td>\n",
       "      <td>0.989936</td>\n",
       "      <td>1.003771</td>\n",
       "      <td>1.014631</td>\n",
       "      <td>1.018553</td>\n",
       "      <td>1.007334</td>\n",
       "      <td>0.998025</td>\n",
       "      <td>1.017999</td>\n",
       "      <td>0.997971</td>\n",
       "      <td>0.998216</td>\n",
       "    </tr>\n",
       "    <tr>\n",
       "      <th>3</th>\n",
       "      <td>1.020222</td>\n",
       "      <td>1.003813</td>\n",
       "      <td>1.015196</td>\n",
       "      <td>1.000825</td>\n",
       "      <td>0.997489</td>\n",
       "      <td>1.000668</td>\n",
       "      <td>1.014220</td>\n",
       "      <td>0.988718</td>\n",
       "      <td>1.003962</td>\n",
       "      <td>1.044387</td>\n",
       "      <td>...</td>\n",
       "      <td>0.981559</td>\n",
       "      <td>0.989499</td>\n",
       "      <td>1.014236</td>\n",
       "      <td>1.008846</td>\n",
       "      <td>1.028694</td>\n",
       "      <td>1.001295</td>\n",
       "      <td>0.994537</td>\n",
       "      <td>1.022685</td>\n",
       "      <td>1.004125</td>\n",
       "      <td>1.000465</td>\n",
       "    </tr>\n",
       "    <tr>\n",
       "      <th>4</th>\n",
       "      <td>1.006633</td>\n",
       "      <td>1.016338</td>\n",
       "      <td>1.018601</td>\n",
       "      <td>0.995472</td>\n",
       "      <td>1.000370</td>\n",
       "      <td>0.996319</td>\n",
       "      <td>1.025218</td>\n",
       "      <td>1.006940</td>\n",
       "      <td>1.007816</td>\n",
       "      <td>1.047273</td>\n",
       "      <td>...</td>\n",
       "      <td>0.983364</td>\n",
       "      <td>0.983864</td>\n",
       "      <td>1.029479</td>\n",
       "      <td>1.028978</td>\n",
       "      <td>1.030451</td>\n",
       "      <td>0.995619</td>\n",
       "      <td>0.994553</td>\n",
       "      <td>1.017561</td>\n",
       "      <td>1.017909</td>\n",
       "      <td>0.991951</td>\n",
       "    </tr>\n",
       "    <tr>\n",
       "      <th>...</th>\n",
       "      <td>...</td>\n",
       "      <td>...</td>\n",
       "      <td>...</td>\n",
       "      <td>...</td>\n",
       "      <td>...</td>\n",
       "      <td>...</td>\n",
       "      <td>...</td>\n",
       "      <td>...</td>\n",
       "      <td>...</td>\n",
       "      <td>...</td>\n",
       "      <td>...</td>\n",
       "      <td>...</td>\n",
       "      <td>...</td>\n",
       "      <td>...</td>\n",
       "      <td>...</td>\n",
       "      <td>...</td>\n",
       "      <td>...</td>\n",
       "      <td>...</td>\n",
       "      <td>...</td>\n",
       "      <td>...</td>\n",
       "      <td>...</td>\n",
       "    </tr>\n",
       "    <tr>\n",
       "      <th>7556</th>\n",
       "      <td>13.989038</td>\n",
       "      <td>6.229545</td>\n",
       "      <td>5.705553</td>\n",
       "      <td>8.691888</td>\n",
       "      <td>10.000603</td>\n",
       "      <td>76.105659</td>\n",
       "      <td>13.409738</td>\n",
       "      <td>28.279405</td>\n",
       "      <td>32.891574</td>\n",
       "      <td>21.082937</td>\n",
       "      <td>...</td>\n",
       "      <td>11.863194</td>\n",
       "      <td>13.294845</td>\n",
       "      <td>82.605974</td>\n",
       "      <td>13.401127</td>\n",
       "      <td>35.389486</td>\n",
       "      <td>10.683372</td>\n",
       "      <td>20.397656</td>\n",
       "      <td>8.011211</td>\n",
       "      <td>8.468715</td>\n",
       "      <td>2.716814</td>\n",
       "    </tr>\n",
       "    <tr>\n",
       "      <th>7557</th>\n",
       "      <td>14.056314</td>\n",
       "      <td>6.170387</td>\n",
       "      <td>5.677053</td>\n",
       "      <td>8.707684</td>\n",
       "      <td>10.098175</td>\n",
       "      <td>74.893623</td>\n",
       "      <td>13.592844</td>\n",
       "      <td>28.384707</td>\n",
       "      <td>32.774944</td>\n",
       "      <td>21.108443</td>\n",
       "      <td>...</td>\n",
       "      <td>11.786040</td>\n",
       "      <td>13.167164</td>\n",
       "      <td>82.175030</td>\n",
       "      <td>13.565369</td>\n",
       "      <td>35.803323</td>\n",
       "      <td>10.613824</td>\n",
       "      <td>20.121097</td>\n",
       "      <td>7.942737</td>\n",
       "      <td>8.424919</td>\n",
       "      <td>2.723622</td>\n",
       "    </tr>\n",
       "    <tr>\n",
       "      <th>7558</th>\n",
       "      <td>13.855908</td>\n",
       "      <td>6.231608</td>\n",
       "      <td>5.692830</td>\n",
       "      <td>8.626216</td>\n",
       "      <td>10.112657</td>\n",
       "      <td>74.515125</td>\n",
       "      <td>13.711936</td>\n",
       "      <td>28.349674</td>\n",
       "      <td>32.707447</td>\n",
       "      <td>21.026508</td>\n",
       "      <td>...</td>\n",
       "      <td>11.850910</td>\n",
       "      <td>13.170440</td>\n",
       "      <td>81.040956</td>\n",
       "      <td>13.565511</td>\n",
       "      <td>35.603455</td>\n",
       "      <td>10.618681</td>\n",
       "      <td>20.170427</td>\n",
       "      <td>7.944211</td>\n",
       "      <td>8.504591</td>\n",
       "      <td>2.755075</td>\n",
       "    </tr>\n",
       "    <tr>\n",
       "      <th>7559</th>\n",
       "      <td>13.910570</td>\n",
       "      <td>6.248589</td>\n",
       "      <td>5.733378</td>\n",
       "      <td>8.754102</td>\n",
       "      <td>9.982887</td>\n",
       "      <td>75.876697</td>\n",
       "      <td>13.877108</td>\n",
       "      <td>28.443666</td>\n",
       "      <td>32.865443</td>\n",
       "      <td>21.081524</td>\n",
       "      <td>...</td>\n",
       "      <td>11.697478</td>\n",
       "      <td>13.272719</td>\n",
       "      <td>81.630655</td>\n",
       "      <td>13.559186</td>\n",
       "      <td>35.594640</td>\n",
       "      <td>10.588271</td>\n",
       "      <td>20.398910</td>\n",
       "      <td>7.930745</td>\n",
       "      <td>8.516894</td>\n",
       "      <td>2.746797</td>\n",
       "    </tr>\n",
       "    <tr>\n",
       "      <th>7560</th>\n",
       "      <td>13.899621</td>\n",
       "      <td>6.349553</td>\n",
       "      <td>5.643598</td>\n",
       "      <td>8.863116</td>\n",
       "      <td>10.060371</td>\n",
       "      <td>76.196070</td>\n",
       "      <td>13.957812</td>\n",
       "      <td>28.434613</td>\n",
       "      <td>33.180217</td>\n",
       "      <td>21.084620</td>\n",
       "      <td>...</td>\n",
       "      <td>11.718411</td>\n",
       "      <td>13.145401</td>\n",
       "      <td>82.151428</td>\n",
       "      <td>13.333170</td>\n",
       "      <td>35.752304</td>\n",
       "      <td>10.691116</td>\n",
       "      <td>20.483510</td>\n",
       "      <td>7.957218</td>\n",
       "      <td>8.526150</td>\n",
       "      <td>2.775952</td>\n",
       "    </tr>\n",
       "  </tbody>\n",
       "</table>\n",
       "<p>7561 rows × 500 columns</p>\n",
       "</div>"
      ],
      "text/plain": [
       "            0         1         2         3          4          5    \\\n",
       "0      1.000000  1.000000  1.000000  1.000000   1.000000   1.000000   \n",
       "1      1.002324  1.003535  1.012202  0.991308   0.996219   0.999729   \n",
       "2      1.007902  0.998340  1.005249  1.000833   0.992002   0.997361   \n",
       "3      1.020222  1.003813  1.015196  1.000825   0.997489   1.000668   \n",
       "4      1.006633  1.016338  1.018601  0.995472   1.000370   0.996319   \n",
       "...         ...       ...       ...       ...        ...        ...   \n",
       "7556  13.989038  6.229545  5.705553  8.691888  10.000603  76.105659   \n",
       "7557  14.056314  6.170387  5.677053  8.707684  10.098175  74.893623   \n",
       "7558  13.855908  6.231608  5.692830  8.626216  10.112657  74.515125   \n",
       "7559  13.910570  6.248589  5.733378  8.754102   9.982887  75.876697   \n",
       "7560  13.899621  6.349553  5.643598  8.863116  10.060371  76.196070   \n",
       "\n",
       "            6          7          8          9    ...        490        491  \\\n",
       "0      1.000000   1.000000   1.000000   1.000000  ...   1.000000   1.000000   \n",
       "1      0.997244   1.001515   0.998257   1.023464  ...   0.989025   0.993913   \n",
       "2      1.002635   0.996945   0.997536   1.038282  ...   0.981275   0.989936   \n",
       "3      1.014220   0.988718   1.003962   1.044387  ...   0.981559   0.989499   \n",
       "4      1.025218   1.006940   1.007816   1.047273  ...   0.983364   0.983864   \n",
       "...         ...        ...        ...        ...  ...        ...        ...   \n",
       "7556  13.409738  28.279405  32.891574  21.082937  ...  11.863194  13.294845   \n",
       "7557  13.592844  28.384707  32.774944  21.108443  ...  11.786040  13.167164   \n",
       "7558  13.711936  28.349674  32.707447  21.026508  ...  11.850910  13.170440   \n",
       "7559  13.877108  28.443666  32.865443  21.081524  ...  11.697478  13.272719   \n",
       "7560  13.957812  28.434613  33.180217  21.084620  ...  11.718411  13.145401   \n",
       "\n",
       "            492        493        494        495        496       497  \\\n",
       "0      1.000000   1.000000   1.000000   1.000000   1.000000  1.000000   \n",
       "1      1.002860   1.003140   1.014253   0.995567   1.001987  1.008312   \n",
       "2      1.003771   1.014631   1.018553   1.007334   0.998025  1.017999   \n",
       "3      1.014236   1.008846   1.028694   1.001295   0.994537  1.022685   \n",
       "4      1.029479   1.028978   1.030451   0.995619   0.994553  1.017561   \n",
       "...         ...        ...        ...        ...        ...       ...   \n",
       "7556  82.605974  13.401127  35.389486  10.683372  20.397656  8.011211   \n",
       "7557  82.175030  13.565369  35.803323  10.613824  20.121097  7.942737   \n",
       "7558  81.040956  13.565511  35.603455  10.618681  20.170427  7.944211   \n",
       "7559  81.630655  13.559186  35.594640  10.588271  20.398910  7.930745   \n",
       "7560  82.151428  13.333170  35.752304  10.691116  20.483510  7.957218   \n",
       "\n",
       "           498       499  \n",
       "0     1.000000  1.000000  \n",
       "1     0.997468  0.990493  \n",
       "2     0.997971  0.998216  \n",
       "3     1.004125  1.000465  \n",
       "4     1.017909  0.991951  \n",
       "...        ...       ...  \n",
       "7556  8.468715  2.716814  \n",
       "7557  8.424919  2.723622  \n",
       "7558  8.504591  2.755075  \n",
       "7559  8.516894  2.746797  \n",
       "7560  8.526150  2.775952  \n",
       "\n",
       "[7561 rows x 500 columns]"
      ]
     },
     "execution_count": 31,
     "metadata": {},
     "output_type": "execute_result"
    }
   ],
   "source": [
    "# Run the Monte Carlo simulation to forecast 30 years cumulative returns\n",
    "MC_simulation.calc_cumulative_return()\n"
   ]
  },
  {
   "cell_type": "code",
   "execution_count": 32,
   "metadata": {},
   "outputs": [
    {
     "data": {
      "image/png": "[encoded data removed]",
      "text/plain": [
       "<Figure size 432x288 with 1 Axes>"
      ]
     },
     "metadata": {
      "needs_background": "light"
     },
     "output_type": "display_data"
    }
   ],
   "source": [
    "# Visualize the 30-year Monte Carlo simulation by creating an\n",
    "# overlay line plot\n",
    "MC_30years = MC_simulation.plot_simulation()\n"
   ]
  },
  {
   "cell_type": "markdown",
   "metadata": {},
   "source": [
    "#### Step 3: Plot the probability distribution of the Monte Carlo simulation."
   ]
  },
  {
   "cell_type": "code",
   "execution_count": 33,
   "metadata": {},
   "outputs": [
    {
     "data": {
      "image/png": "[encoded data removed]",
      "text/plain": [
       "<Figure size 432x288 with 1 Axes>"
      ]
     },
     "metadata": {
      "needs_background": "light"
     },
     "output_type": "display_data"
    }
   ],
   "source": [
    "# Visualize the probability distribution of the 30-year Monte Carlo simulation \n",
    "# by plotting a histogram\n",
    "Mc_distribution = MC_simulation.plot_distribution()\n"
   ]
  },
  {
   "cell_type": "markdown",
   "metadata": {},
   "source": [
    "#### Step 4: Generate the summary statistics for the Monte Carlo simulation."
   ]
  },
  {
   "cell_type": "code",
   "execution_count": 34,
   "metadata": {},
   "outputs": [
    {
     "data": {
      "text/plain": [
       "count           500.000000\n",
       "mean             17.052146\n",
       "std              13.191169\n",
       "min               1.637501\n",
       "25%               8.308708\n",
       "50%              13.573675\n",
       "75%              21.667623\n",
       "max             109.784430\n",
       "95% CI Lower      3.522496\n",
       "95% CI Upper     54.391385\n",
       "Name: 7560, dtype: float64"
      ]
     },
     "execution_count": 34,
     "metadata": {},
     "output_type": "execute_result"
    }
   ],
   "source": [
    "# Generate summary statistics from the 30-year Monte Carlo simulation results\n",
    "# Save the results as a variable\n",
    "MC_summary = MC_simulation.summarize_cumulative_return()\n",
    "\n",
    "\n",
    "# Review the 30-year Monte Carlo summary statistics\n",
    "(MC_summary)"
   ]
  },
  {
   "cell_type": "markdown",
   "metadata": {},
   "source": [
    "### Analyze the Retirement Portfolio Forecasts\n",
    "\n",
    "Using the current value of only the stock and bond portion of the member's portfolio and the summary statistics that you generated from the Monte Carlo simulation, answer the following question in your Jupyter notebook:\n",
    "\n",
    "-  What are the lower and upper bounds for the expected value of the portfolio with a 95% confidence interval?\n"
   ]
  },
  {
   "cell_type": "code",
   "execution_count": 35,
   "metadata": {},
   "outputs": [
    {
     "name": "stdout",
     "output_type": "stream",
     "text": [
      "The current balance of the stock and bond portion of the portfolio is $51401.899999999994\n"
     ]
    }
   ],
   "source": [
    "# Print the current balance of the stock and bond portion of the members portfolio\n",
    "# YOUR CODE HERE\n",
    "print(f\"The current balance of the stock and bond portion of the portfolio is ${total_stocks_bonds}\")"
   ]
  },
  {
   "cell_type": "code",
   "execution_count": 36,
   "metadata": {},
   "outputs": [],
   "source": [
    "# Use the lower and upper `95%` confidence intervals to calculate the range of the possible outcomes for the current stock/bond portfolio\n",
    "ci_lower_thirty_cumulative_return = round(MC_summary[8]*total_stocks_bonds)\n",
    "ci_upper_thirty_cumulative_return = round(MC_summary[9]*total_stocks_bonds)"
   ]
  },
  {
   "cell_type": "code",
   "execution_count": 37,
   "metadata": {},
   "outputs": [
    {
     "name": "stdout",
     "output_type": "stream",
     "text": [
      "There is a 95% chance that the range of the possible outcomes for the current stock/bond portfolio will end within in the range of $181063 and $2795821.\n"
     ]
    }
   ],
   "source": [
    "# Print the result of your calculations\n",
    "print(f\"There is a 95% chance that the range of the possible outcomes for the current stock/bond portfolio\"\n",
    "      f\" will end within in the range of\"\n",
    "      f\" ${ci_lower_thirty_cumulative_return} and ${ci_upper_thirty_cumulative_return}.\")"
   ]
  },
  {
   "cell_type": "markdown",
   "metadata": {},
   "source": [
    "### Forecast Cumulative Returns in 10 Years\n",
    "\n",
    "The CTO of the credit union is impressed with your work on these planning tools but wonders if 30 years is a long time to wait until retirement. So, your next task is to adjust the retirement portfolio and run a new Monte Carlo simulation to find out if the changes will allow members to retire earlier.\n",
    "\n",
    "For this new Monte Carlo simulation, do the following: \n",
    "\n",
    "- Forecast the cumulative returns for 10 years from now. Because of the shortened investment horizon (30 years to 10 years), the portfolio needs to invest more heavily in the riskier asset&mdash;that is, stock&mdash;to help accumulate wealth for retirement. \n",
    "\n",
    "- Adjust the weights of the retirement portfolio so that the composition for the Monte Carlo simulation consists of 20% bonds and 80% stocks. \n",
    "\n",
    "- Run the simulation over 500 samples, and use the same data that the API call to Alpaca generated.\n",
    "\n",
    "- Based on the new Monte Carlo simulation, answer the following questions in your Jupyter notebook:\n",
    "\n",
    "    - Using the current value of only the stock and bond portion of the member's portfolio and the summary statistics that you generated from the new Monte Carlo simulation, what are the lower and upper bounds for the expected value of the portfolio (with the new weights) with a 95% confidence interval?\n",
    "\n",
    "    - Will weighting the portfolio more heavily toward stocks allow the credit union members to retire after only 10 years?\n"
   ]
  },
  {
   "cell_type": "code",
   "execution_count": 38,
   "metadata": {},
   "outputs": [
    {
     "data": {
      "text/html": [
       "<div>\n",
       "<style scoped>\n",
       "    .dataframe tbody tr th:only-of-type {\n",
       "        vertical-align: middle;\n",
       "    }\n",
       "\n",
       "    .dataframe tbody tr th {\n",
       "        vertical-align: top;\n",
       "    }\n",
       "\n",
       "    .dataframe thead tr th {\n",
       "        text-align: left;\n",
       "    }\n",
       "\n",
       "    .dataframe thead tr:last-of-type th {\n",
       "        text-align: right;\n",
       "    }\n",
       "</style>\n",
       "<table border=\"1\" class=\"dataframe\">\n",
       "  <thead>\n",
       "    <tr>\n",
       "      <th></th>\n",
       "      <th colspan=\"6\" halign=\"left\">AGG</th>\n",
       "      <th colspan=\"6\" halign=\"left\">SPY</th>\n",
       "    </tr>\n",
       "    <tr>\n",
       "      <th></th>\n",
       "      <th>open</th>\n",
       "      <th>high</th>\n",
       "      <th>low</th>\n",
       "      <th>close</th>\n",
       "      <th>volume</th>\n",
       "      <th>daily_return</th>\n",
       "      <th>open</th>\n",
       "      <th>high</th>\n",
       "      <th>low</th>\n",
       "      <th>close</th>\n",
       "      <th>volume</th>\n",
       "      <th>daily_return</th>\n",
       "    </tr>\n",
       "    <tr>\n",
       "      <th>time</th>\n",
       "      <th></th>\n",
       "      <th></th>\n",
       "      <th></th>\n",
       "      <th></th>\n",
       "      <th></th>\n",
       "      <th></th>\n",
       "      <th></th>\n",
       "      <th></th>\n",
       "      <th></th>\n",
       "      <th></th>\n",
       "      <th></th>\n",
       "      <th></th>\n",
       "    </tr>\n",
       "  </thead>\n",
       "  <tbody>\n",
       "    <tr>\n",
       "      <th>2018-02-15 00:00:00-05:00</th>\n",
       "      <td>106.55</td>\n",
       "      <td>106.7272</td>\n",
       "      <td>106.5300</td>\n",
       "      <td>106.59</td>\n",
       "      <td>2398428.0</td>\n",
       "      <td>NaN</td>\n",
       "      <td>NaN</td>\n",
       "      <td>NaN</td>\n",
       "      <td>NaN</td>\n",
       "      <td>NaN</td>\n",
       "      <td>NaN</td>\n",
       "      <td>NaN</td>\n",
       "    </tr>\n",
       "    <tr>\n",
       "      <th>2018-02-16 00:00:00-05:00</th>\n",
       "      <td>106.85</td>\n",
       "      <td>106.8750</td>\n",
       "      <td>106.7100</td>\n",
       "      <td>106.81</td>\n",
       "      <td>3391074.0</td>\n",
       "      <td>0.002064</td>\n",
       "      <td>272.31</td>\n",
       "      <td>275.32</td>\n",
       "      <td>272.27</td>\n",
       "      <td>273.09</td>\n",
       "      <td>76314679.0</td>\n",
       "      <td>NaN</td>\n",
       "    </tr>\n",
       "    <tr>\n",
       "      <th>2018-02-20 00:00:00-05:00</th>\n",
       "      <td>106.69</td>\n",
       "      <td>106.7099</td>\n",
       "      <td>106.5501</td>\n",
       "      <td>106.68</td>\n",
       "      <td>2372055.0</td>\n",
       "      <td>-0.001217</td>\n",
       "      <td>272.03</td>\n",
       "      <td>273.67</td>\n",
       "      <td>264.84</td>\n",
       "      <td>271.43</td>\n",
       "      <td>54829423.0</td>\n",
       "      <td>-0.006079</td>\n",
       "    </tr>\n",
       "    <tr>\n",
       "      <th>2018-02-21 00:00:00-05:00</th>\n",
       "      <td>106.77</td>\n",
       "      <td>106.8000</td>\n",
       "      <td>106.2601</td>\n",
       "      <td>106.30</td>\n",
       "      <td>3017853.0</td>\n",
       "      <td>-0.003562</td>\n",
       "      <td>271.90</td>\n",
       "      <td>274.72</td>\n",
       "      <td>269.98</td>\n",
       "      <td>270.00</td>\n",
       "      <td>67813909.0</td>\n",
       "      <td>-0.005268</td>\n",
       "    </tr>\n",
       "    <tr>\n",
       "      <th>2018-02-22 00:00:00-05:00</th>\n",
       "      <td>106.49</td>\n",
       "      <td>106.5600</td>\n",
       "      <td>106.3600</td>\n",
       "      <td>106.36</td>\n",
       "      <td>2150355.0</td>\n",
       "      <td>0.000564</td>\n",
       "      <td>271.09</td>\n",
       "      <td>273.05</td>\n",
       "      <td>269.64</td>\n",
       "      <td>270.32</td>\n",
       "      <td>65771832.0</td>\n",
       "      <td>0.001185</td>\n",
       "    </tr>\n",
       "  </tbody>\n",
       "</table>\n",
       "</div>"
      ],
      "text/plain": [
       "                              AGG                                         \\\n",
       "                             open      high       low   close     volume   \n",
       "time                                                                       \n",
       "2018-02-15 00:00:00-05:00  106.55  106.7272  106.5300  106.59  2398428.0   \n",
       "2018-02-16 00:00:00-05:00  106.85  106.8750  106.7100  106.81  3391074.0   \n",
       "2018-02-20 00:00:00-05:00  106.69  106.7099  106.5501  106.68  2372055.0   \n",
       "2018-02-21 00:00:00-05:00  106.77  106.8000  106.2601  106.30  3017853.0   \n",
       "2018-02-22 00:00:00-05:00  106.49  106.5600  106.3600  106.36  2150355.0   \n",
       "\n",
       "                                           SPY                          \\\n",
       "                          daily_return    open    high     low   close   \n",
       "time                                                                     \n",
       "2018-02-15 00:00:00-05:00          NaN     NaN     NaN     NaN     NaN   \n",
       "2018-02-16 00:00:00-05:00     0.002064  272.31  275.32  272.27  273.09   \n",
       "2018-02-20 00:00:00-05:00    -0.001217  272.03  273.67  264.84  271.43   \n",
       "2018-02-21 00:00:00-05:00    -0.003562  271.90  274.72  269.98  270.00   \n",
       "2018-02-22 00:00:00-05:00     0.000564  271.09  273.05  269.64  270.32   \n",
       "\n",
       "                                                    \n",
       "                               volume daily_return  \n",
       "time                                                \n",
       "2018-02-15 00:00:00-05:00         NaN          NaN  \n",
       "2018-02-16 00:00:00-05:00  76314679.0          NaN  \n",
       "2018-02-20 00:00:00-05:00  54829423.0    -0.006079  \n",
       "2018-02-21 00:00:00-05:00  67813909.0    -0.005268  \n",
       "2018-02-22 00:00:00-05:00  65771832.0     0.001185  "
      ]
     },
     "execution_count": 38,
     "metadata": {},
     "output_type": "execute_result"
    }
   ],
   "source": [
    "# Configure a Monte Carlo simulation to forecast 10 years cumulative returns\n",
    "# The weights should be split 20% to AGG and 80% to SPY.\n",
    "# Run 500 samples.\n",
    "Mc_10years = MCSimulation(\n",
    "    portfolio_data = prices_df,\n",
    "    weights = [.2,.8],\n",
    "    num_simulation = 500,\n",
    "    num_trading_days = 252*10\n",
    ")\n",
    "\n",
    "# Review the simulation input data\n",
    "Mc_10years.portfolio_data.head()\n"
   ]
  },
  {
   "cell_type": "code",
   "execution_count": 39,
   "metadata": {},
   "outputs": [
    {
     "name": "stdout",
     "output_type": "stream",
     "text": [
      "Running Monte Carlo simulation number 0.\n",
      "Running Monte Carlo simulation number 10.\n",
      "Running Monte Carlo simulation number 20.\n",
      "Running Monte Carlo simulation number 30.\n",
      "Running Monte Carlo simulation number 40.\n",
      "Running Monte Carlo simulation number 50.\n",
      "Running Monte Carlo simulation number 60.\n",
      "Running Monte Carlo simulation number 70.\n",
      "Running Monte Carlo simulation number 80.\n",
      "Running Monte Carlo simulation number 90.\n",
      "Running Monte Carlo simulation number 100.\n"
     ]
    },
    {
     "name": "stderr",
     "output_type": "stream",
     "text": [
      "/Users/baite/Desktop/chal/MCForecastTools.py:117: PerformanceWarning: DataFrame is highly fragmented.  This is usually the result of calling `frame.insert` many times, which has poor performance.  Consider joining all columns at once using pd.concat(axis=1) instead.  To get a de-fragmented frame, use `newframe = frame.copy()`\n",
      "  portfolio_cumulative_returns[n] = (1 + sim_df.fillna(0)).cumprod()\n"
     ]
    },
    {
     "name": "stdout",
     "output_type": "stream",
     "text": [
      "Running Monte Carlo simulation number 110.\n",
      "Running Monte Carlo simulation number 120.\n",
      "Running Monte Carlo simulation number 130.\n",
      "Running Monte Carlo simulation number 140.\n",
      "Running Monte Carlo simulation number 150.\n",
      "Running Monte Carlo simulation number 160.\n",
      "Running Monte Carlo simulation number 170.\n",
      "Running Monte Carlo simulation number 180.\n",
      "Running Monte Carlo simulation number 190.\n",
      "Running Monte Carlo simulation number 200.\n",
      "Running Monte Carlo simulation number 210.\n",
      "Running Monte Carlo simulation number 220.\n",
      "Running Monte Carlo simulation number 230.\n",
      "Running Monte Carlo simulation number 240.\n",
      "Running Monte Carlo simulation number 250.\n",
      "Running Monte Carlo simulation number 260.\n",
      "Running Monte Carlo simulation number 270.\n",
      "Running Monte Carlo simulation number 280.\n",
      "Running Monte Carlo simulation number 290.\n",
      "Running Monte Carlo simulation number 300.\n",
      "Running Monte Carlo simulation number 310.\n",
      "Running Monte Carlo simulation number 320.\n",
      "Running Monte Carlo simulation number 330.\n",
      "Running Monte Carlo simulation number 340.\n",
      "Running Monte Carlo simulation number 350.\n",
      "Running Monte Carlo simulation number 360.\n",
      "Running Monte Carlo simulation number 370.\n",
      "Running Monte Carlo simulation number 380.\n",
      "Running Monte Carlo simulation number 390.\n",
      "Running Monte Carlo simulation number 400.\n",
      "Running Monte Carlo simulation number 410.\n",
      "Running Monte Carlo simulation number 420.\n",
      "Running Monte Carlo simulation number 430.\n",
      "Running Monte Carlo simulation number 440.\n",
      "Running Monte Carlo simulation number 450.\n",
      "Running Monte Carlo simulation number 460.\n",
      "Running Monte Carlo simulation number 470.\n",
      "Running Monte Carlo simulation number 480.\n",
      "Running Monte Carlo simulation number 490.\n"
     ]
    },
    {
     "data": {
      "text/html": [
       "<div>\n",
       "<style scoped>\n",
       "    .dataframe tbody tr th:only-of-type {\n",
       "        vertical-align: middle;\n",
       "    }\n",
       "\n",
       "    .dataframe tbody tr th {\n",
       "        vertical-align: top;\n",
       "    }\n",
       "\n",
       "    .dataframe thead th {\n",
       "        text-align: right;\n",
       "    }\n",
       "</style>\n",
       "<table border=\"1\" class=\"dataframe\">\n",
       "  <thead>\n",
       "    <tr style=\"text-align: right;\">\n",
       "      <th></th>\n",
       "      <th>0</th>\n",
       "      <th>1</th>\n",
       "      <th>2</th>\n",
       "      <th>3</th>\n",
       "      <th>4</th>\n",
       "      <th>5</th>\n",
       "      <th>6</th>\n",
       "      <th>7</th>\n",
       "      <th>8</th>\n",
       "      <th>9</th>\n",
       "      <th>...</th>\n",
       "      <th>490</th>\n",
       "      <th>491</th>\n",
       "      <th>492</th>\n",
       "      <th>493</th>\n",
       "      <th>494</th>\n",
       "      <th>495</th>\n",
       "      <th>496</th>\n",
       "      <th>497</th>\n",
       "      <th>498</th>\n",
       "      <th>499</th>\n",
       "    </tr>\n",
       "  </thead>\n",
       "  <tbody>\n",
       "    <tr>\n",
       "      <th>0</th>\n",
       "      <td>1.000000</td>\n",
       "      <td>1.000000</td>\n",
       "      <td>1.000000</td>\n",
       "      <td>1.000000</td>\n",
       "      <td>1.000000</td>\n",
       "      <td>1.000000</td>\n",
       "      <td>1.000000</td>\n",
       "      <td>1.000000</td>\n",
       "      <td>1.000000</td>\n",
       "      <td>1.000000</td>\n",
       "      <td>...</td>\n",
       "      <td>1.000000</td>\n",
       "      <td>1.000000</td>\n",
       "      <td>1.000000</td>\n",
       "      <td>1.000000</td>\n",
       "      <td>1.000000</td>\n",
       "      <td>1.000000</td>\n",
       "      <td>1.000000</td>\n",
       "      <td>1.000000</td>\n",
       "      <td>1.000000</td>\n",
       "      <td>1.000000</td>\n",
       "    </tr>\n",
       "    <tr>\n",
       "      <th>1</th>\n",
       "      <td>1.001751</td>\n",
       "      <td>1.001802</td>\n",
       "      <td>0.992393</td>\n",
       "      <td>0.985698</td>\n",
       "      <td>0.993321</td>\n",
       "      <td>1.005450</td>\n",
       "      <td>0.998914</td>\n",
       "      <td>0.991399</td>\n",
       "      <td>0.985955</td>\n",
       "      <td>0.990766</td>\n",
       "      <td>...</td>\n",
       "      <td>0.992238</td>\n",
       "      <td>1.015037</td>\n",
       "      <td>0.999200</td>\n",
       "      <td>0.993757</td>\n",
       "      <td>0.990427</td>\n",
       "      <td>1.008998</td>\n",
       "      <td>1.006641</td>\n",
       "      <td>0.993609</td>\n",
       "      <td>1.008932</td>\n",
       "      <td>1.004935</td>\n",
       "    </tr>\n",
       "    <tr>\n",
       "      <th>2</th>\n",
       "      <td>0.997030</td>\n",
       "      <td>1.006130</td>\n",
       "      <td>0.988239</td>\n",
       "      <td>0.979282</td>\n",
       "      <td>0.994623</td>\n",
       "      <td>0.994200</td>\n",
       "      <td>0.990254</td>\n",
       "      <td>0.992811</td>\n",
       "      <td>0.995377</td>\n",
       "      <td>1.010454</td>\n",
       "      <td>...</td>\n",
       "      <td>1.023269</td>\n",
       "      <td>1.029417</td>\n",
       "      <td>1.009630</td>\n",
       "      <td>0.995913</td>\n",
       "      <td>0.993030</td>\n",
       "      <td>1.021840</td>\n",
       "      <td>1.010175</td>\n",
       "      <td>0.984140</td>\n",
       "      <td>1.020821</td>\n",
       "      <td>1.003417</td>\n",
       "    </tr>\n",
       "    <tr>\n",
       "      <th>3</th>\n",
       "      <td>1.005388</td>\n",
       "      <td>1.002494</td>\n",
       "      <td>0.992057</td>\n",
       "      <td>0.977694</td>\n",
       "      <td>1.006522</td>\n",
       "      <td>1.003338</td>\n",
       "      <td>1.002462</td>\n",
       "      <td>0.976615</td>\n",
       "      <td>1.008853</td>\n",
       "      <td>1.020961</td>\n",
       "      <td>...</td>\n",
       "      <td>1.017750</td>\n",
       "      <td>1.038898</td>\n",
       "      <td>1.009435</td>\n",
       "      <td>1.020247</td>\n",
       "      <td>0.990301</td>\n",
       "      <td>1.032288</td>\n",
       "      <td>1.005745</td>\n",
       "      <td>0.990692</td>\n",
       "      <td>1.015467</td>\n",
       "      <td>1.016938</td>\n",
       "    </tr>\n",
       "    <tr>\n",
       "      <th>4</th>\n",
       "      <td>0.990990</td>\n",
       "      <td>1.019795</td>\n",
       "      <td>0.985798</td>\n",
       "      <td>0.981682</td>\n",
       "      <td>1.027565</td>\n",
       "      <td>1.002169</td>\n",
       "      <td>1.030050</td>\n",
       "      <td>1.001731</td>\n",
       "      <td>1.005192</td>\n",
       "      <td>1.022365</td>\n",
       "      <td>...</td>\n",
       "      <td>1.019828</td>\n",
       "      <td>1.034759</td>\n",
       "      <td>1.017650</td>\n",
       "      <td>1.022698</td>\n",
       "      <td>0.981115</td>\n",
       "      <td>1.011196</td>\n",
       "      <td>0.998154</td>\n",
       "      <td>0.983003</td>\n",
       "      <td>1.011932</td>\n",
       "      <td>1.027845</td>\n",
       "    </tr>\n",
       "    <tr>\n",
       "      <th>...</th>\n",
       "      <td>...</td>\n",
       "      <td>...</td>\n",
       "      <td>...</td>\n",
       "      <td>...</td>\n",
       "      <td>...</td>\n",
       "      <td>...</td>\n",
       "      <td>...</td>\n",
       "      <td>...</td>\n",
       "      <td>...</td>\n",
       "      <td>...</td>\n",
       "      <td>...</td>\n",
       "      <td>...</td>\n",
       "      <td>...</td>\n",
       "      <td>...</td>\n",
       "      <td>...</td>\n",
       "      <td>...</td>\n",
       "      <td>...</td>\n",
       "      <td>...</td>\n",
       "      <td>...</td>\n",
       "      <td>...</td>\n",
       "      <td>...</td>\n",
       "    </tr>\n",
       "    <tr>\n",
       "      <th>2516</th>\n",
       "      <td>4.430518</td>\n",
       "      <td>2.281640</td>\n",
       "      <td>2.782924</td>\n",
       "      <td>5.144849</td>\n",
       "      <td>1.918776</td>\n",
       "      <td>3.618030</td>\n",
       "      <td>1.336605</td>\n",
       "      <td>1.274328</td>\n",
       "      <td>1.517350</td>\n",
       "      <td>1.763189</td>\n",
       "      <td>...</td>\n",
       "      <td>3.321287</td>\n",
       "      <td>1.961411</td>\n",
       "      <td>2.373813</td>\n",
       "      <td>7.329106</td>\n",
       "      <td>1.396291</td>\n",
       "      <td>5.011958</td>\n",
       "      <td>4.642904</td>\n",
       "      <td>1.861348</td>\n",
       "      <td>2.503640</td>\n",
       "      <td>2.500876</td>\n",
       "    </tr>\n",
       "    <tr>\n",
       "      <th>2517</th>\n",
       "      <td>4.422964</td>\n",
       "      <td>2.326660</td>\n",
       "      <td>2.775083</td>\n",
       "      <td>5.087053</td>\n",
       "      <td>1.899007</td>\n",
       "      <td>3.582332</td>\n",
       "      <td>1.346240</td>\n",
       "      <td>1.253311</td>\n",
       "      <td>1.534701</td>\n",
       "      <td>1.747475</td>\n",
       "      <td>...</td>\n",
       "      <td>3.344655</td>\n",
       "      <td>1.910372</td>\n",
       "      <td>2.404459</td>\n",
       "      <td>7.293910</td>\n",
       "      <td>1.413371</td>\n",
       "      <td>5.105405</td>\n",
       "      <td>4.765692</td>\n",
       "      <td>1.892815</td>\n",
       "      <td>2.493961</td>\n",
       "      <td>2.485168</td>\n",
       "    </tr>\n",
       "    <tr>\n",
       "      <th>2518</th>\n",
       "      <td>4.372343</td>\n",
       "      <td>2.354243</td>\n",
       "      <td>2.742458</td>\n",
       "      <td>5.067082</td>\n",
       "      <td>1.895960</td>\n",
       "      <td>3.545087</td>\n",
       "      <td>1.332179</td>\n",
       "      <td>1.263069</td>\n",
       "      <td>1.526255</td>\n",
       "      <td>1.719764</td>\n",
       "      <td>...</td>\n",
       "      <td>3.266859</td>\n",
       "      <td>1.903947</td>\n",
       "      <td>2.430225</td>\n",
       "      <td>7.293326</td>\n",
       "      <td>1.395997</td>\n",
       "      <td>5.130627</td>\n",
       "      <td>4.812613</td>\n",
       "      <td>1.893060</td>\n",
       "      <td>2.466655</td>\n",
       "      <td>2.493079</td>\n",
       "    </tr>\n",
       "    <tr>\n",
       "      <th>2519</th>\n",
       "      <td>4.437799</td>\n",
       "      <td>2.344898</td>\n",
       "      <td>2.748148</td>\n",
       "      <td>5.092188</td>\n",
       "      <td>1.889553</td>\n",
       "      <td>3.538021</td>\n",
       "      <td>1.330698</td>\n",
       "      <td>1.258303</td>\n",
       "      <td>1.531752</td>\n",
       "      <td>1.728138</td>\n",
       "      <td>...</td>\n",
       "      <td>3.282749</td>\n",
       "      <td>1.932884</td>\n",
       "      <td>2.369246</td>\n",
       "      <td>7.331109</td>\n",
       "      <td>1.383241</td>\n",
       "      <td>5.083990</td>\n",
       "      <td>4.788076</td>\n",
       "      <td>1.898062</td>\n",
       "      <td>2.474511</td>\n",
       "      <td>2.490628</td>\n",
       "    </tr>\n",
       "    <tr>\n",
       "      <th>2520</th>\n",
       "      <td>4.461923</td>\n",
       "      <td>2.352710</td>\n",
       "      <td>2.751801</td>\n",
       "      <td>5.079065</td>\n",
       "      <td>1.923071</td>\n",
       "      <td>3.498285</td>\n",
       "      <td>1.325239</td>\n",
       "      <td>1.269140</td>\n",
       "      <td>1.520647</td>\n",
       "      <td>1.701987</td>\n",
       "      <td>...</td>\n",
       "      <td>3.287885</td>\n",
       "      <td>1.922278</td>\n",
       "      <td>2.310437</td>\n",
       "      <td>7.420483</td>\n",
       "      <td>1.383274</td>\n",
       "      <td>5.153967</td>\n",
       "      <td>4.837678</td>\n",
       "      <td>1.929704</td>\n",
       "      <td>2.428747</td>\n",
       "      <td>2.495983</td>\n",
       "    </tr>\n",
       "  </tbody>\n",
       "</table>\n",
       "<p>2521 rows × 500 columns</p>\n",
       "</div>"
      ],
      "text/plain": [
       "           0         1         2         3         4         5         6    \\\n",
       "0     1.000000  1.000000  1.000000  1.000000  1.000000  1.000000  1.000000   \n",
       "1     1.001751  1.001802  0.992393  0.985698  0.993321  1.005450  0.998914   \n",
       "2     0.997030  1.006130  0.988239  0.979282  0.994623  0.994200  0.990254   \n",
       "3     1.005388  1.002494  0.992057  0.977694  1.006522  1.003338  1.002462   \n",
       "4     0.990990  1.019795  0.985798  0.981682  1.027565  1.002169  1.030050   \n",
       "...        ...       ...       ...       ...       ...       ...       ...   \n",
       "2516  4.430518  2.281640  2.782924  5.144849  1.918776  3.618030  1.336605   \n",
       "2517  4.422964  2.326660  2.775083  5.087053  1.899007  3.582332  1.346240   \n",
       "2518  4.372343  2.354243  2.742458  5.067082  1.895960  3.545087  1.332179   \n",
       "2519  4.437799  2.344898  2.748148  5.092188  1.889553  3.538021  1.330698   \n",
       "2520  4.461923  2.352710  2.751801  5.079065  1.923071  3.498285  1.325239   \n",
       "\n",
       "           7         8         9    ...       490       491       492  \\\n",
       "0     1.000000  1.000000  1.000000  ...  1.000000  1.000000  1.000000   \n",
       "1     0.991399  0.985955  0.990766  ...  0.992238  1.015037  0.999200   \n",
       "2     0.992811  0.995377  1.010454  ...  1.023269  1.029417  1.009630   \n",
       "3     0.976615  1.008853  1.020961  ...  1.017750  1.038898  1.009435   \n",
       "4     1.001731  1.005192  1.022365  ...  1.019828  1.034759  1.017650   \n",
       "...        ...       ...       ...  ...       ...       ...       ...   \n",
       "2516  1.274328  1.517350  1.763189  ...  3.321287  1.961411  2.373813   \n",
       "2517  1.253311  1.534701  1.747475  ...  3.344655  1.910372  2.404459   \n",
       "2518  1.263069  1.526255  1.719764  ...  3.266859  1.903947  2.430225   \n",
       "2519  1.258303  1.531752  1.728138  ...  3.282749  1.932884  2.369246   \n",
       "2520  1.269140  1.520647  1.701987  ...  3.287885  1.922278  2.310437   \n",
       "\n",
       "           493       494       495       496       497       498       499  \n",
       "0     1.000000  1.000000  1.000000  1.000000  1.000000  1.000000  1.000000  \n",
       "1     0.993757  0.990427  1.008998  1.006641  0.993609  1.008932  1.004935  \n",
       "2     0.995913  0.993030  1.021840  1.010175  0.984140  1.020821  1.003417  \n",
       "3     1.020247  0.990301  1.032288  1.005745  0.990692  1.015467  1.016938  \n",
       "4     1.022698  0.981115  1.011196  0.998154  0.983003  1.011932  1.027845  \n",
       "...        ...       ...       ...       ...       ...       ...       ...  \n",
       "2516  7.329106  1.396291  5.011958  4.642904  1.861348  2.503640  2.500876  \n",
       "2517  7.293910  1.413371  5.105405  4.765692  1.892815  2.493961  2.485168  \n",
       "2518  7.293326  1.395997  5.130627  4.812613  1.893060  2.466655  2.493079  \n",
       "2519  7.331109  1.383241  5.083990  4.788076  1.898062  2.474511  2.490628  \n",
       "2520  7.420483  1.383274  5.153967  4.837678  1.929704  2.428747  2.495983  \n",
       "\n",
       "[2521 rows x 500 columns]"
      ]
     },
     "execution_count": 39,
     "metadata": {},
     "output_type": "execute_result"
    }
   ],
   "source": [
    "# Run the Monte Carlo simulation to forecast 10 years cumulative return\n",
    "Mc_10years.calc_cumulative_return()\n"
   ]
  },
  {
   "cell_type": "code",
   "execution_count": 40,
   "metadata": {},
   "outputs": [
    {
     "data": {
      "image/png": "[encoded data removed]",
      "text/plain": [
       "<Figure size 432x288 with 1 Axes>"
      ]
     },
     "metadata": {
      "needs_background": "light"
     },
     "output_type": "display_data"
    }
   ],
   "source": [
    "# Visualize the 10-year Monte Carlo simulation by creating an\n",
    "# overlay line plot\n",
    "Mc_10years_simulations = Mc_10years.plot_simulation()\n"
   ]
  },
  {
   "cell_type": "code",
   "execution_count": 41,
   "metadata": {},
   "outputs": [
    {
     "data": {
      "image/png": "[encoded data removed]",
      "text/plain": [
       "<Figure size 432x288 with 1 Axes>"
      ]
     },
     "metadata": {
      "needs_background": "light"
     },
     "output_type": "display_data"
    }
   ],
   "source": [
    "# Visualize the probability distribution of the 10-year Monte Carlo simulation \n",
    "# by plotting a histogram\n",
    "Mc_10years_distribution = Mc_10years.plot_distribution()\n"
   ]
  },
  {
   "cell_type": "code",
   "execution_count": 42,
   "metadata": {},
   "outputs": [
    {
     "name": "stdout",
     "output_type": "stream",
     "text": [
      "count           500.000000\n",
      "mean              3.454315\n",
      "std               2.081940\n",
      "min               0.529443\n",
      "25%               2.049130\n",
      "50%               2.884980\n",
      "75%               4.453175\n",
      "max              13.864446\n",
      "95% CI Lower      1.009069\n",
      "95% CI Upper      8.966961\n",
      "Name: 2520, dtype: float64\n"
     ]
    }
   ],
   "source": [
    "# Generate summary statistics from the 10-year Monte Carlo simulation results\n",
    "# Save the results as a variable\n",
    "Mc_10years_summary_table = Mc_10years.summarize_cumulative_return()\n",
    "\n",
    "\n",
    "# Review the 10-year Monte Carlo summary statistics\n",
    "print(Mc_10years_summary_table)"
   ]
  },
  {
   "cell_type": "markdown",
   "metadata": {},
   "source": [
    "### Answer the following questions:"
   ]
  },
  {
   "cell_type": "markdown",
   "metadata": {},
   "source": [
    "#### Question: Using the current value of only the stock and bond portion of the member's portfolio and the summary statistics that you generated from the new Monte Carlo simulation, what are the lower and upper bounds for the expected value of the portfolio (with the new weights) with a 95% confidence interval?"
   ]
  },
  {
   "cell_type": "code",
   "execution_count": 43,
   "metadata": {},
   "outputs": [
    {
     "name": "stdout",
     "output_type": "stream",
     "text": [
      "The current balance of the stock and bond portion of the members portfolio $51401.899999999994\n"
     ]
    }
   ],
   "source": [
    "# Print the current balance of the stock and bond portion of the members portfolio\n",
    "print(f\"The current balance of the stock and bond portion of the members portfolio ${total_stocks_bonds}\")\n"
   ]
  },
  {
   "cell_type": "code",
   "execution_count": 44,
   "metadata": {},
   "outputs": [
    {
     "name": "stdout",
     "output_type": "stream",
     "text": [
      "There is a 95% chance that the range of the possible outcomes for the current stock/bond portfolio will end within in the range of $51868 and $460919.\n"
     ]
    }
   ],
   "source": [
    "# Use the lower and upper `95%` confidence intervals to calculate the range of the possible outcomes for the current stock/bond portfolio\n",
    "ci_lower_ten_cumulative_return = round(Mc_10years_summary_table[8]*total_stocks_bonds)\n",
    "ci_upper_ten_cumulative_return = round(Mc_10years_summary_table[9]*total_stocks_bonds)\n",
    "\n",
    "# Print the result of your calculations\n",
    "print(f\"There is a 95% chance that the range of the possible outcomes for the current stock/bond portfolio\"\n",
    "      f\" will end within in the range of\"\n",
    "      f\" ${ci_lower_ten_cumulative_return} and ${ci_upper_ten_cumulative_return}.\")\n"
   ]
  },
  {
   "cell_type": "markdown",
   "metadata": {},
   "source": [
    "#### Question: Will weighting the portfolio more heavily to stocks allow the credit union members to retire after only 10 years?"
   ]
  },
  {
   "cell_type": "raw",
   "metadata": {},
   "source": [
    "##Answer** # \n",
    "Weighting the portfolio more heavily to stock does not necessarily mean that members can retire after 10 years, as the share price may fall and thus lose out. Nevertheless, the range is less important than the 30 years range as we have seen in the results."
   ]
  },
  {
   "cell_type": "code",
   "execution_count": 4,
   "metadata": {},
   "outputs": [],
   "source": [
    "#Answer** \n",
    "Weighting the portfolio more heavily to stock dont necessarily mean that members can retire after ten years \n",
    "As the share price may fall,so thus lose out.\n",
    "Nevertheless, the range is less important than the 30 years range as we have seen in the results."
   ]
  },
  {
   "cell_type": "code",
   "execution_count": null,
   "metadata": {},
   "outputs": [],
   "source": []
  }
 ],
 "metadata": {
  "kernelspec": {
   "display_name": "python (dev)",
   "language": "python",
   "name": "dev"
  },
  "language_info": {
   "codemirror_mode": {
    "name": "ipython",
    "version": 3
   },
   "file_extension": ".py",
   "mimetype": "text/x-python",
   "name": "python",
   "nbconvert_exporter": "python",
   "pygments_lexer": "ipython3",
   "version": "3.7.11"
  }
 },
 "nbformat": 4,
 "nbformat_minor": 4
}
