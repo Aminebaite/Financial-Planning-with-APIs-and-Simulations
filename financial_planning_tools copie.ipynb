{
 "cells": [
  {
   "cell_type": "markdown",
   "metadata": {},
   "source": [
    "# Financial Planning with APIs and Simulations\n",
    "\n",
    "In this Challenge, you’ll create two financial analysis tools by using a single Jupyter notebook:\n",
    "\n",
    "Part 1: A financial planner for emergencies. The members will be able to use this tool to visualize their current savings. The members can then determine if they have enough reserves for an emergency fund.\n",
    "\n",
    "Part 2: A financial planner for retirement. This tool will forecast the performance of their retirement portfolio in 30 years. To do this, the tool will make an Alpaca API call via the Alpaca SDK to get historical price data for use in Monte Carlo simulations.\n",
    "\n",
    "You’ll use the information from the Monte Carlo simulation to answer questions about the portfolio in your Jupyter notebook.\n",
    "\n"
   ]
  },
  {
   "cell_type": "code",
   "execution_count": 1,
   "metadata": {},
   "outputs": [],
   "source": [
    "# Import the required libraries and dependencies\n",
    "import os\n",
    "import requests\n",
    "import json\n",
    "import pandas as pd\n",
    "from dotenv import load_dotenv\n",
    "import alpaca_trade_api as tradeapi\n",
    "from MCForecastTools import MCSimulation\n",
    "\n",
    "%matplotlib inline"
   ]
  },
  {
   "cell_type": "code",
   "execution_count": 2,
   "metadata": {},
   "outputs": [
    {
     "data": {
      "text/plain": [
       "True"
      ]
     },
     "execution_count": 2,
     "metadata": {},
     "output_type": "execute_result"
    }
   ],
   "source": [
    "# Load the environment variables from the .env file\n",
    "#by calling the load_dotenv function\n",
    "load_dotenv()"
   ]
  },
  {
   "cell_type": "markdown",
   "metadata": {},
   "source": [
    "## Part 1: Create a Financial Planner for Emergencies"
   ]
  },
  {
   "cell_type": "markdown",
   "metadata": {},
   "source": [
    "### Evaluate the Cryptocurrency Wallet by Using the Requests Library\n",
    "\n",
    "In this section, you’ll determine the current value of a member’s cryptocurrency wallet. You’ll collect the current prices for the Bitcoin and Ethereum cryptocurrencies by using the Python Requests library. For the prototype, you’ll assume that the member holds the 1.2 Bitcoins (BTC) and 5.3 Ethereum coins (ETH). To do all this, complete the following steps:\n",
    "\n",
    "1. Create a variable named `monthly_income`, and set its value to `12000`.\n",
    "\n",
    "2. Use the Requests library to get the current price (in US dollars) of Bitcoin (BTC) and Ethereum (ETH) by using the API endpoints that the starter code supplies.\n",
    "\n",
    "3. Navigate the JSON response object to access the current price of each coin, and store each in a variable.\n",
    "\n",
    "    > **Hint** Note the specific identifier for each cryptocurrency in the API JSON response. The Bitcoin identifier is `1`, and the Ethereum identifier is `1027`.\n",
    "\n",
    "4. Calculate the value, in US dollars, of the current amount of each cryptocurrency and of the entire cryptocurrency wallet.\n",
    "\n"
   ]
  },
  {
   "cell_type": "code",
   "execution_count": 3,
   "metadata": {},
   "outputs": [],
   "source": [
    "# The current number of coins for each cryptocurrency asset held in the portfolio.\n",
    "btc_coins = 1.2\n",
    "eth_coins = 5.3"
   ]
  },
  {
   "cell_type": "markdown",
   "metadata": {},
   "source": [
    "#### Step 1: Create a variable named `monthly_income`, and set its value to `12000`."
   ]
  },
  {
   "cell_type": "code",
   "execution_count": 4,
   "metadata": {},
   "outputs": [],
   "source": [
    "# The monthly amount for the member's household income\n",
    "monthly_income = 12000\n",
    "\n"
   ]
  },
  {
   "cell_type": "markdown",
   "metadata": {},
   "source": [
    "#### Review the endpoint URLs for the API calls to Free Crypto API in order to get the current pricing information for both BTC and ETH."
   ]
  },
  {
   "cell_type": "code",
   "execution_count": 5,
   "metadata": {},
   "outputs": [],
   "source": [
    "# The Free Crypto API Call endpoint URLs for the held cryptocurrency assets\n",
    "btc_url = \"https://api.alternative.me/v2/ticker/Bitcoin/?convert=USD\"\n",
    "eth_url = \"https://api.alternative.me/v2/ticker/Ethereum/?convert=USD\""
   ]
  },
  {
   "cell_type": "markdown",
   "metadata": {},
   "source": [
    "#### Step 2. Use the Requests library to get the current price (in US dollars) of Bitcoin (BTC) and Ethereum (ETH) by using the API endpoints that the starter code supplied."
   ]
  },
  {
   "cell_type": "code",
   "execution_count": 8,
   "metadata": {},
   "outputs": [
    {
     "name": "stdout",
     "output_type": "stream",
     "text": [
      "{\n",
      "  \"data\": {\n",
      "    \"1\": {\n",
      "      \"circulating_supply\": 18950900,\n",
      "      \"id\": 1,\n",
      "      \"last_updated\": 1644206639,\n",
      "      \"max_supply\": 21000000,\n",
      "      \"name\": \"Bitcoin\",\n",
      "      \"quotes\": {\n",
      "        \"USD\": {\n",
      "          \"market_cap\": 813989928187,\n",
      "          \"percent_change_1h\": 1.11474794683738,\n",
      "          \"percent_change_24h\": 3.32770648942761,\n",
      "          \"percent_change_7d\": 13.0199080506736,\n",
      "          \"percentage_change_1h\": 1.11474794683738,\n",
      "          \"percentage_change_24h\": 3.32770648942761,\n",
      "          \"percentage_change_7d\": 13.0199080506736,\n",
      "          \"price\": 42929.0,\n",
      "          \"volume_24h\": 16061869919\n",
      "        }\n",
      "      },\n",
      "      \"rank\": 1,\n",
      "      \"symbol\": \"BTC\",\n",
      "      \"total_supply\": 18950900,\n",
      "      \"website_slug\": \"bitcoin\"\n",
      "    }\n",
      "  },\n",
      "  \"metadata\": {\n",
      "    \"error\": null,\n",
      "    \"num_cryptocurrencies\": 3105,\n",
      "    \"timestamp\": 1644206639\n",
      "  }\n",
      "}\n"
     ]
    }
   ],
   "source": [
    "# Using the Python requests library, make an API call to access the current price of BTC\n",
    "btc_response = requests.get(btc_url).json()\n",
    "\n",
    "# Use the json.dumps function to review the response data from the API call\n",
    "# Use the indent and sort_keys parameters to make the response object readable\n",
    "print(json.dumps(btc_response,indent=2,sort_keys=True))\n"
   ]
  },
  {
   "cell_type": "code",
   "execution_count": 10,
   "metadata": {},
   "outputs": [
    {
     "name": "stdout",
     "output_type": "stream",
     "text": [
      "{\n",
      "  \"data\": {\n",
      "    \"1027\": {\n",
      "      \"circulating_supply\": 119477019,\n",
      "      \"id\": 1027,\n",
      "      \"last_updated\": 1644206660,\n",
      "      \"max_supply\": 0,\n",
      "      \"name\": \"Ethereum\",\n",
      "      \"quotes\": {\n",
      "        \"USD\": {\n",
      "          \"market_cap\": 367566716238,\n",
      "          \"percent_change_1h\": 1.02900420440185,\n",
      "          \"percent_change_24h\": 1.75193023522077,\n",
      "          \"percent_change_7d\": 17.7311175203299,\n",
      "          \"percentage_change_1h\": 1.02900420440185,\n",
      "          \"percentage_change_24h\": 1.75193023522077,\n",
      "          \"percentage_change_7d\": 17.7311175203299,\n",
      "          \"price\": 3073.0,\n",
      "          \"volume_24h\": 10455461072\n",
      "        }\n",
      "      },\n",
      "      \"rank\": 2,\n",
      "      \"symbol\": \"ETH\",\n",
      "      \"total_supply\": 119477019,\n",
      "      \"website_slug\": \"ethereum\"\n",
      "    }\n",
      "  },\n",
      "  \"metadata\": {\n",
      "    \"error\": null,\n",
      "    \"num_cryptocurrencies\": 3105,\n",
      "    \"timestamp\": 1644206660\n",
      "  }\n",
      "}\n"
     ]
    }
   ],
   "source": [
    "# Using the Python requests library, make an API call to access the current price ETH\n",
    "eth_response = requests.get(eth_url).json()\n",
    "\n",
    "# Use the json.dumps function to review the response data from the API call\n",
    "# Use the indent and sort_keys parameters to make the response object readable\n",
    "print(json.dumps(eth_response,indent=2,sort_keys=True))\n"
   ]
  },
  {
   "cell_type": "markdown",
   "metadata": {},
   "source": [
    "#### Step 3: Navigate the JSON response object to access the current price of each coin, and store each in a variable."
   ]
  },
  {
   "cell_type": "code",
   "execution_count": 15,
   "metadata": {},
   "outputs": [
    {
     "name": "stdout",
     "output_type": "stream",
     "text": [
      "The current price of BTC is $ 42929.0\n"
     ]
    }
   ],
   "source": [
    "# Navigate the BTC response object to access the current price of BTC\n",
    "btc_price = btc_response[\"data\"][\"1\"][\"quotes\"][\"USD\"][\"price\"]\n",
    "\n",
    "# Print the current price of BTC\n",
    "print(f\"The current price of BTC is $ {btc_price}\")\n"
   ]
  },
  {
   "cell_type": "code",
   "execution_count": 16,
   "metadata": {},
   "outputs": [
    {
     "name": "stdout",
     "output_type": "stream",
     "text": [
      "The current price of ETH is $ 3073.0\n"
     ]
    }
   ],
   "source": [
    "# Navigate the BTC response object to access the current price of ETH\n",
    "eth_price = eth_response[\"data\"][\"1027\"][\"quotes\"][\"USD\"][\"price\"]\n",
    "\n",
    "# Print the current price of ETH\n",
    "print(f\"The current price of ETH is $ {eth_price}\")\n"
   ]
  },
  {
   "cell_type": "markdown",
   "metadata": {},
   "source": [
    "### Step 4: Calculate the value, in US dollars, of the current amount of each cryptocurrency and of the entire cryptocurrency wallet."
   ]
  },
  {
   "cell_type": "code",
   "execution_count": 17,
   "metadata": {},
   "outputs": [
    {
     "name": "stdout",
     "output_type": "stream",
     "text": [
      "The current value of the btc shares is $51514.799999999996\n"
     ]
    }
   ],
   "source": [
    "# Compute the current value of the BTC holding \n",
    "btc_value = btc_price * btc_coins\n",
    "\n",
    "# Print current value of your holding in BTC\n",
    "print(f\"The current value of the btc shares is ${btc_value}\")\n"
   ]
  },
  {
   "cell_type": "code",
   "execution_count": 21,
   "metadata": {},
   "outputs": [
    {
     "name": "stdout",
     "output_type": "stream",
     "text": [
      "The current value of the ETH shares is 16286.9\n"
     ]
    }
   ],
   "source": [
    "# Compute the current value of the ETH holding \n",
    "eth_value = eth_price * eth_coins\n",
    "\n",
    "# Print current value of your holding in ETH\n",
    "print(f\"The current value of the ETH shares is {eth_value}\")\n"
   ]
  },
  {
   "cell_type": "code",
   "execution_count": 23,
   "metadata": {},
   "outputs": [
    {
     "name": "stdout",
     "output_type": "stream",
     "text": [
      "The current value of the cryptocurrency wallet balance is $67801.7\n"
     ]
    }
   ],
   "source": [
    "# Compute the total value of the cryptocurrency wallet\n",
    "# Add the value of the BTC holding to the value of the ETH holding\n",
    "total_crypto_wallet = btc_value + eth_value\n",
    "\n",
    "# Print current cryptocurrency wallet balance\n",
    "print(f\"The current value of the cryptocurrency wallet balance is ${total_crypto_wallet}\")\n"
   ]
  },
  {
   "cell_type": "markdown",
   "metadata": {},
   "source": [
    "### Evaluate the Stock and Bond Holdings by Using the Alpaca SDK\n",
    "\n",
    "In this section, you’ll determine the current value of a member’s stock and bond holdings. You’ll make an API call to Alpaca via the Alpaca SDK to get the current closing prices of the SPDR S&P 500 ETF Trust (ticker: SPY) and of the iShares Core US Aggregate Bond ETF (ticker: AGG). For the prototype, assume that the member holds 110 shares of SPY, which represents the stock portion of their portfolio, and 200 shares of AGG, which represents the bond portion. To do all this, complete the following steps:\n",
    "\n",
    "1. In the `Starter_Code` folder, create an environment file (`.env`) to store the values of your Alpaca API key and Alpaca secret key.\n",
    "\n",
    "2. Set the variables for the Alpaca API and secret keys. Using the Alpaca SDK, create the Alpaca `tradeapi.REST` object. In this object, include the parameters for the Alpaca API key, the secret key, and the version number.\n",
    "\n",
    "3. Set the following parameters for the Alpaca API call:\n",
    "\n",
    "    - `tickers`: Use the tickers for the member’s stock and bond holdings.\n",
    "\n",
    "    - `timeframe`: Use a time frame of one day.\n",
    "\n",
    "    - `start_date` and `end_date`: Use the same date for these parameters, and format them with the date of the previous weekday (or `2020-08-07`). This is because you want the one closing price for the most-recent trading day.\n",
    "\n",
    "4. Get the current closing prices for `SPY` and `AGG` by using the Alpaca `get_barset` function. Format the response as a Pandas DataFrame by including the `df` property at the end of the `get_barset` function.\n",
    "\n",
    "5. Navigating the Alpaca response DataFrame, select the `SPY` and `AGG` closing prices, and store them as variables.\n",
    "\n",
    "6. Calculate the value, in US dollars, of the current amount of shares in each of the stock and bond portions of the portfolio, and print the results.\n"
   ]
  },
  {
   "cell_type": "markdown",
   "metadata": {},
   "source": [
    "#### Review the total number of shares held in both (SPY) and (AGG)."
   ]
  },
  {
   "cell_type": "code",
   "execution_count": 59,
   "metadata": {},
   "outputs": [],
   "source": [
    "# Current amount of shares held in both the stock (SPY) and bond (AGG) portion of the portfolio.\n",
    "spy_shares = 110\n",
    "agg_shares = 200\n"
   ]
  },
  {
   "cell_type": "markdown",
   "metadata": {},
   "source": [
    "#### Step 1: In the `Starter_Code` folder, create an environment file (`.env`) to store the values of your Alpaca API key and Alpaca secret key."
   ]
  },
  {
   "cell_type": "markdown",
   "metadata": {},
   "source": [
    "#### Step 2: Set the variables for the Alpaca API and secret keys. Using the Alpaca SDK, create the Alpaca `tradeapi.REST` object. In this object, include the parameters for the Alpaca API key, the secret key, and the version number."
   ]
  },
  {
   "cell_type": "code",
   "execution_count": 60,
   "metadata": {},
   "outputs": [],
   "source": [
    "# Set the variables for the Alpaca API and secret keys\n",
    "load_dotenv()\n",
    "alpaca_api_key = os.getenv(\"ALPACA_API_KEY\")\n",
    "alpaca_secret_key = os.getenv(\"ALPACA_SECRET_KEY\")\n",
    "# Create the Alpaca tradeapi.REST object\n",
    "alpaca= tradeapi.REST(\n",
    "    alpaca_api_key,\n",
    "    alpaca_secret_key,\n",
    "    api_version=\"v2\")\n"
   ]
  },
  {
   "cell_type": "markdown",
   "metadata": {},
   "source": [
    "#### Step 3: Set the following parameters for the Alpaca API call:\n",
    "\n",
    "- `tickers`: Use the tickers for the member’s stock and bond holdings.\n",
    "\n",
    "- `timeframe`: Use a time frame of one day.\n",
    "\n",
    "- `start_date` and `end_date`: Use the same date for these parameters, and format them with the date of the previous weekday (or `2020-08-07`). This is because you want the one closing price for the most-recent trading day.\n"
   ]
  },
  {
   "cell_type": "code",
   "execution_count": 61,
   "metadata": {},
   "outputs": [],
   "source": [
    "# Set the tickers for both the bond and stock portion of the portfolio\n",
    "tickers = [\"SPY\", \"AGG\"]\n",
    "\n",
    "# Set timeframe to 1D \n",
    "timeframe = \"1D\"\n",
    "\n",
    "# Format current date as ISO format\n",
    "# Set both the start and end date at the date of your prior weekday \n",
    "# This will give you the closing price of the previous trading day\n",
    "# Alternatively you can use a start and end date of 2020-08-07\n"
   ]
  },
  {
   "cell_type": "markdown",
   "metadata": {},
   "source": [
    "#### Step 4: Get the current closing prices for `SPY` and `AGG` by using the Alpaca `get_barset` function. Format the response as a Pandas DataFrame by including the `df` property at the end of the `get_barset` function."
   ]
  },
  {
   "cell_type": "code",
   "execution_count": 69,
   "metadata": {},
   "outputs": [
    {
     "data": {
      "text/html": [
       "<div>\n",
       "<style scoped>\n",
       "    .dataframe tbody tr th:only-of-type {\n",
       "        vertical-align: middle;\n",
       "    }\n",
       "\n",
       "    .dataframe tbody tr th {\n",
       "        vertical-align: top;\n",
       "    }\n",
       "\n",
       "    .dataframe thead tr th {\n",
       "        text-align: left;\n",
       "    }\n",
       "\n",
       "    .dataframe thead tr:last-of-type th {\n",
       "        text-align: right;\n",
       "    }\n",
       "</style>\n",
       "<table border=\"1\" class=\"dataframe\">\n",
       "  <thead>\n",
       "    <tr>\n",
       "      <th></th>\n",
       "      <th colspan=\"5\" halign=\"left\">AGG</th>\n",
       "      <th colspan=\"5\" halign=\"left\">SPY</th>\n",
       "    </tr>\n",
       "    <tr>\n",
       "      <th></th>\n",
       "      <th>open</th>\n",
       "      <th>high</th>\n",
       "      <th>low</th>\n",
       "      <th>close</th>\n",
       "      <th>volume</th>\n",
       "      <th>open</th>\n",
       "      <th>high</th>\n",
       "      <th>low</th>\n",
       "      <th>close</th>\n",
       "      <th>volume</th>\n",
       "    </tr>\n",
       "    <tr>\n",
       "      <th>time</th>\n",
       "      <th></th>\n",
       "      <th></th>\n",
       "      <th></th>\n",
       "      <th></th>\n",
       "      <th></th>\n",
       "      <th></th>\n",
       "      <th></th>\n",
       "      <th></th>\n",
       "      <th></th>\n",
       "      <th></th>\n",
       "    </tr>\n",
       "  </thead>\n",
       "  <tbody>\n",
       "    <tr>\n",
       "      <th>2018-02-16 00:00:00-05:00</th>\n",
       "      <td>106.85</td>\n",
       "      <td>106.8750</td>\n",
       "      <td>106.7100</td>\n",
       "      <td>106.81</td>\n",
       "      <td>3391074</td>\n",
       "      <td>272.31</td>\n",
       "      <td>275.32</td>\n",
       "      <td>272.27</td>\n",
       "      <td>273.09</td>\n",
       "      <td>76314679</td>\n",
       "    </tr>\n",
       "    <tr>\n",
       "      <th>2018-02-20 00:00:00-05:00</th>\n",
       "      <td>106.69</td>\n",
       "      <td>106.7099</td>\n",
       "      <td>106.5501</td>\n",
       "      <td>106.68</td>\n",
       "      <td>2372055</td>\n",
       "      <td>272.03</td>\n",
       "      <td>273.67</td>\n",
       "      <td>264.84</td>\n",
       "      <td>271.43</td>\n",
       "      <td>54829423</td>\n",
       "    </tr>\n",
       "    <tr>\n",
       "      <th>2018-02-21 00:00:00-05:00</th>\n",
       "      <td>106.77</td>\n",
       "      <td>106.8000</td>\n",
       "      <td>106.2601</td>\n",
       "      <td>106.30</td>\n",
       "      <td>3017853</td>\n",
       "      <td>271.90</td>\n",
       "      <td>274.72</td>\n",
       "      <td>269.98</td>\n",
       "      <td>270.00</td>\n",
       "      <td>67813909</td>\n",
       "    </tr>\n",
       "    <tr>\n",
       "      <th>2018-02-22 00:00:00-05:00</th>\n",
       "      <td>106.49</td>\n",
       "      <td>106.5600</td>\n",
       "      <td>106.3600</td>\n",
       "      <td>106.36</td>\n",
       "      <td>2150355</td>\n",
       "      <td>271.09</td>\n",
       "      <td>273.05</td>\n",
       "      <td>269.64</td>\n",
       "      <td>270.32</td>\n",
       "      <td>65771832</td>\n",
       "    </tr>\n",
       "    <tr>\n",
       "      <th>2018-02-23 00:00:00-05:00</th>\n",
       "      <td>106.61</td>\n",
       "      <td>106.7600</td>\n",
       "      <td>106.5650</td>\n",
       "      <td>106.69</td>\n",
       "      <td>2113324</td>\n",
       "      <td>271.81</td>\n",
       "      <td>274.70</td>\n",
       "      <td>271.25</td>\n",
       "      <td>274.69</td>\n",
       "      <td>54742759</td>\n",
       "    </tr>\n",
       "  </tbody>\n",
       "</table>\n",
       "</div>"
      ],
      "text/plain": [
       "                              AGG                                       \\\n",
       "                             open      high       low   close   volume   \n",
       "time                                                                     \n",
       "2018-02-16 00:00:00-05:00  106.85  106.8750  106.7100  106.81  3391074   \n",
       "2018-02-20 00:00:00-05:00  106.69  106.7099  106.5501  106.68  2372055   \n",
       "2018-02-21 00:00:00-05:00  106.77  106.8000  106.2601  106.30  3017853   \n",
       "2018-02-22 00:00:00-05:00  106.49  106.5600  106.3600  106.36  2150355   \n",
       "2018-02-23 00:00:00-05:00  106.61  106.7600  106.5650  106.69  2113324   \n",
       "\n",
       "                              SPY                                    \n",
       "                             open    high     low   close    volume  \n",
       "time                                                                 \n",
       "2018-02-16 00:00:00-05:00  272.31  275.32  272.27  273.09  76314679  \n",
       "2018-02-20 00:00:00-05:00  272.03  273.67  264.84  271.43  54829423  \n",
       "2018-02-21 00:00:00-05:00  271.90  274.72  269.98  270.00  67813909  \n",
       "2018-02-22 00:00:00-05:00  271.09  273.05  269.64  270.32  65771832  \n",
       "2018-02-23 00:00:00-05:00  271.81  274.70  271.25  274.69  54742759  "
      ]
     },
     "execution_count": 69,
     "metadata": {},
     "output_type": "execute_result"
    }
   ],
   "source": [
    "# Use the Alpaca get_barset function to get current closing prices the portfolio\n",
    "# Be sure to set the `df` property after the function to format the response object as a DataFrame\n",
    "portfolio_prices_df = alpaca.get_barset(\n",
    "    tickers,\n",
    "    timeframe,\n",
    "    start = start_date,\n",
    "    end = end_date,\n",
    "    limit=1000\n",
    ").df\n",
    "\n",
    "# Review the first 5 rows of the Alpaca DataFrame\n",
    "portfolio_prices_df.head()\n"
   ]
  },
  {
   "cell_type": "markdown",
   "metadata": {},
   "source": [
    "#### Step 5: Navigating the Alpaca response DataFrame, select the `SPY` and `AGG` closing prices, and store them as variables."
   ]
  },
  {
   "cell_type": "code",
   "execution_count": 70,
   "metadata": {},
   "outputs": [
    {
     "name": "stdout",
     "output_type": "stream",
     "text": [
      "The AGG Closing price is $106.81\n"
     ]
    }
   ],
   "source": [
    "# Access the closing price for AGG from the Alpaca DataFrame\n",
    "# Converting the value to a floating point number\n",
    "agg_close_price = float(portfolio_prices_df[\"AGG\"][\"close\"][0])\n",
    "\n",
    "# Print the AGG closing price\n",
    "print(f\"The AGG Closing price is ${agg_close_price}\")\n"
   ]
  },
  {
   "cell_type": "code",
   "execution_count": 71,
   "metadata": {},
   "outputs": [
    {
     "name": "stdout",
     "output_type": "stream",
     "text": [
      "The SPY Closing price is $273.09\n"
     ]
    }
   ],
   "source": [
    "# Access the closing price for SPY from the Alpaca DataFrame\n",
    "# Converting the value to a floating point number\n",
    "spy_close_price = float(portfolio_prices_df[\"SPY\"][\"close\"][0])\n",
    "\n",
    "# Print the SPY closing price\n",
    "print(f\"The SPY Closing price is ${spy_close_price}\")\n"
   ]
  },
  {
   "cell_type": "markdown",
   "metadata": {},
   "source": [
    "#### Step 6: Calculate the value, in US dollars, of the current amount of shares in each of the stock and bond portions of the portfolio, and print the results."
   ]
  },
  {
   "cell_type": "code",
   "execution_count": 72,
   "metadata": {},
   "outputs": [
    {
     "name": "stdout",
     "output_type": "stream",
     "text": [
      "The current value of the bond portfolio is $21362.0\n"
     ]
    }
   ],
   "source": [
    "# Calculate the current value of the bond portion of the portfolio\n",
    "agg_value = agg_close_price * agg_shares\n",
    "\n",
    "# Print the current value of the bond portfolio\n",
    "print(f\"The current value of the bond portfolio is ${agg_value}\")\n"
   ]
  },
  {
   "cell_type": "code",
   "execution_count": 76,
   "metadata": {},
   "outputs": [
    {
     "name": "stdout",
     "output_type": "stream",
     "text": [
      "The current value of the stock portolio is $ 30039.899999999998\n"
     ]
    }
   ],
   "source": [
    "# Calculate the current value of the stock portion of the portfolio\n",
    "spy_value = spy_close_price * spy_shares\n",
    "\n",
    "# Print the current value of the stock portfolio\n",
    "print(f\"The current value of the stock portolio is $ {spy_value}\")\n"
   ]
  },
  {
   "cell_type": "code",
   "execution_count": 77,
   "metadata": {},
   "outputs": [
    {
     "name": "stdout",
     "output_type": "stream",
     "text": [
      "The current balance of the stock and bond portion of the portfolio is $51401.899999999994\n"
     ]
    }
   ],
   "source": [
    "# Calculate the total value of the stock and bond portion of the portfolio\n",
    "total_stocks_bonds = agg_value + spy_value\n",
    "\n",
    "# Print the current balance of the stock and bond portion of the portfolio\n",
    "print(f\"The current balance of the stock and bond portion of the portfolio is ${total_stocks_bonds}\")\n"
   ]
  },
  {
   "cell_type": "code",
   "execution_count": 80,
   "metadata": {},
   "outputs": [
    {
     "name": "stdout",
     "output_type": "stream",
     "text": [
      "The current cryptocurrency wallet balance is $119203.59999999999\n"
     ]
    }
   ],
   "source": [
    "# Calculate the total value of the member's entire savings portfolio\n",
    "# Add the value of the cryptocurrency walled to the value of the total stocks and bonds\n",
    "total_portfolio = total_stocks_bonds + total_crypto_wallet\n",
    "\n",
    "# Print current cryptocurrency wallet balance\n",
    "print(f\"The current cryptocurrency wallet balance is ${total_portfolio}\")\n"
   ]
  },
  {
   "cell_type": "markdown",
   "metadata": {},
   "source": [
    "### Evaluate the Emergency Fund\n",
    "\n",
    "In this section, you’ll use the valuations for the cryptocurrency wallet and for the stock and bond portions of the portfolio to determine if the credit union member has enough savings to build an emergency fund into their financial plan. To do this, complete the following steps:\n",
    "\n",
    "1. Create a Python list named `savings_data` that has two elements. The first element contains the total value of the cryptocurrency wallet. The second element contains the total value of the stock and bond portions of the portfolio.\n",
    "\n",
    "2. Use the `savings_data` list to create a Pandas DataFrame named `savings_df`, and then display this DataFrame. The function to create the DataFrame should take the following three parameters:\n",
    "\n",
    "    - `savings_data`: Use the list that you just created.\n",
    "\n",
    "    - `columns`: Set this parameter equal to a Python list with a single value called `amount`.\n",
    "\n",
    "    - `index`: Set this parameter equal to a Python list with the values of `crypto` and `stock/bond`.\n",
    "\n",
    "3. Use the `savings_df` DataFrame to plot a pie chart that visualizes the composition of the member’s portfolio. The y-axis of the pie chart uses `amount`. Be sure to add a title.\n",
    "\n",
    "4. Using Python, determine if the current portfolio has enough to create an emergency fund as part of the member’s financial plan. Ideally, an emergency fund should equal to three times the member’s monthly income. To do this, implement the following steps:\n",
    "\n",
    "    1. Create a variable named `emergency_fund_value`, and set it equal to three times the value of the member’s `monthly_income` of $12000. (You set this earlier in Part 1).\n",
    "\n",
    "    2. Create a series of three if statements to determine if the member’s total portfolio is large enough to fund the emergency portfolio:\n",
    "\n",
    "        1. If the total portfolio value is greater than the emergency fund value, display a message congratulating the member for having enough money in this fund.\n",
    "\n",
    "        2. Else if the total portfolio value is equal to the emergency fund value, display a message congratulating the member on reaching this important financial goal.\n",
    "\n",
    "        3. Else the total portfolio is less than the emergency fund value, so display a message showing how many dollars away the member is from reaching the goal. (Subtract the total portfolio value from the emergency fund value.)\n"
   ]
  },
  {
   "cell_type": "markdown",
   "metadata": {},
   "source": [
    "#### Step 1: Create a Python list named `savings_data` that has two elements. The first element contains the total value of the cryptocurrency wallet. The second element contains the total value of the stock and bond portions of the portfolio."
   ]
  },
  {
   "cell_type": "code",
   "execution_count": 82,
   "metadata": {},
   "outputs": [
    {
     "data": {
      "text/plain": [
       "[67801.7, 51401.899999999994]"
      ]
     },
     "execution_count": 82,
     "metadata": {},
     "output_type": "execute_result"
    }
   ],
   "source": [
    "# Consolidate financial assets data into a Python list\n",
    "savings_data = [total_crypto_wallet, total_stocks_bonds]\n",
    "\n",
    "# Review the Python list savings_data\n",
    "savings_data\n",
    "    "
   ]
  },
  {
   "cell_type": "markdown",
   "metadata": {},
   "source": [
    "#### Step 2: Use the `savings_data` list to create a Pandas DataFrame named `savings_df`, and then display this DataFrame. The function to create the DataFrame should take the following three parameters:\n",
    "\n",
    "- `savings_data`: Use the list that you just created.\n",
    "\n",
    "- `columns`: Set this parameter equal to a Python list with a single value called `amount`.\n",
    "\n",
    "- `index`: Set this parameter equal to a Python list with the values of `crypto` and `stock/bond`.\n"
   ]
  },
  {
   "cell_type": "code",
   "execution_count": 83,
   "metadata": {},
   "outputs": [
    {
     "data": {
      "text/html": [
       "<div>\n",
       "<style scoped>\n",
       "    .dataframe tbody tr th:only-of-type {\n",
       "        vertical-align: middle;\n",
       "    }\n",
       "\n",
       "    .dataframe tbody tr th {\n",
       "        vertical-align: top;\n",
       "    }\n",
       "\n",
       "    .dataframe thead th {\n",
       "        text-align: right;\n",
       "    }\n",
       "</style>\n",
       "<table border=\"1\" class=\"dataframe\">\n",
       "  <thead>\n",
       "    <tr style=\"text-align: right;\">\n",
       "      <th></th>\n",
       "      <th>amount</th>\n",
       "    </tr>\n",
       "  </thead>\n",
       "  <tbody>\n",
       "    <tr>\n",
       "      <th>Crypto</th>\n",
       "      <td>67801.7</td>\n",
       "    </tr>\n",
       "    <tr>\n",
       "      <th>Stock/Bond</th>\n",
       "      <td>51401.9</td>\n",
       "    </tr>\n",
       "  </tbody>\n",
       "</table>\n",
       "</div>"
      ],
      "text/plain": [
       "             amount\n",
       "Crypto      67801.7\n",
       "Stock/Bond  51401.9"
      ]
     },
     "execution_count": 83,
     "metadata": {},
     "output_type": "execute_result"
    }
   ],
   "source": [
    "# Create a Pandas DataFrame called savings_df \n",
    "savings_data = pd.DataFrame(data = savings_data, columns=[\"amount\"], index=[\"Crypto\",\"Stock/Bond\"])\n",
    "\n",
    "# Display the savings_df DataFrame\n",
    "savings_data\n"
   ]
  },
  {
   "cell_type": "markdown",
   "metadata": {},
   "source": [
    "#### Step 3: Use the `savings_df` DataFrame to plot a pie chart that visualizes the composition of the member’s portfolio. The y-axis of the pie chart uses `amount`. Be sure to add a title."
   ]
  },
  {
   "cell_type": "code",
   "execution_count": 85,
   "metadata": {},
   "outputs": [
    {
     "data": {
      "text/plain": [
       "<AxesSubplot:title={'center':\"Total value of the member's Portfolio\"}, ylabel='amount'>"
      ]
     },
     "execution_count": 85,
     "metadata": {},
     "output_type": "execute_result"
    },
    {
     "data": {
      "image/png": "[encoded data removed]",
      "text/plain": [
       "<Figure size 360x360 with 1 Axes>"
      ]
     },
     "metadata": {},
     "output_type": "display_data"
    }
   ],
   "source": [
    "# Plot the total value of the member's portfolio (crypto and stock/bond) in a pie chart\n",
    "savings_data.plot.pie(figsize=(5, 5), y=\"amount\", title=\"Total value of the member's Portfolio\")\n"
   ]
  },
  {
   "cell_type": "markdown",
   "metadata": {},
   "source": [
    "#### Step 4: Using Python, determine if the current portfolio has enough to create an emergency fund as part of the member’s financial plan. Ideally, an emergency fund should equal to three times the member’s monthly income. To do this, implement the following steps:\n",
    "\n",
    "Step 1. Create a variable named `emergency_fund_value`, and set it equal to three times the value of the member’s `monthly_income` of 12000. (You set this earlier in Part 1).\n",
    "\n",
    "Step 2. Create a series of three if statements to determine if the member’s total portfolio is large enough to fund the emergency portfolio:\n",
    "\n",
    "* If the total portfolio value is greater than the emergency fund value, display a message congratulating the member for having enough money in this fund.\n",
    "\n",
    "* Else if the total portfolio value is equal to the emergency fund value, display a message congratulating the member on reaching this important financial goal.\n",
    "\n",
    "* Else the total portfolio is less than the emergency fund value, so display a message showing how many dollars away the member is from reaching the goal. (Subtract the total portfolio value from the emergency fund value.)\n"
   ]
  },
  {
   "cell_type": "markdown",
   "metadata": {},
   "source": [
    "##### Step 4-1: Create a variable named `emergency_fund_value`, and set it equal to three times the value of the member’s `monthly_income` of 12000. (You set this earlier in Part 1)."
   ]
  },
  {
   "cell_type": "code",
   "execution_count": 86,
   "metadata": {},
   "outputs": [],
   "source": [
    "# Create a variable named emergency_fund_value\n",
    "emergency_fund_value = 3 * monthly_income\n"
   ]
  },
  {
   "cell_type": "markdown",
   "metadata": {},
   "source": [
    "##### Step 4-2: Create a series of three if statements to determine if the member’s total portfolio is large enough to fund the emergency portfolio:\n",
    "\n",
    "* If the total portfolio value is greater than the emergency fund value, display a message congratulating the member for having enough money in this fund.\n",
    "\n",
    "* Else if the total portfolio value is equal to the emergency fund value, display a message congratulating the member on reaching this important financial goal.\n",
    "\n",
    "* Else the total portfolio is less than the emergency fund value, so display a message showing how many dollars away the member is from reaching the goal. (Subtract the total portfolio value from the emergency fund value.)"
   ]
  },
  {
   "cell_type": "code",
   "execution_count": 90,
   "metadata": {},
   "outputs": [
    {
     "name": "stdout",
     "output_type": "stream",
     "text": [
      "Congratulations ! You have enough money in this fund.\n"
     ]
    }
   ],
   "source": [
    "# Evaluate the possibility of creating an emergency fund with 3 conditions:\n",
    "if (total_portfolio > emergency_fund_value):\n",
    "    print(\"Congratulations ! You have enough money in this fund.\")\n",
    "elif (total_portfolio_value == emergency_fund_value):\n",
    "    print(\"Congratulations ! You have reached an important financial goal.\")\n",
    "else:\n",
    "    print(f\"You are ${emergency_fund_value - total_portfolio} away from reaching your goal.\")\n"
   ]
  },
  {
   "cell_type": "markdown",
   "metadata": {},
   "source": [
    "## Part 2: Create a Financial Planner for Retirement"
   ]
  },
  {
   "cell_type": "markdown",
   "metadata": {},
   "source": [
    "### Create the Monte Carlo Simulation\n",
    "\n",
    "In this section, you’ll use the MCForecastTools library to create a Monte Carlo simulation for the member’s savings portfolio. To do this, complete the following steps:\n",
    "\n",
    "1. Make an API call via the Alpaca SDK to get 3 years of historical closing prices for a traditional 60/40 portfolio split: 60% stocks (SPY) and 40% bonds (AGG).\n",
    "\n",
    "2. Run a Monte Carlo simulation of 500 samples and 30 years for the 60/40 portfolio, and then plot the results.The following image shows the overlay line plot resulting from a simulation with these characteristics. However, because a random number generator is used to run each live Monte Carlo simulation, your image will differ slightly from this exact image:\n",
    "\n",
    "![A screenshot depicts the resulting plot.](Images/5-4-monte-carlo-line-plot.png)\n",
    "\n",
    "3. Plot the probability distribution of the Monte Carlo simulation. Plot the probability distribution of the Monte Carlo simulation. The following image shows the histogram plot resulting from a simulation with these characteristics. However, because a random number generator is used to run each live Monte Carlo simulation, your image will differ slightly from this exact image:\n",
    "\n",
    "![A screenshot depicts the histogram plot.](Images/5-4-monte-carlo-histogram.png)\n",
    "\n",
    "4. Generate the summary statistics for the Monte Carlo simulation.\n",
    "\n"
   ]
  },
  {
   "cell_type": "markdown",
   "metadata": {},
   "source": [
    "#### Step 1: Make an API call via the Alpaca SDK to get 3 years of historical closing prices for a traditional 60/40 portfolio split: 60% stocks (SPY) and 40% bonds (AGG)."
   ]
  },
  {
   "cell_type": "code",
   "execution_count": 91,
   "metadata": {},
   "outputs": [],
   "source": [
    "# Set start and end dates of 3 years back from your current date\n",
    "# Alternatively, you can use an end date of 2020-08-07 and work 3 years back from that date \n",
    "\n",
    "start_date = pd.Timestamp(\"2017-08-07\").isoformat()\n",
    "end_date = pd.Timestamp(\"2020-08-07\").isoformat()                          \n",
    "\n",
    "\n",
    "# Set number of rows to 1000 to retrieve the maximum amount of rows\n",
    "limit_rows = 1000"
   ]
  },
  {
   "cell_type": "code",
   "execution_count": 94,
   "metadata": {},
   "outputs": [
    {
     "data": {
      "text/html": [
       "<div>\n",
       "<style scoped>\n",
       "    .dataframe tbody tr th:only-of-type {\n",
       "        vertical-align: middle;\n",
       "    }\n",
       "\n",
       "    .dataframe tbody tr th {\n",
       "        vertical-align: top;\n",
       "    }\n",
       "\n",
       "    .dataframe thead tr th {\n",
       "        text-align: left;\n",
       "    }\n",
       "\n",
       "    .dataframe thead tr:last-of-type th {\n",
       "        text-align: right;\n",
       "    }\n",
       "</style>\n",
       "<table border=\"1\" class=\"dataframe\">\n",
       "  <thead>\n",
       "    <tr>\n",
       "      <th></th>\n",
       "      <th colspan=\"5\" halign=\"left\">AGG</th>\n",
       "      <th colspan=\"5\" halign=\"left\">SPY</th>\n",
       "    </tr>\n",
       "    <tr>\n",
       "      <th></th>\n",
       "      <th>open</th>\n",
       "      <th>high</th>\n",
       "      <th>low</th>\n",
       "      <th>close</th>\n",
       "      <th>volume</th>\n",
       "      <th>open</th>\n",
       "      <th>high</th>\n",
       "      <th>low</th>\n",
       "      <th>close</th>\n",
       "      <th>volume</th>\n",
       "    </tr>\n",
       "    <tr>\n",
       "      <th>time</th>\n",
       "      <th></th>\n",
       "      <th></th>\n",
       "      <th></th>\n",
       "      <th></th>\n",
       "      <th></th>\n",
       "      <th></th>\n",
       "      <th></th>\n",
       "      <th></th>\n",
       "      <th></th>\n",
       "      <th></th>\n",
       "    </tr>\n",
       "  </thead>\n",
       "  <tbody>\n",
       "    <tr>\n",
       "      <th>2022-01-31 00:00:00-05:00</th>\n",
       "      <td>111.64</td>\n",
       "      <td>111.8900</td>\n",
       "      <td>111.6000</td>\n",
       "      <td>111.78</td>\n",
       "      <td>11437834</td>\n",
       "      <td>441.24</td>\n",
       "      <td>450.28</td>\n",
       "      <td>439.8100</td>\n",
       "      <td>449.815</td>\n",
       "      <td>128202383</td>\n",
       "    </tr>\n",
       "    <tr>\n",
       "      <th>2022-02-01 00:00:00-05:00</th>\n",
       "      <td>111.66</td>\n",
       "      <td>111.6764</td>\n",
       "      <td>111.3800</td>\n",
       "      <td>111.59</td>\n",
       "      <td>9477222</td>\n",
       "      <td>450.72</td>\n",
       "      <td>453.63</td>\n",
       "      <td>446.9384</td>\n",
       "      <td>452.960</td>\n",
       "      <td>106515279</td>\n",
       "    </tr>\n",
       "    <tr>\n",
       "      <th>2022-02-02 00:00:00-05:00</th>\n",
       "      <td>111.70</td>\n",
       "      <td>111.9700</td>\n",
       "      <td>111.6744</td>\n",
       "      <td>111.72</td>\n",
       "      <td>7424696</td>\n",
       "      <td>455.50</td>\n",
       "      <td>458.12</td>\n",
       "      <td>453.0500</td>\n",
       "      <td>457.300</td>\n",
       "      <td>97807976</td>\n",
       "    </tr>\n",
       "    <tr>\n",
       "      <th>2022-02-03 00:00:00-05:00</th>\n",
       "      <td>111.26</td>\n",
       "      <td>111.3700</td>\n",
       "      <td>111.1300</td>\n",
       "      <td>111.27</td>\n",
       "      <td>9480330</td>\n",
       "      <td>450.95</td>\n",
       "      <td>452.97</td>\n",
       "      <td>445.7100</td>\n",
       "      <td>446.640</td>\n",
       "      <td>99110054</td>\n",
       "    </tr>\n",
       "    <tr>\n",
       "      <th>2022-02-04 00:00:00-05:00</th>\n",
       "      <td>110.75</td>\n",
       "      <td>110.7500</td>\n",
       "      <td>110.4707</td>\n",
       "      <td>110.56</td>\n",
       "      <td>6762828</td>\n",
       "      <td>446.35</td>\n",
       "      <td>452.78</td>\n",
       "      <td>443.8300</td>\n",
       "      <td>448.730</td>\n",
       "      <td>98775229</td>\n",
       "    </tr>\n",
       "  </tbody>\n",
       "</table>\n",
       "</div>"
      ],
      "text/plain": [
       "                              AGG                                        \\\n",
       "                             open      high       low   close    volume   \n",
       "time                                                                      \n",
       "2022-01-31 00:00:00-05:00  111.64  111.8900  111.6000  111.78  11437834   \n",
       "2022-02-01 00:00:00-05:00  111.66  111.6764  111.3800  111.59   9477222   \n",
       "2022-02-02 00:00:00-05:00  111.70  111.9700  111.6744  111.72   7424696   \n",
       "2022-02-03 00:00:00-05:00  111.26  111.3700  111.1300  111.27   9480330   \n",
       "2022-02-04 00:00:00-05:00  110.75  110.7500  110.4707  110.56   6762828   \n",
       "\n",
       "                              SPY                                        \n",
       "                             open    high       low    close     volume  \n",
       "time                                                                     \n",
       "2022-01-31 00:00:00-05:00  441.24  450.28  439.8100  449.815  128202383  \n",
       "2022-02-01 00:00:00-05:00  450.72  453.63  446.9384  452.960  106515279  \n",
       "2022-02-02 00:00:00-05:00  455.50  458.12  453.0500  457.300   97807976  \n",
       "2022-02-03 00:00:00-05:00  450.95  452.97  445.7100  446.640   99110054  \n",
       "2022-02-04 00:00:00-05:00  446.35  452.78  443.8300  448.730   98775229  "
      ]
     },
     "execution_count": 94,
     "metadata": {},
     "output_type": "execute_result"
    }
   ],
   "source": [
    "# Use the Alpaca get_barset function to make the API call to get the 3 years worth of pricing data\n",
    "# The tickers and timeframe parameters should have been set in Part 1 of this activity \n",
    "# The start and end dates should be updated with the information set above\n",
    "# Remember to add the df property to the end of the call so the response is returned as a DataFrame\n",
    "prices_df = alpaca.get_barset(\n",
    "    tickers,\n",
    "    timeframe,\n",
    "    start= start_date,\n",
    "    end= end_date,\n",
    "    limit= limit_rows\n",
    ").df\n",
    "\n",
    "\n",
    "# Display both the first and last five rows of the DataFrame\n",
    "prices_df.head()\n",
    "prices_df.tail()\n",
    "\n"
   ]
  },
  {
   "cell_type": "markdown",
   "metadata": {},
   "source": [
    "#### Step 2: Run a Monte Carlo simulation of 500 samples and 30 years for the 60/40 portfolio, and then plot the results."
   ]
  },
  {
   "cell_type": "code",
   "execution_count": 129,
   "metadata": {},
   "outputs": [
    {
     "data": {
      "text/html": [
       "<div>\n",
       "<style scoped>\n",
       "    .dataframe tbody tr th:only-of-type {\n",
       "        vertical-align: middle;\n",
       "    }\n",
       "\n",
       "    .dataframe tbody tr th {\n",
       "        vertical-align: top;\n",
       "    }\n",
       "\n",
       "    .dataframe thead tr th {\n",
       "        text-align: left;\n",
       "    }\n",
       "\n",
       "    .dataframe thead tr:last-of-type th {\n",
       "        text-align: right;\n",
       "    }\n",
       "</style>\n",
       "<table border=\"1\" class=\"dataframe\">\n",
       "  <thead>\n",
       "    <tr>\n",
       "      <th></th>\n",
       "      <th colspan=\"6\" halign=\"left\">AGG</th>\n",
       "      <th colspan=\"6\" halign=\"left\">SPY</th>\n",
       "    </tr>\n",
       "    <tr>\n",
       "      <th></th>\n",
       "      <th>open</th>\n",
       "      <th>high</th>\n",
       "      <th>low</th>\n",
       "      <th>close</th>\n",
       "      <th>volume</th>\n",
       "      <th>daily_return</th>\n",
       "      <th>open</th>\n",
       "      <th>high</th>\n",
       "      <th>low</th>\n",
       "      <th>close</th>\n",
       "      <th>volume</th>\n",
       "      <th>daily_return</th>\n",
       "    </tr>\n",
       "    <tr>\n",
       "      <th>time</th>\n",
       "      <th></th>\n",
       "      <th></th>\n",
       "      <th></th>\n",
       "      <th></th>\n",
       "      <th></th>\n",
       "      <th></th>\n",
       "      <th></th>\n",
       "      <th></th>\n",
       "      <th></th>\n",
       "      <th></th>\n",
       "      <th></th>\n",
       "      <th></th>\n",
       "    </tr>\n",
       "  </thead>\n",
       "  <tbody>\n",
       "    <tr>\n",
       "      <th>2018-02-16 00:00:00-05:00</th>\n",
       "      <td>106.85</td>\n",
       "      <td>106.8750</td>\n",
       "      <td>106.7100</td>\n",
       "      <td>106.81</td>\n",
       "      <td>3391074</td>\n",
       "      <td>NaN</td>\n",
       "      <td>272.31</td>\n",
       "      <td>275.32</td>\n",
       "      <td>272.2700</td>\n",
       "      <td>273.090</td>\n",
       "      <td>76314679</td>\n",
       "      <td>NaN</td>\n",
       "    </tr>\n",
       "    <tr>\n",
       "      <th>2018-02-20 00:00:00-05:00</th>\n",
       "      <td>106.69</td>\n",
       "      <td>106.7099</td>\n",
       "      <td>106.5501</td>\n",
       "      <td>106.68</td>\n",
       "      <td>2372055</td>\n",
       "      <td>-0.001217</td>\n",
       "      <td>272.03</td>\n",
       "      <td>273.67</td>\n",
       "      <td>264.8400</td>\n",
       "      <td>271.430</td>\n",
       "      <td>54829423</td>\n",
       "      <td>-0.006079</td>\n",
       "    </tr>\n",
       "    <tr>\n",
       "      <th>2018-02-21 00:00:00-05:00</th>\n",
       "      <td>106.77</td>\n",
       "      <td>106.8000</td>\n",
       "      <td>106.2601</td>\n",
       "      <td>106.30</td>\n",
       "      <td>3017853</td>\n",
       "      <td>-0.003562</td>\n",
       "      <td>271.90</td>\n",
       "      <td>274.72</td>\n",
       "      <td>269.9800</td>\n",
       "      <td>270.000</td>\n",
       "      <td>67813909</td>\n",
       "      <td>-0.005268</td>\n",
       "    </tr>\n",
       "    <tr>\n",
       "      <th>2018-02-22 00:00:00-05:00</th>\n",
       "      <td>106.49</td>\n",
       "      <td>106.5600</td>\n",
       "      <td>106.3600</td>\n",
       "      <td>106.36</td>\n",
       "      <td>2150355</td>\n",
       "      <td>0.000564</td>\n",
       "      <td>271.09</td>\n",
       "      <td>273.05</td>\n",
       "      <td>269.6400</td>\n",
       "      <td>270.320</td>\n",
       "      <td>65771832</td>\n",
       "      <td>0.001185</td>\n",
       "    </tr>\n",
       "    <tr>\n",
       "      <th>2018-02-23 00:00:00-05:00</th>\n",
       "      <td>106.61</td>\n",
       "      <td>106.7600</td>\n",
       "      <td>106.5650</td>\n",
       "      <td>106.69</td>\n",
       "      <td>2113324</td>\n",
       "      <td>0.003103</td>\n",
       "      <td>271.81</td>\n",
       "      <td>274.70</td>\n",
       "      <td>271.2500</td>\n",
       "      <td>274.690</td>\n",
       "      <td>54742759</td>\n",
       "      <td>0.016166</td>\n",
       "    </tr>\n",
       "    <tr>\n",
       "      <th>...</th>\n",
       "      <td>...</td>\n",
       "      <td>...</td>\n",
       "      <td>...</td>\n",
       "      <td>...</td>\n",
       "      <td>...</td>\n",
       "      <td>...</td>\n",
       "      <td>...</td>\n",
       "      <td>...</td>\n",
       "      <td>...</td>\n",
       "      <td>...</td>\n",
       "      <td>...</td>\n",
       "      <td>...</td>\n",
       "    </tr>\n",
       "    <tr>\n",
       "      <th>2022-01-31 00:00:00-05:00</th>\n",
       "      <td>111.64</td>\n",
       "      <td>111.8900</td>\n",
       "      <td>111.6000</td>\n",
       "      <td>111.78</td>\n",
       "      <td>11437834</td>\n",
       "      <td>-0.000268</td>\n",
       "      <td>441.24</td>\n",
       "      <td>450.28</td>\n",
       "      <td>439.8100</td>\n",
       "      <td>449.815</td>\n",
       "      <td>128202383</td>\n",
       "      <td>0.017865</td>\n",
       "    </tr>\n",
       "    <tr>\n",
       "      <th>2022-02-01 00:00:00-05:00</th>\n",
       "      <td>111.66</td>\n",
       "      <td>111.6764</td>\n",
       "      <td>111.3800</td>\n",
       "      <td>111.59</td>\n",
       "      <td>9477222</td>\n",
       "      <td>-0.001700</td>\n",
       "      <td>450.72</td>\n",
       "      <td>453.63</td>\n",
       "      <td>446.9384</td>\n",
       "      <td>452.960</td>\n",
       "      <td>106515279</td>\n",
       "      <td>0.006992</td>\n",
       "    </tr>\n",
       "    <tr>\n",
       "      <th>2022-02-02 00:00:00-05:00</th>\n",
       "      <td>111.70</td>\n",
       "      <td>111.9700</td>\n",
       "      <td>111.6744</td>\n",
       "      <td>111.72</td>\n",
       "      <td>7424696</td>\n",
       "      <td>0.001165</td>\n",
       "      <td>455.50</td>\n",
       "      <td>458.12</td>\n",
       "      <td>453.0500</td>\n",
       "      <td>457.300</td>\n",
       "      <td>97807976</td>\n",
       "      <td>0.009581</td>\n",
       "    </tr>\n",
       "    <tr>\n",
       "      <th>2022-02-03 00:00:00-05:00</th>\n",
       "      <td>111.26</td>\n",
       "      <td>111.3700</td>\n",
       "      <td>111.1300</td>\n",
       "      <td>111.27</td>\n",
       "      <td>9480330</td>\n",
       "      <td>-0.004028</td>\n",
       "      <td>450.95</td>\n",
       "      <td>452.97</td>\n",
       "      <td>445.7100</td>\n",
       "      <td>446.640</td>\n",
       "      <td>99110054</td>\n",
       "      <td>-0.023311</td>\n",
       "    </tr>\n",
       "    <tr>\n",
       "      <th>2022-02-04 00:00:00-05:00</th>\n",
       "      <td>110.75</td>\n",
       "      <td>110.7500</td>\n",
       "      <td>110.4707</td>\n",
       "      <td>110.56</td>\n",
       "      <td>6762828</td>\n",
       "      <td>-0.006381</td>\n",
       "      <td>446.35</td>\n",
       "      <td>452.78</td>\n",
       "      <td>443.8300</td>\n",
       "      <td>448.730</td>\n",
       "      <td>98775229</td>\n",
       "      <td>0.004679</td>\n",
       "    </tr>\n",
       "  </tbody>\n",
       "</table>\n",
       "<p>1000 rows × 12 columns</p>\n",
       "</div>"
      ],
      "text/plain": [
       "                              AGG                                        \\\n",
       "                             open      high       low   close    volume   \n",
       "time                                                                      \n",
       "2018-02-16 00:00:00-05:00  106.85  106.8750  106.7100  106.81   3391074   \n",
       "2018-02-20 00:00:00-05:00  106.69  106.7099  106.5501  106.68   2372055   \n",
       "2018-02-21 00:00:00-05:00  106.77  106.8000  106.2601  106.30   3017853   \n",
       "2018-02-22 00:00:00-05:00  106.49  106.5600  106.3600  106.36   2150355   \n",
       "2018-02-23 00:00:00-05:00  106.61  106.7600  106.5650  106.69   2113324   \n",
       "...                           ...       ...       ...     ...       ...   \n",
       "2022-01-31 00:00:00-05:00  111.64  111.8900  111.6000  111.78  11437834   \n",
       "2022-02-01 00:00:00-05:00  111.66  111.6764  111.3800  111.59   9477222   \n",
       "2022-02-02 00:00:00-05:00  111.70  111.9700  111.6744  111.72   7424696   \n",
       "2022-02-03 00:00:00-05:00  111.26  111.3700  111.1300  111.27   9480330   \n",
       "2022-02-04 00:00:00-05:00  110.75  110.7500  110.4707  110.56   6762828   \n",
       "\n",
       "                                           SPY                             \\\n",
       "                          daily_return    open    high       low    close   \n",
       "time                                                                        \n",
       "2018-02-16 00:00:00-05:00          NaN  272.31  275.32  272.2700  273.090   \n",
       "2018-02-20 00:00:00-05:00    -0.001217  272.03  273.67  264.8400  271.430   \n",
       "2018-02-21 00:00:00-05:00    -0.003562  271.90  274.72  269.9800  270.000   \n",
       "2018-02-22 00:00:00-05:00     0.000564  271.09  273.05  269.6400  270.320   \n",
       "2018-02-23 00:00:00-05:00     0.003103  271.81  274.70  271.2500  274.690   \n",
       "...                                ...     ...     ...       ...      ...   \n",
       "2022-01-31 00:00:00-05:00    -0.000268  441.24  450.28  439.8100  449.815   \n",
       "2022-02-01 00:00:00-05:00    -0.001700  450.72  453.63  446.9384  452.960   \n",
       "2022-02-02 00:00:00-05:00     0.001165  455.50  458.12  453.0500  457.300   \n",
       "2022-02-03 00:00:00-05:00    -0.004028  450.95  452.97  445.7100  446.640   \n",
       "2022-02-04 00:00:00-05:00    -0.006381  446.35  452.78  443.8300  448.730   \n",
       "\n",
       "                                                   \n",
       "                              volume daily_return  \n",
       "time                                               \n",
       "2018-02-16 00:00:00-05:00   76314679          NaN  \n",
       "2018-02-20 00:00:00-05:00   54829423    -0.006079  \n",
       "2018-02-21 00:00:00-05:00   67813909    -0.005268  \n",
       "2018-02-22 00:00:00-05:00   65771832     0.001185  \n",
       "2018-02-23 00:00:00-05:00   54742759     0.016166  \n",
       "...                              ...          ...  \n",
       "2022-01-31 00:00:00-05:00  128202383     0.017865  \n",
       "2022-02-01 00:00:00-05:00  106515279     0.006992  \n",
       "2022-02-02 00:00:00-05:00   97807976     0.009581  \n",
       "2022-02-03 00:00:00-05:00   99110054    -0.023311  \n",
       "2022-02-04 00:00:00-05:00   98775229     0.004679  \n",
       "\n",
       "[1000 rows x 12 columns]"
      ]
     },
     "execution_count": 129,
     "metadata": {},
     "output_type": "execute_result"
    }
   ],
   "source": [
    "# Configure the Monte Carlo simulation to forecast 30 years cumulative returns\n",
    "# The weights should be split 40% to AGG and 60% to SPY.\n",
    "# Run 500 samples.\n",
    "MC_simulation = MCSimulation(\n",
    "    portfolio_data = prices_df,\n",
    "    weights = [.4,.6],\n",
    "    num_simulation = 500,\n",
    "    num_trading_days = 252*30\n",
    ")\n",
    "\n",
    "# Review the simulation input data\n",
    "MC_simulation.portfolio_data\n"
   ]
  },
  {
   "cell_type": "code",
   "execution_count": 130,
   "metadata": {},
   "outputs": [
    {
     "name": "stdout",
     "output_type": "stream",
     "text": [
      "Running Monte Carlo simulation number 0.\n",
      "Running Monte Carlo simulation number 10.\n",
      "Running Monte Carlo simulation number 20.\n",
      "Running Monte Carlo simulation number 30.\n",
      "Running Monte Carlo simulation number 40.\n",
      "Running Monte Carlo simulation number 50.\n",
      "Running Monte Carlo simulation number 60.\n",
      "Running Monte Carlo simulation number 70.\n",
      "Running Monte Carlo simulation number 80.\n",
      "Running Monte Carlo simulation number 90.\n",
      "Running Monte Carlo simulation number 100.\n"
     ]
    },
    {
     "name": "stderr",
     "output_type": "stream",
     "text": [
      "/Users/baite/Desktop/chal/MCForecastTools.py:117: PerformanceWarning: DataFrame is highly fragmented.  This is usually the result of calling `frame.insert` many times, which has poor performance.  Consider joining all columns at once using pd.concat(axis=1) instead.  To get a de-fragmented frame, use `newframe = frame.copy()`\n",
      "  portfolio_cumulative_returns[n] = (1 + sim_df.fillna(0)).cumprod()\n"
     ]
    },
    {
     "name": "stdout",
     "output_type": "stream",
     "text": [
      "Running Monte Carlo simulation number 110.\n",
      "Running Monte Carlo simulation number 120.\n",
      "Running Monte Carlo simulation number 130.\n",
      "Running Monte Carlo simulation number 140.\n",
      "Running Monte Carlo simulation number 150.\n",
      "Running Monte Carlo simulation number 160.\n",
      "Running Monte Carlo simulation number 170.\n",
      "Running Monte Carlo simulation number 180.\n",
      "Running Monte Carlo simulation number 190.\n",
      "Running Monte Carlo simulation number 200.\n",
      "Running Monte Carlo simulation number 210.\n",
      "Running Monte Carlo simulation number 220.\n",
      "Running Monte Carlo simulation number 230.\n",
      "Running Monte Carlo simulation number 240.\n",
      "Running Monte Carlo simulation number 250.\n",
      "Running Monte Carlo simulation number 260.\n",
      "Running Monte Carlo simulation number 270.\n",
      "Running Monte Carlo simulation number 280.\n",
      "Running Monte Carlo simulation number 290.\n",
      "Running Monte Carlo simulation number 300.\n",
      "Running Monte Carlo simulation number 310.\n",
      "Running Monte Carlo simulation number 320.\n",
      "Running Monte Carlo simulation number 330.\n",
      "Running Monte Carlo simulation number 340.\n",
      "Running Monte Carlo simulation number 350.\n",
      "Running Monte Carlo simulation number 360.\n",
      "Running Monte Carlo simulation number 370.\n",
      "Running Monte Carlo simulation number 380.\n",
      "Running Monte Carlo simulation number 390.\n",
      "Running Monte Carlo simulation number 400.\n",
      "Running Monte Carlo simulation number 410.\n",
      "Running Monte Carlo simulation number 420.\n",
      "Running Monte Carlo simulation number 430.\n",
      "Running Monte Carlo simulation number 440.\n",
      "Running Monte Carlo simulation number 450.\n",
      "Running Monte Carlo simulation number 460.\n",
      "Running Monte Carlo simulation number 470.\n",
      "Running Monte Carlo simulation number 480.\n",
      "Running Monte Carlo simulation number 490.\n"
     ]
    },
    {
     "data": {
      "text/html": [
       "<div>\n",
       "<style scoped>\n",
       "    .dataframe tbody tr th:only-of-type {\n",
       "        vertical-align: middle;\n",
       "    }\n",
       "\n",
       "    .dataframe tbody tr th {\n",
       "        vertical-align: top;\n",
       "    }\n",
       "\n",
       "    .dataframe thead th {\n",
       "        text-align: right;\n",
       "    }\n",
       "</style>\n",
       "<table border=\"1\" class=\"dataframe\">\n",
       "  <thead>\n",
       "    <tr style=\"text-align: right;\">\n",
       "      <th></th>\n",
       "      <th>0</th>\n",
       "      <th>1</th>\n",
       "      <th>2</th>\n",
       "      <th>3</th>\n",
       "      <th>4</th>\n",
       "      <th>5</th>\n",
       "      <th>6</th>\n",
       "      <th>7</th>\n",
       "      <th>8</th>\n",
       "      <th>9</th>\n",
       "      <th>...</th>\n",
       "      <th>490</th>\n",
       "      <th>491</th>\n",
       "      <th>492</th>\n",
       "      <th>493</th>\n",
       "      <th>494</th>\n",
       "      <th>495</th>\n",
       "      <th>496</th>\n",
       "      <th>497</th>\n",
       "      <th>498</th>\n",
       "      <th>499</th>\n",
       "    </tr>\n",
       "  </thead>\n",
       "  <tbody>\n",
       "    <tr>\n",
       "      <th>0</th>\n",
       "      <td>1.000000</td>\n",
       "      <td>1.000000</td>\n",
       "      <td>1.000000</td>\n",
       "      <td>1.000000</td>\n",
       "      <td>1.000000</td>\n",
       "      <td>1.000000</td>\n",
       "      <td>1.000000</td>\n",
       "      <td>1.000000</td>\n",
       "      <td>1.000000</td>\n",
       "      <td>1.000000</td>\n",
       "      <td>...</td>\n",
       "      <td>1.000000</td>\n",
       "      <td>1.000000</td>\n",
       "      <td>1.000000</td>\n",
       "      <td>1.000000</td>\n",
       "      <td>1.000000</td>\n",
       "      <td>1.000000</td>\n",
       "      <td>1.000000</td>\n",
       "      <td>1.000000</td>\n",
       "      <td>1.000000</td>\n",
       "      <td>1.000000</td>\n",
       "    </tr>\n",
       "    <tr>\n",
       "      <th>1</th>\n",
       "      <td>0.982884</td>\n",
       "      <td>0.986206</td>\n",
       "      <td>1.015486</td>\n",
       "      <td>1.008080</td>\n",
       "      <td>1.005958</td>\n",
       "      <td>0.992813</td>\n",
       "      <td>1.010747</td>\n",
       "      <td>1.002202</td>\n",
       "      <td>1.008234</td>\n",
       "      <td>1.007130</td>\n",
       "      <td>...</td>\n",
       "      <td>0.999740</td>\n",
       "      <td>1.004526</td>\n",
       "      <td>1.012234</td>\n",
       "      <td>1.015504</td>\n",
       "      <td>1.019319</td>\n",
       "      <td>1.014741</td>\n",
       "      <td>1.016312</td>\n",
       "      <td>1.000338</td>\n",
       "      <td>1.008274</td>\n",
       "      <td>0.994811</td>\n",
       "    </tr>\n",
       "    <tr>\n",
       "      <th>2</th>\n",
       "      <td>0.974647</td>\n",
       "      <td>0.989682</td>\n",
       "      <td>1.009159</td>\n",
       "      <td>1.024901</td>\n",
       "      <td>0.998405</td>\n",
       "      <td>0.997956</td>\n",
       "      <td>1.017421</td>\n",
       "      <td>1.000673</td>\n",
       "      <td>1.015653</td>\n",
       "      <td>1.005941</td>\n",
       "      <td>...</td>\n",
       "      <td>1.005954</td>\n",
       "      <td>1.012937</td>\n",
       "      <td>1.009653</td>\n",
       "      <td>1.024264</td>\n",
       "      <td>1.021091</td>\n",
       "      <td>1.021516</td>\n",
       "      <td>1.007935</td>\n",
       "      <td>1.009330</td>\n",
       "      <td>1.003678</td>\n",
       "      <td>0.999066</td>\n",
       "    </tr>\n",
       "    <tr>\n",
       "      <th>3</th>\n",
       "      <td>0.969253</td>\n",
       "      <td>1.004851</td>\n",
       "      <td>0.996169</td>\n",
       "      <td>1.018490</td>\n",
       "      <td>0.988275</td>\n",
       "      <td>1.008908</td>\n",
       "      <td>1.019772</td>\n",
       "      <td>1.002575</td>\n",
       "      <td>1.016153</td>\n",
       "      <td>0.997620</td>\n",
       "      <td>...</td>\n",
       "      <td>1.010588</td>\n",
       "      <td>1.016819</td>\n",
       "      <td>1.017493</td>\n",
       "      <td>1.023251</td>\n",
       "      <td>1.025914</td>\n",
       "      <td>1.027067</td>\n",
       "      <td>1.004874</td>\n",
       "      <td>0.999000</td>\n",
       "      <td>1.012783</td>\n",
       "      <td>1.006404</td>\n",
       "    </tr>\n",
       "    <tr>\n",
       "      <th>4</th>\n",
       "      <td>0.967137</td>\n",
       "      <td>1.004270</td>\n",
       "      <td>0.984687</td>\n",
       "      <td>1.015298</td>\n",
       "      <td>0.979403</td>\n",
       "      <td>1.011566</td>\n",
       "      <td>1.021980</td>\n",
       "      <td>1.001356</td>\n",
       "      <td>1.018361</td>\n",
       "      <td>1.011038</td>\n",
       "      <td>...</td>\n",
       "      <td>1.007434</td>\n",
       "      <td>1.017853</td>\n",
       "      <td>1.024186</td>\n",
       "      <td>1.018732</td>\n",
       "      <td>1.021439</td>\n",
       "      <td>1.038940</td>\n",
       "      <td>1.012209</td>\n",
       "      <td>0.998484</td>\n",
       "      <td>1.011987</td>\n",
       "      <td>1.007773</td>\n",
       "    </tr>\n",
       "    <tr>\n",
       "      <th>...</th>\n",
       "      <td>...</td>\n",
       "      <td>...</td>\n",
       "      <td>...</td>\n",
       "      <td>...</td>\n",
       "      <td>...</td>\n",
       "      <td>...</td>\n",
       "      <td>...</td>\n",
       "      <td>...</td>\n",
       "      <td>...</td>\n",
       "      <td>...</td>\n",
       "      <td>...</td>\n",
       "      <td>...</td>\n",
       "      <td>...</td>\n",
       "      <td>...</td>\n",
       "      <td>...</td>\n",
       "      <td>...</td>\n",
       "      <td>...</td>\n",
       "      <td>...</td>\n",
       "      <td>...</td>\n",
       "      <td>...</td>\n",
       "      <td>...</td>\n",
       "    </tr>\n",
       "    <tr>\n",
       "      <th>7556</th>\n",
       "      <td>5.745181</td>\n",
       "      <td>3.170503</td>\n",
       "      <td>11.305973</td>\n",
       "      <td>18.591870</td>\n",
       "      <td>1.779323</td>\n",
       "      <td>3.998979</td>\n",
       "      <td>9.739205</td>\n",
       "      <td>89.090797</td>\n",
       "      <td>4.876360</td>\n",
       "      <td>11.066333</td>\n",
       "      <td>...</td>\n",
       "      <td>14.578995</td>\n",
       "      <td>8.290286</td>\n",
       "      <td>2.981971</td>\n",
       "      <td>5.121776</td>\n",
       "      <td>10.211501</td>\n",
       "      <td>33.121444</td>\n",
       "      <td>11.092084</td>\n",
       "      <td>11.720006</td>\n",
       "      <td>17.363367</td>\n",
       "      <td>8.143913</td>\n",
       "    </tr>\n",
       "    <tr>\n",
       "      <th>7557</th>\n",
       "      <td>5.676154</td>\n",
       "      <td>3.184616</td>\n",
       "      <td>11.317384</td>\n",
       "      <td>18.545420</td>\n",
       "      <td>1.783100</td>\n",
       "      <td>4.045779</td>\n",
       "      <td>9.595237</td>\n",
       "      <td>89.654673</td>\n",
       "      <td>4.748299</td>\n",
       "      <td>11.083961</td>\n",
       "      <td>...</td>\n",
       "      <td>14.621072</td>\n",
       "      <td>8.277727</td>\n",
       "      <td>2.971965</td>\n",
       "      <td>5.229951</td>\n",
       "      <td>10.153020</td>\n",
       "      <td>32.856565</td>\n",
       "      <td>11.197100</td>\n",
       "      <td>11.848139</td>\n",
       "      <td>17.284094</td>\n",
       "      <td>8.158593</td>\n",
       "    </tr>\n",
       "    <tr>\n",
       "      <th>7558</th>\n",
       "      <td>5.599404</td>\n",
       "      <td>3.201823</td>\n",
       "      <td>11.139510</td>\n",
       "      <td>18.508093</td>\n",
       "      <td>1.783533</td>\n",
       "      <td>3.976868</td>\n",
       "      <td>9.671829</td>\n",
       "      <td>89.607075</td>\n",
       "      <td>4.811304</td>\n",
       "      <td>11.053295</td>\n",
       "      <td>...</td>\n",
       "      <td>14.524159</td>\n",
       "      <td>8.319181</td>\n",
       "      <td>3.027665</td>\n",
       "      <td>5.319408</td>\n",
       "      <td>10.125948</td>\n",
       "      <td>32.693715</td>\n",
       "      <td>11.283366</td>\n",
       "      <td>11.672310</td>\n",
       "      <td>17.293669</td>\n",
       "      <td>8.208392</td>\n",
       "    </tr>\n",
       "    <tr>\n",
       "      <th>7559</th>\n",
       "      <td>5.600887</td>\n",
       "      <td>3.230956</td>\n",
       "      <td>11.255355</td>\n",
       "      <td>18.490129</td>\n",
       "      <td>1.793956</td>\n",
       "      <td>3.969508</td>\n",
       "      <td>9.656223</td>\n",
       "      <td>88.352553</td>\n",
       "      <td>4.818066</td>\n",
       "      <td>10.988475</td>\n",
       "      <td>...</td>\n",
       "      <td>14.527564</td>\n",
       "      <td>8.305462</td>\n",
       "      <td>3.033714</td>\n",
       "      <td>5.398441</td>\n",
       "      <td>10.102893</td>\n",
       "      <td>32.292137</td>\n",
       "      <td>11.351902</td>\n",
       "      <td>11.744651</td>\n",
       "      <td>17.477643</td>\n",
       "      <td>8.193623</td>\n",
       "    </tr>\n",
       "    <tr>\n",
       "      <th>7560</th>\n",
       "      <td>5.633508</td>\n",
       "      <td>3.245760</td>\n",
       "      <td>11.322646</td>\n",
       "      <td>18.440144</td>\n",
       "      <td>1.800476</td>\n",
       "      <td>3.953581</td>\n",
       "      <td>9.723138</td>\n",
       "      <td>89.045855</td>\n",
       "      <td>4.790326</td>\n",
       "      <td>10.831097</td>\n",
       "      <td>...</td>\n",
       "      <td>14.651059</td>\n",
       "      <td>8.263140</td>\n",
       "      <td>3.015757</td>\n",
       "      <td>5.377949</td>\n",
       "      <td>10.172189</td>\n",
       "      <td>32.515865</td>\n",
       "      <td>11.433977</td>\n",
       "      <td>11.829132</td>\n",
       "      <td>17.685069</td>\n",
       "      <td>8.264219</td>\n",
       "    </tr>\n",
       "  </tbody>\n",
       "</table>\n",
       "<p>7561 rows × 500 columns</p>\n",
       "</div>"
      ],
      "text/plain": [
       "           0         1          2          3         4         5         6    \\\n",
       "0     1.000000  1.000000   1.000000   1.000000  1.000000  1.000000  1.000000   \n",
       "1     0.982884  0.986206   1.015486   1.008080  1.005958  0.992813  1.010747   \n",
       "2     0.974647  0.989682   1.009159   1.024901  0.998405  0.997956  1.017421   \n",
       "3     0.969253  1.004851   0.996169   1.018490  0.988275  1.008908  1.019772   \n",
       "4     0.967137  1.004270   0.984687   1.015298  0.979403  1.011566  1.021980   \n",
       "...        ...       ...        ...        ...       ...       ...       ...   \n",
       "7556  5.745181  3.170503  11.305973  18.591870  1.779323  3.998979  9.739205   \n",
       "7557  5.676154  3.184616  11.317384  18.545420  1.783100  4.045779  9.595237   \n",
       "7558  5.599404  3.201823  11.139510  18.508093  1.783533  3.976868  9.671829   \n",
       "7559  5.600887  3.230956  11.255355  18.490129  1.793956  3.969508  9.656223   \n",
       "7560  5.633508  3.245760  11.322646  18.440144  1.800476  3.953581  9.723138   \n",
       "\n",
       "            7         8          9    ...        490       491       492  \\\n",
       "0      1.000000  1.000000   1.000000  ...   1.000000  1.000000  1.000000   \n",
       "1      1.002202  1.008234   1.007130  ...   0.999740  1.004526  1.012234   \n",
       "2      1.000673  1.015653   1.005941  ...   1.005954  1.012937  1.009653   \n",
       "3      1.002575  1.016153   0.997620  ...   1.010588  1.016819  1.017493   \n",
       "4      1.001356  1.018361   1.011038  ...   1.007434  1.017853  1.024186   \n",
       "...         ...       ...        ...  ...        ...       ...       ...   \n",
       "7556  89.090797  4.876360  11.066333  ...  14.578995  8.290286  2.981971   \n",
       "7557  89.654673  4.748299  11.083961  ...  14.621072  8.277727  2.971965   \n",
       "7558  89.607075  4.811304  11.053295  ...  14.524159  8.319181  3.027665   \n",
       "7559  88.352553  4.818066  10.988475  ...  14.527564  8.305462  3.033714   \n",
       "7560  89.045855  4.790326  10.831097  ...  14.651059  8.263140  3.015757   \n",
       "\n",
       "           493        494        495        496        497        498  \\\n",
       "0     1.000000   1.000000   1.000000   1.000000   1.000000   1.000000   \n",
       "1     1.015504   1.019319   1.014741   1.016312   1.000338   1.008274   \n",
       "2     1.024264   1.021091   1.021516   1.007935   1.009330   1.003678   \n",
       "3     1.023251   1.025914   1.027067   1.004874   0.999000   1.012783   \n",
       "4     1.018732   1.021439   1.038940   1.012209   0.998484   1.011987   \n",
       "...        ...        ...        ...        ...        ...        ...   \n",
       "7556  5.121776  10.211501  33.121444  11.092084  11.720006  17.363367   \n",
       "7557  5.229951  10.153020  32.856565  11.197100  11.848139  17.284094   \n",
       "7558  5.319408  10.125948  32.693715  11.283366  11.672310  17.293669   \n",
       "7559  5.398441  10.102893  32.292137  11.351902  11.744651  17.477643   \n",
       "7560  5.377949  10.172189  32.515865  11.433977  11.829132  17.685069   \n",
       "\n",
       "           499  \n",
       "0     1.000000  \n",
       "1     0.994811  \n",
       "2     0.999066  \n",
       "3     1.006404  \n",
       "4     1.007773  \n",
       "...        ...  \n",
       "7556  8.143913  \n",
       "7557  8.158593  \n",
       "7558  8.208392  \n",
       "7559  8.193623  \n",
       "7560  8.264219  \n",
       "\n",
       "[7561 rows x 500 columns]"
      ]
     },
     "execution_count": 130,
     "metadata": {},
     "output_type": "execute_result"
    }
   ],
   "source": [
    "# Run the Monte Carlo simulation to forecast 30 years cumulative returns\n",
    "MC_simulation.calc_cumulative_return()\n"
   ]
  },
  {
   "cell_type": "code",
   "execution_count": 132,
   "metadata": {},
   "outputs": [
    {
     "data": {
      "image/png": "[encoded data removed]",
      "text/plain": [
       "<Figure size 432x288 with 1 Axes>"
      ]
     },
     "metadata": {
      "needs_background": "light"
     },
     "output_type": "display_data"
    }
   ],
   "source": [
    "# Visualize the 30-year Monte Carlo simulation by creating an\n",
    "# overlay line plot\n",
    "MC_30years = MC_simulation.plot_simulation()\n"
   ]
  },
  {
   "cell_type": "markdown",
   "metadata": {},
   "source": [
    "#### Step 3: Plot the probability distribution of the Monte Carlo simulation."
   ]
  },
  {
   "cell_type": "code",
   "execution_count": 133,
   "metadata": {},
   "outputs": [
    {
     "data": {
      "image/png": "[encoded data removed]",
      "text/plain": [
       "<Figure size 432x288 with 1 Axes>"
      ]
     },
     "metadata": {
      "needs_background": "light"
     },
     "output_type": "display_data"
    }
   ],
   "source": [
    "# Visualize the probability distribution of the 30-year Monte Carlo simulation \n",
    "# by plotting a histogram\n",
    "Mc_distribution = MC_simulation.plot_distribution()\n"
   ]
  },
  {
   "cell_type": "markdown",
   "metadata": {},
   "source": [
    "#### Step 4: Generate the summary statistics for the Monte Carlo simulation."
   ]
  },
  {
   "cell_type": "code",
   "execution_count": 134,
   "metadata": {},
   "outputs": [
    {
     "data": {
      "text/plain": [
       "count           500.000000\n",
       "mean             16.029303\n",
       "std              11.934353\n",
       "min               1.800476\n",
       "25%               8.272665\n",
       "50%              12.699165\n",
       "75%              20.640307\n",
       "max              89.045855\n",
       "95% CI Lower      3.130582\n",
       "95% CI Upper     43.736442\n",
       "Name: 7560, dtype: float64"
      ]
     },
     "execution_count": 134,
     "metadata": {},
     "output_type": "execute_result"
    }
   ],
   "source": [
    "# Generate summary statistics from the 30-year Monte Carlo simulation results\n",
    "# Save the results as a variable\n",
    "MC_summary = MC_simulation.summarize_cumulative_return()\n",
    "\n",
    "\n",
    "# Review the 30-year Monte Carlo summary statistics\n",
    "(MC_summary)"
   ]
  },
  {
   "cell_type": "markdown",
   "metadata": {},
   "source": [
    "### Analyze the Retirement Portfolio Forecasts\n",
    "\n",
    "Using the current value of only the stock and bond portion of the member's portfolio and the summary statistics that you generated from the Monte Carlo simulation, answer the following question in your Jupyter notebook:\n",
    "\n",
    "-  What are the lower and upper bounds for the expected value of the portfolio with a 95% confidence interval?\n"
   ]
  },
  {
   "cell_type": "code",
   "execution_count": 135,
   "metadata": {},
   "outputs": [
    {
     "name": "stdout",
     "output_type": "stream",
     "text": [
      "The current balance of the stock and bond portion of the portfolio is $51401.899999999994\n"
     ]
    }
   ],
   "source": [
    "# Print the current balance of the stock and bond portion of the members portfolio\n",
    "# YOUR CODE HERE\n",
    "print(f\"The current balance of the stock and bond portion of the portfolio is ${total_stocks_bonds}\")"
   ]
  },
  {
   "cell_type": "code",
   "execution_count": 136,
   "metadata": {},
   "outputs": [],
   "source": [
    "# Use the lower and upper `95%` confidence intervals to calculate the range of the possible outcomes for the current stock/bond portfolio\n",
    "ci_lower_thirty_cumulative_return = round(MC_summary[8]*total_stocks_bonds)\n",
    "ci_upper_thirty_cumulative_return = round(MC_summary[9]*total_stocks_bonds)"
   ]
  },
  {
   "cell_type": "code",
   "execution_count": 137,
   "metadata": {},
   "outputs": [
    {
     "name": "stdout",
     "output_type": "stream",
     "text": [
      "There is a 95% chance that the range of the possible outcomes for the current stock/bond portfolio will end within in the range of $160918 and $2248136.\n"
     ]
    }
   ],
   "source": [
    "# Print the result of your calculations\n",
    "print(f\"There is a 95% chance that the range of the possible outcomes for the current stock/bond portfolio\"\n",
    "      f\" will end within in the range of\"\n",
    "      f\" ${ci_lower_thirty_cumulative_return} and ${ci_upper_thirty_cumulative_return}.\")"
   ]
  },
  {
   "cell_type": "markdown",
   "metadata": {},
   "source": [
    "### Forecast Cumulative Returns in 10 Years\n",
    "\n",
    "The CTO of the credit union is impressed with your work on these planning tools but wonders if 30 years is a long time to wait until retirement. So, your next task is to adjust the retirement portfolio and run a new Monte Carlo simulation to find out if the changes will allow members to retire earlier.\n",
    "\n",
    "For this new Monte Carlo simulation, do the following: \n",
    "\n",
    "- Forecast the cumulative returns for 10 years from now. Because of the shortened investment horizon (30 years to 10 years), the portfolio needs to invest more heavily in the riskier asset&mdash;that is, stock&mdash;to help accumulate wealth for retirement. \n",
    "\n",
    "- Adjust the weights of the retirement portfolio so that the composition for the Monte Carlo simulation consists of 20% bonds and 80% stocks. \n",
    "\n",
    "- Run the simulation over 500 samples, and use the same data that the API call to Alpaca generated.\n",
    "\n",
    "- Based on the new Monte Carlo simulation, answer the following questions in your Jupyter notebook:\n",
    "\n",
    "    - Using the current value of only the stock and bond portion of the member's portfolio and the summary statistics that you generated from the new Monte Carlo simulation, what are the lower and upper bounds for the expected value of the portfolio (with the new weights) with a 95% confidence interval?\n",
    "\n",
    "    - Will weighting the portfolio more heavily toward stocks allow the credit union members to retire after only 10 years?\n"
   ]
  },
  {
   "cell_type": "code",
   "execution_count": 138,
   "metadata": {},
   "outputs": [
    {
     "data": {
      "text/html": [
       "<div>\n",
       "<style scoped>\n",
       "    .dataframe tbody tr th:only-of-type {\n",
       "        vertical-align: middle;\n",
       "    }\n",
       "\n",
       "    .dataframe tbody tr th {\n",
       "        vertical-align: top;\n",
       "    }\n",
       "\n",
       "    .dataframe thead tr th {\n",
       "        text-align: left;\n",
       "    }\n",
       "\n",
       "    .dataframe thead tr:last-of-type th {\n",
       "        text-align: right;\n",
       "    }\n",
       "</style>\n",
       "<table border=\"1\" class=\"dataframe\">\n",
       "  <thead>\n",
       "    <tr>\n",
       "      <th></th>\n",
       "      <th colspan=\"6\" halign=\"left\">AGG</th>\n",
       "      <th colspan=\"6\" halign=\"left\">SPY</th>\n",
       "    </tr>\n",
       "    <tr>\n",
       "      <th></th>\n",
       "      <th>open</th>\n",
       "      <th>high</th>\n",
       "      <th>low</th>\n",
       "      <th>close</th>\n",
       "      <th>volume</th>\n",
       "      <th>daily_return</th>\n",
       "      <th>open</th>\n",
       "      <th>high</th>\n",
       "      <th>low</th>\n",
       "      <th>close</th>\n",
       "      <th>volume</th>\n",
       "      <th>daily_return</th>\n",
       "    </tr>\n",
       "    <tr>\n",
       "      <th>time</th>\n",
       "      <th></th>\n",
       "      <th></th>\n",
       "      <th></th>\n",
       "      <th></th>\n",
       "      <th></th>\n",
       "      <th></th>\n",
       "      <th></th>\n",
       "      <th></th>\n",
       "      <th></th>\n",
       "      <th></th>\n",
       "      <th></th>\n",
       "      <th></th>\n",
       "    </tr>\n",
       "  </thead>\n",
       "  <tbody>\n",
       "    <tr>\n",
       "      <th>2018-02-16 00:00:00-05:00</th>\n",
       "      <td>106.85</td>\n",
       "      <td>106.8750</td>\n",
       "      <td>106.7100</td>\n",
       "      <td>106.81</td>\n",
       "      <td>3391074</td>\n",
       "      <td>NaN</td>\n",
       "      <td>272.31</td>\n",
       "      <td>275.32</td>\n",
       "      <td>272.27</td>\n",
       "      <td>273.09</td>\n",
       "      <td>76314679</td>\n",
       "      <td>NaN</td>\n",
       "    </tr>\n",
       "    <tr>\n",
       "      <th>2018-02-20 00:00:00-05:00</th>\n",
       "      <td>106.69</td>\n",
       "      <td>106.7099</td>\n",
       "      <td>106.5501</td>\n",
       "      <td>106.68</td>\n",
       "      <td>2372055</td>\n",
       "      <td>-0.001217</td>\n",
       "      <td>272.03</td>\n",
       "      <td>273.67</td>\n",
       "      <td>264.84</td>\n",
       "      <td>271.43</td>\n",
       "      <td>54829423</td>\n",
       "      <td>-0.006079</td>\n",
       "    </tr>\n",
       "    <tr>\n",
       "      <th>2018-02-21 00:00:00-05:00</th>\n",
       "      <td>106.77</td>\n",
       "      <td>106.8000</td>\n",
       "      <td>106.2601</td>\n",
       "      <td>106.30</td>\n",
       "      <td>3017853</td>\n",
       "      <td>-0.003562</td>\n",
       "      <td>271.90</td>\n",
       "      <td>274.72</td>\n",
       "      <td>269.98</td>\n",
       "      <td>270.00</td>\n",
       "      <td>67813909</td>\n",
       "      <td>-0.005268</td>\n",
       "    </tr>\n",
       "    <tr>\n",
       "      <th>2018-02-22 00:00:00-05:00</th>\n",
       "      <td>106.49</td>\n",
       "      <td>106.5600</td>\n",
       "      <td>106.3600</td>\n",
       "      <td>106.36</td>\n",
       "      <td>2150355</td>\n",
       "      <td>0.000564</td>\n",
       "      <td>271.09</td>\n",
       "      <td>273.05</td>\n",
       "      <td>269.64</td>\n",
       "      <td>270.32</td>\n",
       "      <td>65771832</td>\n",
       "      <td>0.001185</td>\n",
       "    </tr>\n",
       "    <tr>\n",
       "      <th>2018-02-23 00:00:00-05:00</th>\n",
       "      <td>106.61</td>\n",
       "      <td>106.7600</td>\n",
       "      <td>106.5650</td>\n",
       "      <td>106.69</td>\n",
       "      <td>2113324</td>\n",
       "      <td>0.003103</td>\n",
       "      <td>271.81</td>\n",
       "      <td>274.70</td>\n",
       "      <td>271.25</td>\n",
       "      <td>274.69</td>\n",
       "      <td>54742759</td>\n",
       "      <td>0.016166</td>\n",
       "    </tr>\n",
       "  </tbody>\n",
       "</table>\n",
       "</div>"
      ],
      "text/plain": [
       "                              AGG                                       \\\n",
       "                             open      high       low   close   volume   \n",
       "time                                                                     \n",
       "2018-02-16 00:00:00-05:00  106.85  106.8750  106.7100  106.81  3391074   \n",
       "2018-02-20 00:00:00-05:00  106.69  106.7099  106.5501  106.68  2372055   \n",
       "2018-02-21 00:00:00-05:00  106.77  106.8000  106.2601  106.30  3017853   \n",
       "2018-02-22 00:00:00-05:00  106.49  106.5600  106.3600  106.36  2150355   \n",
       "2018-02-23 00:00:00-05:00  106.61  106.7600  106.5650  106.69  2113324   \n",
       "\n",
       "                                           SPY                          \\\n",
       "                          daily_return    open    high     low   close   \n",
       "time                                                                     \n",
       "2018-02-16 00:00:00-05:00          NaN  272.31  275.32  272.27  273.09   \n",
       "2018-02-20 00:00:00-05:00    -0.001217  272.03  273.67  264.84  271.43   \n",
       "2018-02-21 00:00:00-05:00    -0.003562  271.90  274.72  269.98  270.00   \n",
       "2018-02-22 00:00:00-05:00     0.000564  271.09  273.05  269.64  270.32   \n",
       "2018-02-23 00:00:00-05:00     0.003103  271.81  274.70  271.25  274.69   \n",
       "\n",
       "                                                  \n",
       "                             volume daily_return  \n",
       "time                                              \n",
       "2018-02-16 00:00:00-05:00  76314679          NaN  \n",
       "2018-02-20 00:00:00-05:00  54829423    -0.006079  \n",
       "2018-02-21 00:00:00-05:00  67813909    -0.005268  \n",
       "2018-02-22 00:00:00-05:00  65771832     0.001185  \n",
       "2018-02-23 00:00:00-05:00  54742759     0.016166  "
      ]
     },
     "execution_count": 138,
     "metadata": {},
     "output_type": "execute_result"
    }
   ],
   "source": [
    "# Configure a Monte Carlo simulation to forecast 10 years cumulative returns\n",
    "# The weights should be split 20% to AGG and 80% to SPY.\n",
    "# Run 500 samples.\n",
    "Mc_10years = MCSimulation(\n",
    "    portfolio_data = prices_df,\n",
    "    weights = [.2,.8],\n",
    "    num_simulation = 500,\n",
    "    num_trading_days = 252*10\n",
    ")\n",
    "\n",
    "# Review the simulation input data\n",
    "Mc_10years.portfolio_data.head()\n"
   ]
  },
  {
   "cell_type": "code",
   "execution_count": 139,
   "metadata": {},
   "outputs": [
    {
     "name": "stdout",
     "output_type": "stream",
     "text": [
      "Running Monte Carlo simulation number 0.\n",
      "Running Monte Carlo simulation number 10.\n",
      "Running Monte Carlo simulation number 20.\n",
      "Running Monte Carlo simulation number 30.\n",
      "Running Monte Carlo simulation number 40.\n",
      "Running Monte Carlo simulation number 50.\n",
      "Running Monte Carlo simulation number 60.\n",
      "Running Monte Carlo simulation number 70.\n",
      "Running Monte Carlo simulation number 80.\n",
      "Running Monte Carlo simulation number 90.\n",
      "Running Monte Carlo simulation number 100.\n"
     ]
    },
    {
     "name": "stderr",
     "output_type": "stream",
     "text": [
      "/Users/baite/Desktop/chal/MCForecastTools.py:117: PerformanceWarning: DataFrame is highly fragmented.  This is usually the result of calling `frame.insert` many times, which has poor performance.  Consider joining all columns at once using pd.concat(axis=1) instead.  To get a de-fragmented frame, use `newframe = frame.copy()`\n",
      "  portfolio_cumulative_returns[n] = (1 + sim_df.fillna(0)).cumprod()\n"
     ]
    },
    {
     "name": "stdout",
     "output_type": "stream",
     "text": [
      "Running Monte Carlo simulation number 110.\n",
      "Running Monte Carlo simulation number 120.\n",
      "Running Monte Carlo simulation number 130.\n",
      "Running Monte Carlo simulation number 140.\n",
      "Running Monte Carlo simulation number 150.\n",
      "Running Monte Carlo simulation number 160.\n",
      "Running Monte Carlo simulation number 170.\n",
      "Running Monte Carlo simulation number 180.\n",
      "Running Monte Carlo simulation number 190.\n",
      "Running Monte Carlo simulation number 200.\n",
      "Running Monte Carlo simulation number 210.\n",
      "Running Monte Carlo simulation number 220.\n",
      "Running Monte Carlo simulation number 230.\n",
      "Running Monte Carlo simulation number 240.\n",
      "Running Monte Carlo simulation number 250.\n",
      "Running Monte Carlo simulation number 260.\n",
      "Running Monte Carlo simulation number 270.\n",
      "Running Monte Carlo simulation number 280.\n",
      "Running Monte Carlo simulation number 290.\n",
      "Running Monte Carlo simulation number 300.\n",
      "Running Monte Carlo simulation number 310.\n",
      "Running Monte Carlo simulation number 320.\n",
      "Running Monte Carlo simulation number 330.\n",
      "Running Monte Carlo simulation number 340.\n",
      "Running Monte Carlo simulation number 350.\n",
      "Running Monte Carlo simulation number 360.\n",
      "Running Monte Carlo simulation number 370.\n",
      "Running Monte Carlo simulation number 380.\n",
      "Running Monte Carlo simulation number 390.\n",
      "Running Monte Carlo simulation number 400.\n",
      "Running Monte Carlo simulation number 410.\n",
      "Running Monte Carlo simulation number 420.\n",
      "Running Monte Carlo simulation number 430.\n",
      "Running Monte Carlo simulation number 440.\n",
      "Running Monte Carlo simulation number 450.\n",
      "Running Monte Carlo simulation number 460.\n",
      "Running Monte Carlo simulation number 470.\n",
      "Running Monte Carlo simulation number 480.\n",
      "Running Monte Carlo simulation number 490.\n"
     ]
    },
    {
     "data": {
      "text/html": [
       "<div>\n",
       "<style scoped>\n",
       "    .dataframe tbody tr th:only-of-type {\n",
       "        vertical-align: middle;\n",
       "    }\n",
       "\n",
       "    .dataframe tbody tr th {\n",
       "        vertical-align: top;\n",
       "    }\n",
       "\n",
       "    .dataframe thead th {\n",
       "        text-align: right;\n",
       "    }\n",
       "</style>\n",
       "<table border=\"1\" class=\"dataframe\">\n",
       "  <thead>\n",
       "    <tr style=\"text-align: right;\">\n",
       "      <th></th>\n",
       "      <th>0</th>\n",
       "      <th>1</th>\n",
       "      <th>2</th>\n",
       "      <th>3</th>\n",
       "      <th>4</th>\n",
       "      <th>5</th>\n",
       "      <th>6</th>\n",
       "      <th>7</th>\n",
       "      <th>8</th>\n",
       "      <th>9</th>\n",
       "      <th>...</th>\n",
       "      <th>490</th>\n",
       "      <th>491</th>\n",
       "      <th>492</th>\n",
       "      <th>493</th>\n",
       "      <th>494</th>\n",
       "      <th>495</th>\n",
       "      <th>496</th>\n",
       "      <th>497</th>\n",
       "      <th>498</th>\n",
       "      <th>499</th>\n",
       "    </tr>\n",
       "  </thead>\n",
       "  <tbody>\n",
       "    <tr>\n",
       "      <th>0</th>\n",
       "      <td>1.000000</td>\n",
       "      <td>1.000000</td>\n",
       "      <td>1.000000</td>\n",
       "      <td>1.000000</td>\n",
       "      <td>1.000000</td>\n",
       "      <td>1.000000</td>\n",
       "      <td>1.000000</td>\n",
       "      <td>1.000000</td>\n",
       "      <td>1.000000</td>\n",
       "      <td>1.000000</td>\n",
       "      <td>...</td>\n",
       "      <td>1.000000</td>\n",
       "      <td>1.000000</td>\n",
       "      <td>1.000000</td>\n",
       "      <td>1.000000</td>\n",
       "      <td>1.000000</td>\n",
       "      <td>1.000000</td>\n",
       "      <td>1.000000</td>\n",
       "      <td>1.000000</td>\n",
       "      <td>1.000000</td>\n",
       "      <td>1.000000</td>\n",
       "    </tr>\n",
       "    <tr>\n",
       "      <th>1</th>\n",
       "      <td>1.006573</td>\n",
       "      <td>0.997977</td>\n",
       "      <td>1.021301</td>\n",
       "      <td>1.002164</td>\n",
       "      <td>0.993990</td>\n",
       "      <td>0.986064</td>\n",
       "      <td>1.014245</td>\n",
       "      <td>0.988932</td>\n",
       "      <td>0.991765</td>\n",
       "      <td>0.995501</td>\n",
       "      <td>...</td>\n",
       "      <td>0.986408</td>\n",
       "      <td>1.002280</td>\n",
       "      <td>0.994536</td>\n",
       "      <td>0.993958</td>\n",
       "      <td>1.004484</td>\n",
       "      <td>1.008260</td>\n",
       "      <td>1.017938</td>\n",
       "      <td>1.001041</td>\n",
       "      <td>1.014289</td>\n",
       "      <td>1.017565</td>\n",
       "    </tr>\n",
       "    <tr>\n",
       "      <th>2</th>\n",
       "      <td>0.997100</td>\n",
       "      <td>0.974964</td>\n",
       "      <td>1.022461</td>\n",
       "      <td>1.009399</td>\n",
       "      <td>0.991503</td>\n",
       "      <td>0.980562</td>\n",
       "      <td>1.012079</td>\n",
       "      <td>0.982750</td>\n",
       "      <td>0.995426</td>\n",
       "      <td>0.985140</td>\n",
       "      <td>...</td>\n",
       "      <td>0.986580</td>\n",
       "      <td>0.977668</td>\n",
       "      <td>0.992145</td>\n",
       "      <td>0.986134</td>\n",
       "      <td>0.998784</td>\n",
       "      <td>1.019890</td>\n",
       "      <td>1.016995</td>\n",
       "      <td>0.999199</td>\n",
       "      <td>1.022321</td>\n",
       "      <td>1.034160</td>\n",
       "    </tr>\n",
       "    <tr>\n",
       "      <th>3</th>\n",
       "      <td>0.984598</td>\n",
       "      <td>0.995400</td>\n",
       "      <td>1.019504</td>\n",
       "      <td>1.005572</td>\n",
       "      <td>0.985807</td>\n",
       "      <td>0.977242</td>\n",
       "      <td>0.995067</td>\n",
       "      <td>0.986687</td>\n",
       "      <td>0.975881</td>\n",
       "      <td>0.983378</td>\n",
       "      <td>...</td>\n",
       "      <td>0.975855</td>\n",
       "      <td>0.967883</td>\n",
       "      <td>0.962420</td>\n",
       "      <td>0.992949</td>\n",
       "      <td>1.011365</td>\n",
       "      <td>1.023582</td>\n",
       "      <td>1.033505</td>\n",
       "      <td>1.002322</td>\n",
       "      <td>1.018910</td>\n",
       "      <td>1.045070</td>\n",
       "    </tr>\n",
       "    <tr>\n",
       "      <th>4</th>\n",
       "      <td>0.987297</td>\n",
       "      <td>0.993160</td>\n",
       "      <td>1.025013</td>\n",
       "      <td>1.014803</td>\n",
       "      <td>0.982200</td>\n",
       "      <td>0.978404</td>\n",
       "      <td>0.999827</td>\n",
       "      <td>0.981768</td>\n",
       "      <td>0.982288</td>\n",
       "      <td>0.982652</td>\n",
       "      <td>...</td>\n",
       "      <td>0.974111</td>\n",
       "      <td>0.969132</td>\n",
       "      <td>0.948391</td>\n",
       "      <td>1.002236</td>\n",
       "      <td>1.015301</td>\n",
       "      <td>1.022031</td>\n",
       "      <td>1.043035</td>\n",
       "      <td>1.004590</td>\n",
       "      <td>1.017388</td>\n",
       "      <td>1.066752</td>\n",
       "    </tr>\n",
       "    <tr>\n",
       "      <th>...</th>\n",
       "      <td>...</td>\n",
       "      <td>...</td>\n",
       "      <td>...</td>\n",
       "      <td>...</td>\n",
       "      <td>...</td>\n",
       "      <td>...</td>\n",
       "      <td>...</td>\n",
       "      <td>...</td>\n",
       "      <td>...</td>\n",
       "      <td>...</td>\n",
       "      <td>...</td>\n",
       "      <td>...</td>\n",
       "      <td>...</td>\n",
       "      <td>...</td>\n",
       "      <td>...</td>\n",
       "      <td>...</td>\n",
       "      <td>...</td>\n",
       "      <td>...</td>\n",
       "      <td>...</td>\n",
       "      <td>...</td>\n",
       "      <td>...</td>\n",
       "    </tr>\n",
       "    <tr>\n",
       "      <th>2516</th>\n",
       "      <td>2.020952</td>\n",
       "      <td>5.086164</td>\n",
       "      <td>4.746249</td>\n",
       "      <td>2.675633</td>\n",
       "      <td>4.137492</td>\n",
       "      <td>2.838649</td>\n",
       "      <td>9.736106</td>\n",
       "      <td>2.142409</td>\n",
       "      <td>2.816173</td>\n",
       "      <td>2.235729</td>\n",
       "      <td>...</td>\n",
       "      <td>2.936919</td>\n",
       "      <td>6.387925</td>\n",
       "      <td>1.605453</td>\n",
       "      <td>1.349028</td>\n",
       "      <td>1.853000</td>\n",
       "      <td>1.314138</td>\n",
       "      <td>5.222834</td>\n",
       "      <td>3.833622</td>\n",
       "      <td>2.714803</td>\n",
       "      <td>3.383406</td>\n",
       "    </tr>\n",
       "    <tr>\n",
       "      <th>2517</th>\n",
       "      <td>2.033255</td>\n",
       "      <td>5.080899</td>\n",
       "      <td>4.754359</td>\n",
       "      <td>2.692218</td>\n",
       "      <td>4.109091</td>\n",
       "      <td>2.893415</td>\n",
       "      <td>9.534326</td>\n",
       "      <td>2.130806</td>\n",
       "      <td>2.817076</td>\n",
       "      <td>2.237092</td>\n",
       "      <td>...</td>\n",
       "      <td>2.954988</td>\n",
       "      <td>6.422757</td>\n",
       "      <td>1.617615</td>\n",
       "      <td>1.356252</td>\n",
       "      <td>1.851554</td>\n",
       "      <td>1.308413</td>\n",
       "      <td>5.317012</td>\n",
       "      <td>3.843497</td>\n",
       "      <td>2.752188</td>\n",
       "      <td>3.367536</td>\n",
       "    </tr>\n",
       "    <tr>\n",
       "      <th>2518</th>\n",
       "      <td>2.033993</td>\n",
       "      <td>5.053528</td>\n",
       "      <td>4.678331</td>\n",
       "      <td>2.683151</td>\n",
       "      <td>4.163436</td>\n",
       "      <td>2.898698</td>\n",
       "      <td>9.607072</td>\n",
       "      <td>2.115694</td>\n",
       "      <td>2.821111</td>\n",
       "      <td>2.231118</td>\n",
       "      <td>...</td>\n",
       "      <td>2.986133</td>\n",
       "      <td>6.447471</td>\n",
       "      <td>1.625496</td>\n",
       "      <td>1.365765</td>\n",
       "      <td>1.851183</td>\n",
       "      <td>1.272376</td>\n",
       "      <td>5.289648</td>\n",
       "      <td>3.749100</td>\n",
       "      <td>2.736100</td>\n",
       "      <td>3.327014</td>\n",
       "    </tr>\n",
       "    <tr>\n",
       "      <th>2519</th>\n",
       "      <td>2.040570</td>\n",
       "      <td>5.025188</td>\n",
       "      <td>4.632833</td>\n",
       "      <td>2.699822</td>\n",
       "      <td>4.186135</td>\n",
       "      <td>2.941107</td>\n",
       "      <td>9.529637</td>\n",
       "      <td>2.131812</td>\n",
       "      <td>2.816027</td>\n",
       "      <td>2.234536</td>\n",
       "      <td>...</td>\n",
       "      <td>3.006985</td>\n",
       "      <td>6.319906</td>\n",
       "      <td>1.629364</td>\n",
       "      <td>1.381223</td>\n",
       "      <td>1.830576</td>\n",
       "      <td>1.272056</td>\n",
       "      <td>5.279076</td>\n",
       "      <td>3.787764</td>\n",
       "      <td>2.712928</td>\n",
       "      <td>3.430184</td>\n",
       "    </tr>\n",
       "    <tr>\n",
       "      <th>2520</th>\n",
       "      <td>2.069553</td>\n",
       "      <td>5.114412</td>\n",
       "      <td>4.562627</td>\n",
       "      <td>2.709406</td>\n",
       "      <td>4.160788</td>\n",
       "      <td>2.910212</td>\n",
       "      <td>9.574696</td>\n",
       "      <td>2.159968</td>\n",
       "      <td>2.734656</td>\n",
       "      <td>2.228460</td>\n",
       "      <td>...</td>\n",
       "      <td>3.050014</td>\n",
       "      <td>6.265943</td>\n",
       "      <td>1.611467</td>\n",
       "      <td>1.385035</td>\n",
       "      <td>1.848047</td>\n",
       "      <td>1.253828</td>\n",
       "      <td>5.275687</td>\n",
       "      <td>3.790043</td>\n",
       "      <td>2.707268</td>\n",
       "      <td>3.393089</td>\n",
       "    </tr>\n",
       "  </tbody>\n",
       "</table>\n",
       "<p>2521 rows × 500 columns</p>\n",
       "</div>"
      ],
      "text/plain": [
       "           0         1         2         3         4         5         6    \\\n",
       "0     1.000000  1.000000  1.000000  1.000000  1.000000  1.000000  1.000000   \n",
       "1     1.006573  0.997977  1.021301  1.002164  0.993990  0.986064  1.014245   \n",
       "2     0.997100  0.974964  1.022461  1.009399  0.991503  0.980562  1.012079   \n",
       "3     0.984598  0.995400  1.019504  1.005572  0.985807  0.977242  0.995067   \n",
       "4     0.987297  0.993160  1.025013  1.014803  0.982200  0.978404  0.999827   \n",
       "...        ...       ...       ...       ...       ...       ...       ...   \n",
       "2516  2.020952  5.086164  4.746249  2.675633  4.137492  2.838649  9.736106   \n",
       "2517  2.033255  5.080899  4.754359  2.692218  4.109091  2.893415  9.534326   \n",
       "2518  2.033993  5.053528  4.678331  2.683151  4.163436  2.898698  9.607072   \n",
       "2519  2.040570  5.025188  4.632833  2.699822  4.186135  2.941107  9.529637   \n",
       "2520  2.069553  5.114412  4.562627  2.709406  4.160788  2.910212  9.574696   \n",
       "\n",
       "           7         8         9    ...       490       491       492  \\\n",
       "0     1.000000  1.000000  1.000000  ...  1.000000  1.000000  1.000000   \n",
       "1     0.988932  0.991765  0.995501  ...  0.986408  1.002280  0.994536   \n",
       "2     0.982750  0.995426  0.985140  ...  0.986580  0.977668  0.992145   \n",
       "3     0.986687  0.975881  0.983378  ...  0.975855  0.967883  0.962420   \n",
       "4     0.981768  0.982288  0.982652  ...  0.974111  0.969132  0.948391   \n",
       "...        ...       ...       ...  ...       ...       ...       ...   \n",
       "2516  2.142409  2.816173  2.235729  ...  2.936919  6.387925  1.605453   \n",
       "2517  2.130806  2.817076  2.237092  ...  2.954988  6.422757  1.617615   \n",
       "2518  2.115694  2.821111  2.231118  ...  2.986133  6.447471  1.625496   \n",
       "2519  2.131812  2.816027  2.234536  ...  3.006985  6.319906  1.629364   \n",
       "2520  2.159968  2.734656  2.228460  ...  3.050014  6.265943  1.611467   \n",
       "\n",
       "           493       494       495       496       497       498       499  \n",
       "0     1.000000  1.000000  1.000000  1.000000  1.000000  1.000000  1.000000  \n",
       "1     0.993958  1.004484  1.008260  1.017938  1.001041  1.014289  1.017565  \n",
       "2     0.986134  0.998784  1.019890  1.016995  0.999199  1.022321  1.034160  \n",
       "3     0.992949  1.011365  1.023582  1.033505  1.002322  1.018910  1.045070  \n",
       "4     1.002236  1.015301  1.022031  1.043035  1.004590  1.017388  1.066752  \n",
       "...        ...       ...       ...       ...       ...       ...       ...  \n",
       "2516  1.349028  1.853000  1.314138  5.222834  3.833622  2.714803  3.383406  \n",
       "2517  1.356252  1.851554  1.308413  5.317012  3.843497  2.752188  3.367536  \n",
       "2518  1.365765  1.851183  1.272376  5.289648  3.749100  2.736100  3.327014  \n",
       "2519  1.381223  1.830576  1.272056  5.279076  3.787764  2.712928  3.430184  \n",
       "2520  1.385035  1.848047  1.253828  5.275687  3.790043  2.707268  3.393089  \n",
       "\n",
       "[2521 rows x 500 columns]"
      ]
     },
     "execution_count": 139,
     "metadata": {},
     "output_type": "execute_result"
    }
   ],
   "source": [
    "# Run the Monte Carlo simulation to forecast 10 years cumulative return\n",
    "Mc_10years.calc_cumulative_return()\n"
   ]
  },
  {
   "cell_type": "code",
   "execution_count": 140,
   "metadata": {},
   "outputs": [
    {
     "data": {
      "image/png": "[encoded data removed]",
      "text/plain": [
       "<Figure size 432x288 with 1 Axes>"
      ]
     },
     "metadata": {
      "needs_background": "light"
     },
     "output_type": "display_data"
    }
   ],
   "source": [
    "# Visualize the 10-year Monte Carlo simulation by creating an\n",
    "# overlay line plot\n",
    "Mc_10years_simulations = Mc_10years.plot_simulation()\n"
   ]
  },
  {
   "cell_type": "code",
   "execution_count": 141,
   "metadata": {},
   "outputs": [
    {
     "data": {
      "image/png": "[encoded data removed]",
      "text/plain": [
       "<Figure size 432x288 with 1 Axes>"
      ]
     },
     "metadata": {
      "needs_background": "light"
     },
     "output_type": "display_data"
    }
   ],
   "source": [
    "# Visualize the probability distribution of the 10-year Monte Carlo simulation \n",
    "# by plotting a histogram\n",
    "Mc_10years_distribution = Mc_10years.plot_distribution()\n"
   ]
  },
  {
   "cell_type": "code",
   "execution_count": 142,
   "metadata": {},
   "outputs": [
    {
     "name": "stdout",
     "output_type": "stream",
     "text": [
      "count           500.000000\n",
      "mean              3.292175\n",
      "std               1.817737\n",
      "min               0.519658\n",
      "25%               1.948919\n",
      "50%               2.862145\n",
      "75%               4.211434\n",
      "max              13.136540\n",
      "95% CI Lower      1.011383\n",
      "95% CI Upper      7.649422\n",
      "Name: 2520, dtype: float64\n"
     ]
    }
   ],
   "source": [
    "# Generate summary statistics from the 10-year Monte Carlo simulation results\n",
    "# Save the results as a variable\n",
    "Mc_10years_summary_table = Mc_10years.summarize_cumulative_return()\n",
    "\n",
    "\n",
    "# Review the 10-year Monte Carlo summary statistics\n",
    "print(Mc_10years_summary_table)"
   ]
  },
  {
   "cell_type": "markdown",
   "metadata": {},
   "source": [
    "### Answer the following questions:"
   ]
  },
  {
   "cell_type": "markdown",
   "metadata": {},
   "source": [
    "#### Question: Using the current value of only the stock and bond portion of the member's portfolio and the summary statistics that you generated from the new Monte Carlo simulation, what are the lower and upper bounds for the expected value of the portfolio (with the new weights) with a 95% confidence interval?"
   ]
  },
  {
   "cell_type": "code",
   "execution_count": 143,
   "metadata": {},
   "outputs": [
    {
     "name": "stdout",
     "output_type": "stream",
     "text": [
      "The current balance of the stock and bond portion of the members portfolio $51401.899999999994\n"
     ]
    }
   ],
   "source": [
    "# Print the current balance of the stock and bond portion of the members portfolio\n",
    "print(f\"The current balance of the stock and bond portion of the members portfolio ${total_stocks_bonds}\")\n"
   ]
  },
  {
   "cell_type": "code",
   "execution_count": 144,
   "metadata": {},
   "outputs": [
    {
     "name": "stdout",
     "output_type": "stream",
     "text": [
      "There is a 95% chance that the range of the possible outcomes for the current stock/bond portfolio will end within in the range of $51987 and $393195.\n"
     ]
    }
   ],
   "source": [
    "# Use the lower and upper `95%` confidence intervals to calculate the range of the possible outcomes for the current stock/bond portfolio\n",
    "ci_lower_ten_cumulative_return = round(Mc_10years_summary_table[8]*total_stocks_bonds)\n",
    "ci_upper_ten_cumulative_return = round(Mc_10years_summary_table[9]*total_stocks_bonds)\n",
    "\n",
    "# Print the result of your calculations\n",
    "print(f\"There is a 95% chance that the range of the possible outcomes for the current stock/bond portfolio\"\n",
    "      f\" will end within in the range of\"\n",
    "      f\" ${ci_lower_ten_cumulative_return} and ${ci_upper_ten_cumulative_return}.\")\n"
   ]
  },
  {
   "cell_type": "markdown",
   "metadata": {},
   "source": [
    "#### Question: Will weighting the portfolio more heavily to stocks allow the credit union members to retire after only 10 years?"
   ]
  },
  {
   "cell_type": "raw",
   "metadata": {},
   "source": [
    "**Answer** # YOUR ANSWER HERE"
   ]
  },
  {
   "cell_type": "code",
   "execution_count": null,
   "metadata": {},
   "outputs": [],
   "source": [
    "Weighting the portfolio more heavily to stock "
   ]
  }
 ],
 "metadata": {
  "kernelspec": {
   "display_name": "python (dev)",
   "language": "python",
   "name": "dev"
  },
  "language_info": {
   "codemirror_mode": {
    "name": "ipython",
    "version": 3
   },
   "file_extension": ".py",
   "mimetype": "text/x-python",
   "name": "python",
   "nbconvert_exporter": "python",
   "pygments_lexer": "ipython3",
   "version": "3.7.11"
  }
 },
 "nbformat": 4,
 "nbformat_minor": 4
}
